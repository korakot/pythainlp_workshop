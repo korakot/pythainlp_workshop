{
  "nbformat": 4,
  "nbformat_minor": 0,
  "metadata": {
    "colab": {
      "name": "children day motto dek.ipynb",
      "provenance": [],
      "collapsed_sections": [
        "CfmhL4a2QeCv",
        "evMJlUaORB-M",
        "usLwz_LCQq_X",
        "zVL8QMHjTQzy",
        "N-NrhqovTUsh",
        "pUSzY5IZWxjN"
      ],
      "include_colab_link": true
    },
    "kernelspec": {
      "name": "python3",
      "display_name": "Python 3"
    }
  },
  "cells": [
    {
      "cell_type": "markdown",
      "metadata": {
        "id": "view-in-github",
        "colab_type": "text"
      },
      "source": [
        "<a href=\"https://colab.research.google.com/github/korakot/pythainlp_workshop/blob/master/notebooks/children_day_motto_dek.ipynb\" target=\"_parent\"><img src=\"https://colab.research.google.com/assets/colab-badge.svg\" alt=\"Open In Colab\"/></a>"
      ]
    },
    {
      "cell_type": "markdown",
      "metadata": {
        "id": "OWIeCWbyJbog",
        "colab_type": "text"
      },
      "source": [
        "เห็น [งานวิเคราะห์อันนี้](https://facebook.com/736738277/posts/10158040605708278) เลยอยากทำบ้าง"
      ]
    },
    {
      "cell_type": "markdown",
      "metadata": {
        "id": "z7ICOUzvJzbR",
        "colab_type": "text"
      },
      "source": [
        "เอา data จาก [ข่าวสด](https://www.khaosod.co.th/special-stories/news_2076271)"
      ]
    },
    {
      "cell_type": "markdown",
      "metadata": {
        "id": "CfmhL4a2QeCv",
        "colab_type": "text"
      },
      "source": [
        "## Import, install"
      ]
    },
    {
      "cell_type": "code",
      "metadata": {
        "id": "obHY_P3XQBmI",
        "colab_type": "code",
        "colab": {}
      },
      "source": [
        "import pandas as pd\n",
        "from collections import Counter"
      ],
      "execution_count": 0,
      "outputs": []
    },
    {
      "cell_type": "code",
      "metadata": {
        "id": "plo6og3tP_GF",
        "colab_type": "code",
        "colab": {}
      },
      "source": [
        "%load_ext google.colab.data_table"
      ],
      "execution_count": 0,
      "outputs": []
    },
    {
      "cell_type": "code",
      "metadata": {
        "id": "5py62x4bQNTH",
        "colab_type": "code",
        "colab": {}
      },
      "source": [
        "!pip install --pre pythainlp"
      ],
      "execution_count": 0,
      "outputs": []
    },
    {
      "cell_type": "code",
      "metadata": {
        "id": "4S6aiR2VQYFn",
        "colab_type": "code",
        "colab": {}
      },
      "source": [
        "import pythainlp\n",
        "from pythainlp import word_tokenize, Tokenizer"
      ],
      "execution_count": 0,
      "outputs": []
    },
    {
      "cell_type": "code",
      "metadata": {
        "id": "i0wwxEEhJV4a",
        "colab_type": "code",
        "colab": {}
      },
      "source": [
        "from requests import get\n",
        "from bs4 import BeautifulSoup"
      ],
      "execution_count": 0,
      "outputs": []
    },
    {
      "cell_type": "markdown",
      "metadata": {
        "id": "Ve7Zj1_xQgQU",
        "colab_type": "text"
      },
      "source": [
        "## Load data"
      ]
    },
    {
      "cell_type": "code",
      "metadata": {
        "id": "YPNDZ4DwKAoc",
        "colab_type": "code",
        "outputId": "c40490f7-315e-47e7-83a7-db371ddd0149",
        "colab": {
          "base_uri": "https://localhost:8080/",
          "height": 35
        }
      },
      "source": [
        "url = 'https://www.khaosod.co.th/special-stories/news_2076271'\n",
        "r = get(url)\n",
        "soup = BeautifulSoup(r.text)\n",
        "content = soup.find('div', 'td-post-content')\n",
        "len(content.select('h3'))  # นายก 19 คน"
      ],
      "execution_count": 0,
      "outputs": [
        {
          "output_type": "execute_result",
          "data": {
            "text/plain": [
              "19"
            ]
          },
          "metadata": {
            "tags": []
          },
          "execution_count": 2
        }
      ]
    },
    {
      "cell_type": "code",
      "metadata": {
        "id": "ZxGZOfXlKiIK",
        "colab_type": "code",
        "outputId": "73380577-c029-45a0-ac96-ed4a936574ae",
        "colab": {
          "base_uri": "https://localhost:8080/",
          "height": 35
        }
      },
      "source": [
        "h3 = content.h3\n",
        "h3"
      ],
      "execution_count": 0,
      "outputs": [
        {
          "output_type": "execute_result",
          "data": {
            "text/plain": [
              "<h3><strong>จอมพล ป. พิบูลสงคราม</strong></h3>"
            ]
          },
          "metadata": {
            "tags": []
          },
          "execution_count": 10
        }
      ]
    },
    {
      "cell_type": "code",
      "metadata": {
        "id": "yGHRHbGfLAJ0",
        "colab_type": "code",
        "outputId": "f47f509d-15fa-4e96-fe09-96851f2326f7",
        "colab": {
          "base_uri": "https://localhost:8080/",
          "height": 69
        }
      },
      "source": [
        "h3.find_next('ul')"
      ],
      "execution_count": 0,
      "outputs": [
        {
          "output_type": "execute_result",
          "data": {
            "text/plain": [
              "<ul>\n",
              "<li>พ.ศ. 2499 : จงบำเพ็ญตนให้เป็นประโยชน์ส่วนรวมแก่ผู้อื่น</li>\n",
              "</ul>"
            ]
          },
          "metadata": {
            "tags": []
          },
          "execution_count": 9
        }
      ]
    },
    {
      "cell_type": "code",
      "metadata": {
        "id": "s8LaIUujMEbP",
        "colab_type": "code",
        "outputId": "16bfc369-b9c4-4c26-d406-7ddef7abc497",
        "colab": {
          "base_uri": "https://localhost:8080/",
          "height": 35
        }
      },
      "source": [
        "li = h3.find_next('ul').li\n",
        "li.text.split(maxsplit=3)"
      ],
      "execution_count": 0,
      "outputs": [
        {
          "output_type": "execute_result",
          "data": {
            "text/plain": [
              "['พ.ศ.', '2499', ':', 'จงบำเพ็ญตนให้เป็นประโยชน์ส่วนรวมแก่ผู้อื่น']"
            ]
          },
          "metadata": {
            "tags": []
          },
          "execution_count": 11
        }
      ]
    },
    {
      "cell_type": "code",
      "metadata": {
        "id": "tx0IX7qZLEmW",
        "colab_type": "code",
        "colab": {}
      },
      "source": [
        "def gen_data():\n",
        "  for h3 in content.select('h3'):\n",
        "    pm = h3.text \n",
        "    for li in h3.find_next('ul').select('li'):\n",
        "      _, year, _, motto = li.text.split(maxsplit=3)\n",
        "      yield int(year), motto, pm"
      ],
      "execution_count": 0,
      "outputs": []
    },
    {
      "cell_type": "code",
      "metadata": {
        "id": "zSZNtlVdMSHo",
        "colab_type": "code",
        "outputId": "a9848927-6fb9-49cf-9f0e-c780378a9289",
        "colab": {
          "base_uri": "https://localhost:8080/",
          "height": 35
        }
      },
      "source": [
        "data = list(gen_data())\n",
        "len(data)"
      ],
      "execution_count": 0,
      "outputs": [
        {
          "output_type": "execute_result",
          "data": {
            "text/plain": [
              "60"
            ]
          },
          "metadata": {
            "tags": []
          },
          "execution_count": 20
        }
      ]
    },
    {
      "cell_type": "code",
      "metadata": {
        "id": "K10AIyqxMUmT",
        "colab_type": "code",
        "outputId": "414b1069-e6f2-433f-b4a0-24cfcdfc141d",
        "colab": {
          "base_uri": "https://localhost:8080/",
          "height": 35
        }
      },
      "source": [
        "pm = data[-1][-1]\n",
        "pm"
      ],
      "execution_count": 0,
      "outputs": [
        {
          "output_type": "execute_result",
          "data": {
            "text/plain": [
              "'พล.อ.ประยุทธ์ จันทร์โอชา'"
            ]
          },
          "metadata": {
            "tags": []
          },
          "execution_count": 18
        }
      ]
    },
    {
      "cell_type": "code",
      "metadata": {
        "id": "UovMJ4vaMlX_",
        "colab_type": "code",
        "outputId": "6b87302d-facc-4a2c-baee-83a44a5e42a6",
        "colab": {
          "base_uri": "https://localhost:8080/",
          "height": 35
        }
      },
      "source": [
        "data.extend([\n",
        "  (2562, 'เด็ก เยาวชน จิตอาสา ร่วมพัฒนาชาติ', pm),\n",
        "  (2563, 'เด็กไทยยุคใหม่ รู้รักสามัคคี รู้หน้าที่พลเมืองไทย', pm),\n",
        "])\n",
        "len(data)"
      ],
      "execution_count": 0,
      "outputs": [
        {
          "output_type": "execute_result",
          "data": {
            "text/plain": [
              "62"
            ]
          },
          "metadata": {
            "tags": []
          },
          "execution_count": 21
        }
      ]
    },
    {
      "cell_type": "code",
      "metadata": {
        "id": "KMZhNLSkNMcr",
        "colab_type": "code",
        "outputId": "c44437ab-5141-454f-80b7-a06750dba07c",
        "colab": {
          "base_uri": "https://localhost:8080/",
          "height": 664
        }
      },
      "source": [
        "df = pd.DataFrame(data, columns='year motto pm'.split())\n",
        "df"
      ],
      "execution_count": 0,
      "outputs": [
        {
          "output_type": "execute_result",
          "data": {
            "application/vnd.google.colaboratory.module+javascript": "\n      import \"https://ssl.gstatic.com/colaboratory/data_table/9e554b27bdd509f3/data_table.js\";\n\n      window.createDataTable({\n        data: [[{\n            'v': 0,\n            'f': \"0\",\n        },\n{\n            'v': 2499,\n            'f': \"2499\",\n        },\n\"\\u0e08\\u0e07\\u0e1a\\u0e33\\u0e40\\u0e1e\\u0e47\\u0e0d\\u0e15\\u0e19\\u0e43\\u0e2b\\u0e49\\u0e40\\u0e1b\\u0e47\\u0e19\\u0e1b\\u0e23\\u0e30\\u0e42\\u0e22\\u0e0a\\u0e19\\u0e4c\\u0e2a\\u0e48\\u0e27\\u0e19\\u0e23\\u0e27\\u0e21\\u0e41\\u0e01\\u0e48\\u0e1c\\u0e39\\u0e49\\u0e2d\\u0e37\\u0e48\\u0e19\",\n\"\\u0e08\\u0e2d\\u0e21\\u0e1e\\u0e25 \\u0e1b. \\u0e1e\\u0e34\\u0e1a\\u0e39\\u0e25\\u0e2a\\u0e07\\u0e04\\u0e23\\u0e32\\u0e21\"],\n [{\n            'v': 1,\n            'f': \"1\",\n        },\n{\n            'v': 2502,\n            'f': \"2502\",\n        },\n\"\\u0e02\\u0e2d\\u0e43\\u0e2b\\u0e49\\u0e40\\u0e14\\u0e47\\u0e01\\u0e2a\\u0e21\\u0e31\\u0e22\\u0e1b\\u0e0f\\u0e34\\u0e27\\u0e31\\u0e15\\u0e34\\u0e02\\u0e2d\\u0e07\\u0e02\\u0e49\\u0e32\\u0e1e\\u0e40\\u0e08\\u0e49\\u0e32 \\u0e08\\u0e07\\u0e40\\u0e1b\\u0e47\\u0e19\\u0e40\\u0e14\\u0e47\\u0e01\\u0e17\\u0e35\\u0e48\\u0e23\\u0e31\\u0e01\\u0e04\\u0e27\\u0e32\\u0e21\\u0e01\\u0e49\\u0e32\\u0e27\\u0e2b\\u0e19\\u0e49\\u0e32\",\n\"\\u0e08\\u0e2d\\u0e21\\u0e1e\\u0e25 \\u0e2a\\u0e24\\u0e29\\u0e14\\u0e34\\u0e4c \\u0e18\\u0e19\\u0e30\\u0e23\\u0e31\\u0e0a\\u0e15\\u0e4c\"],\n [{\n            'v': 2,\n            'f': \"2\",\n        },\n{\n            'v': 2503,\n            'f': \"2503\",\n        },\n\"\\u0e02\\u0e2d\\u0e43\\u0e2b\\u0e49\\u0e40\\u0e14\\u0e47\\u0e01\\u0e2a\\u0e21\\u0e31\\u0e22\\u0e1b\\u0e0f\\u0e34\\u0e27\\u0e31\\u0e15\\u0e34\\u0e02\\u0e2d\\u0e07\\u0e02\\u0e49\\u0e32\\u0e1e\\u0e40\\u0e08\\u0e49\\u0e32 \\u0e08\\u0e07\\u0e40\\u0e1b\\u0e47\\u0e19\\u0e40\\u0e14\\u0e47\\u0e01\\u0e17\\u0e35\\u0e48\\u0e23\\u0e31\\u0e01\\u0e04\\u0e27\\u0e32\\u0e21\\u0e2a\\u0e30\\u0e2d\\u0e32\\u0e14\",\n\"\\u0e08\\u0e2d\\u0e21\\u0e1e\\u0e25 \\u0e2a\\u0e24\\u0e29\\u0e14\\u0e34\\u0e4c \\u0e18\\u0e19\\u0e30\\u0e23\\u0e31\\u0e0a\\u0e15\\u0e4c\"],\n [{\n            'v': 3,\n            'f': \"3\",\n        },\n{\n            'v': 2504,\n            'f': \"2504\",\n        },\n\"\\u0e02\\u0e2d\\u0e43\\u0e2b\\u0e49\\u0e40\\u0e14\\u0e47\\u0e01\\u0e2a\\u0e21\\u0e31\\u0e22\\u0e1b\\u0e0f\\u0e34\\u0e27\\u0e31\\u0e15\\u0e34\\u0e02\\u0e2d\\u0e07\\u0e02\\u0e49\\u0e32\\u0e1e\\u0e40\\u0e08\\u0e49\\u0e32 \\u0e08\\u0e07\\u0e40\\u0e1b\\u0e47\\u0e19\\u0e40\\u0e14\\u0e47\\u0e01\\u0e17\\u0e35\\u0e48\\u0e2d\\u0e22\\u0e39\\u0e48\\u0e43\\u0e19\\u0e23\\u0e30\\u0e40\\u0e1a\\u0e35\\u0e22\\u0e1a\\u0e27\\u0e34\\u0e19\\u0e31\\u0e22\",\n\"\\u0e08\\u0e2d\\u0e21\\u0e1e\\u0e25 \\u0e2a\\u0e24\\u0e29\\u0e14\\u0e34\\u0e4c \\u0e18\\u0e19\\u0e30\\u0e23\\u0e31\\u0e0a\\u0e15\\u0e4c\"],\n [{\n            'v': 4,\n            'f': \"4\",\n        },\n{\n            'v': 2505,\n            'f': \"2505\",\n        },\n\"\\u0e02\\u0e2d\\u0e43\\u0e2b\\u0e49\\u0e40\\u0e14\\u0e47\\u0e01\\u0e2a\\u0e21\\u0e31\\u0e22\\u0e1b\\u0e0f\\u0e34\\u0e27\\u0e31\\u0e15\\u0e34\\u0e02\\u0e2d\\u0e07\\u0e02\\u0e49\\u0e32\\u0e1e\\u0e40\\u0e08\\u0e49\\u0e32 \\u0e08\\u0e07\\u0e40\\u0e1b\\u0e47\\u0e19\\u0e40\\u0e14\\u0e47\\u0e01\\u0e17\\u0e35\\u0e48\\u0e1b\\u0e23\\u0e30\\u0e2b\\u0e22\\u0e31\\u0e14\",\n\"\\u0e08\\u0e2d\\u0e21\\u0e1e\\u0e25 \\u0e2a\\u0e24\\u0e29\\u0e14\\u0e34\\u0e4c \\u0e18\\u0e19\\u0e30\\u0e23\\u0e31\\u0e0a\\u0e15\\u0e4c\"],\n [{\n            'v': 5,\n            'f': \"5\",\n        },\n{\n            'v': 2506,\n            'f': \"2506\",\n        },\n\"\\u0e02\\u0e2d\\u0e43\\u0e2b\\u0e49\\u0e40\\u0e14\\u0e47\\u0e01\\u0e2a\\u0e21\\u0e31\\u0e22\\u0e1b\\u0e0f\\u0e34\\u0e27\\u0e31\\u0e15\\u0e34\\u0e02\\u0e2d\\u0e07\\u0e02\\u0e49\\u0e32\\u0e1e\\u0e40\\u0e08\\u0e49\\u0e32 \\u0e08\\u0e07\\u0e40\\u0e1b\\u0e47\\u0e19\\u0e40\\u0e14\\u0e47\\u0e01\\u0e17\\u0e35\\u0e48\\u0e21\\u0e35\\u0e04\\u0e27\\u0e32\\u0e21\\u0e02\\u0e22\\u0e31\\u0e19\\u0e2b\\u0e21\\u0e31\\u0e48\\u0e19\\u0e40\\u0e1e\\u0e35\\u0e22\\u0e23\\u0e21\\u0e32\\u0e01\\u0e17\\u0e35\\u0e48\\u0e2a\\u0e38\\u0e14\",\n\"\\u0e08\\u0e2d\\u0e21\\u0e1e\\u0e25 \\u0e2a\\u0e24\\u0e29\\u0e14\\u0e34\\u0e4c \\u0e18\\u0e19\\u0e30\\u0e23\\u0e31\\u0e0a\\u0e15\\u0e4c\"],\n [{\n            'v': 6,\n            'f': \"6\",\n        },\n{\n            'v': 2508,\n            'f': \"2508\",\n        },\n\"\\u0e40\\u0e14\\u0e47\\u0e01\\u0e08\\u0e30\\u0e40\\u0e08\\u0e23\\u0e34\\u0e0d\\u0e15\\u0e49\\u0e2d\\u0e07\\u0e23\\u0e31\\u0e01\\u0e40\\u0e23\\u0e35\\u0e22\\u0e19\\u0e40\\u0e1e\\u0e35\\u0e22\\u0e23\\u0e17\\u0e33\\u0e14\\u0e35\",\n\"\\u0e08\\u0e2d\\u0e21\\u0e1e\\u0e25 \\u0e16\\u0e19\\u0e2d\\u0e21 \\u0e01\\u0e34\\u0e15\\u0e15\\u0e34\\u0e02\\u0e08\\u0e23\"],\n [{\n            'v': 7,\n            'f': \"7\",\n        },\n{\n            'v': 2509,\n            'f': \"2509\",\n        },\n\"\\u0e40\\u0e14\\u0e47\\u0e01\\u0e17\\u0e35\\u0e48\\u0e14\\u0e35\\u0e15\\u0e49\\u0e2d\\u0e07\\u0e21\\u0e35\\u0e2a\\u0e31\\u0e21\\u0e21\\u0e32\\u0e04\\u0e32\\u0e23\\u0e27\\u0e30 \\u0e21\\u0e32\\u0e19\\u0e30\\u0e1a\\u0e32\\u0e01\\u0e1a\\u0e31\\u0e48\\u0e19 \\u0e41\\u0e25\\u0e30\\u0e2a\\u0e21\\u0e32\\u0e19\\u0e2a\\u0e32\\u0e21\\u0e31\\u0e04\\u0e04\\u0e35\",\n\"\\u0e08\\u0e2d\\u0e21\\u0e1e\\u0e25 \\u0e16\\u0e19\\u0e2d\\u0e21 \\u0e01\\u0e34\\u0e15\\u0e15\\u0e34\\u0e02\\u0e08\\u0e23\"],\n [{\n            'v': 8,\n            'f': \"8\",\n        },\n{\n            'v': 2510,\n            'f': \"2510\",\n        },\n\"\\u0e2d\\u0e19\\u0e32\\u0e04\\u0e15\\u0e02\\u0e2d\\u0e07\\u0e0a\\u0e32\\u0e15\\u0e34\\u0e08\\u0e30\\u0e2a\\u0e38\\u0e01\\u0e43\\u0e2a \\u0e2b\\u0e32\\u0e01\\u0e40\\u0e14\\u0e47\\u0e01\\u0e44\\u0e17\\u0e22\\u0e41\\u0e02\\u0e47\\u0e07\\u0e41\\u0e23\\u0e07\\u0e14\\u0e35\\u0e21\\u0e35\\u0e04\\u0e27\\u0e32\\u0e21\\u0e1b\\u0e23\\u0e30\\u0e1e\\u0e24\\u0e15\\u0e34\\u0e40\\u0e23\\u0e35\\u0e22\\u0e1a\\u0e23\\u0e49\\u0e2d\\u0e22\",\n\"\\u0e08\\u0e2d\\u0e21\\u0e1e\\u0e25 \\u0e16\\u0e19\\u0e2d\\u0e21 \\u0e01\\u0e34\\u0e15\\u0e15\\u0e34\\u0e02\\u0e08\\u0e23\"],\n [{\n            'v': 9,\n            'f': \"9\",\n        },\n{\n            'v': 2511,\n            'f': \"2511\",\n        },\n\"\\u0e04\\u0e27\\u0e32\\u0e21\\u0e40\\u0e08\\u0e23\\u0e34\\u0e0d\\u0e41\\u0e25\\u0e30\\u0e04\\u0e27\\u0e32\\u0e21\\u0e21\\u0e31\\u0e48\\u0e19\\u0e04\\u0e07\\u0e02\\u0e2d\\u0e07\\u0e0a\\u0e32\\u0e15\\u0e34\\u0e44\\u0e17\\u0e22\\u0e43\\u0e19\\u0e2d\\u0e19\\u0e32\\u0e04\\u0e15 \\u0e02\\u0e36\\u0e49\\u0e19\\u0e2d\\u0e22\\u0e39\\u0e48\\u0e01\\u0e31\\u0e1a\\u0e40\\u0e14\\u0e47\\u0e01\\u0e17\\u0e35\\u0e48\\u0e21\\u0e35\\u0e27\\u0e34\\u0e19\\u0e31\\u0e22 \\u0e40\\u0e09\\u0e25\\u0e35\\u0e22\\u0e27\\u0e09\\u0e25\\u0e32\\u0e14\\u0e41\\u0e25\\u0e30\\u0e23\\u0e31\\u0e01\\u0e0a\\u0e32\\u0e15\\u0e34\\u0e22\\u0e34\\u0e48\\u0e07\",\n\"\\u0e08\\u0e2d\\u0e21\\u0e1e\\u0e25 \\u0e16\\u0e19\\u0e2d\\u0e21 \\u0e01\\u0e34\\u0e15\\u0e15\\u0e34\\u0e02\\u0e08\\u0e23\"],\n [{\n            'v': 10,\n            'f': \"10\",\n        },\n{\n            'v': 2512,\n            'f': \"2512\",\n        },\n\"\\u0e23\\u0e39\\u0e49\\u0e40\\u0e23\\u0e35\\u0e22\\u0e19 \\u0e23\\u0e39\\u0e49\\u0e40\\u0e25\\u0e48\\u0e19 \\u0e23\\u0e39\\u0e49\\u0e2a\\u0e32\\u0e21\\u0e31\\u0e04\\u0e04\\u0e35 \\u0e40\\u0e1b\\u0e47\\u0e19\\u0e04\\u0e27\\u0e32\\u0e21\\u0e14\\u0e35\\u0e17\\u0e35\\u0e48\\u0e40\\u0e14\\u0e47\\u0e01\\u0e1e\\u0e36\\u0e07\\u0e08\\u0e33\",\n\"\\u0e08\\u0e2d\\u0e21\\u0e1e\\u0e25 \\u0e16\\u0e19\\u0e2d\\u0e21 \\u0e01\\u0e34\\u0e15\\u0e15\\u0e34\\u0e02\\u0e08\\u0e23\"],\n [{\n            'v': 11,\n            'f': \"11\",\n        },\n{\n            'v': 2513,\n            'f': \"2513\",\n        },\n\"\\u0e40\\u0e14\\u0e47\\u0e01\\u0e1b\\u0e23\\u0e30\\u0e1e\\u0e24\\u0e15\\u0e34\\u0e14\\u0e35\\u0e41\\u0e25\\u0e30\\u0e28\\u0e36\\u0e01\\u0e29\\u0e32\\u0e14\\u0e35 \\u0e17\\u0e33\\u0e43\\u0e2b\\u0e49\\u0e21\\u0e35\\u0e2d\\u0e19\\u0e32\\u0e04\\u0e15\\u0e41\\u0e08\\u0e48\\u0e21\\u0e43\\u0e2a\",\n\"\\u0e08\\u0e2d\\u0e21\\u0e1e\\u0e25 \\u0e16\\u0e19\\u0e2d\\u0e21 \\u0e01\\u0e34\\u0e15\\u0e15\\u0e34\\u0e02\\u0e08\\u0e23\"],\n [{\n            'v': 12,\n            'f': \"12\",\n        },\n{\n            'v': 2514,\n            'f': \"2514\",\n        },\n\"\\u0e22\\u0e32\\u0e21\\u0e40\\u0e14\\u0e47\\u0e01\\u0e08\\u0e07\\u0e2b\\u0e21\\u0e31\\u0e48\\u0e19\\u0e40\\u0e23\\u0e35\\u0e22\\u0e19 \\u0e40\\u0e1e\\u0e35\\u0e22\\u0e23\\u0e01\\u0e23\\u0e30\\u0e17\\u0e33\\u0e14\\u0e35 \\u0e40\\u0e15\\u0e34\\u0e1a\\u0e43\\u0e2b\\u0e0d\\u0e48\\u0e08\\u0e30\\u0e44\\u0e14\\u0e49\\u0e21\\u0e35\\u0e04\\u0e27\\u0e32\\u0e21\\u0e2a\\u0e38\\u0e02\\u0e04\\u0e27\\u0e32\\u0e21\\u0e40\\u0e08\\u0e23\\u0e34\\u0e0d\",\n\"\\u0e08\\u0e2d\\u0e21\\u0e1e\\u0e25 \\u0e16\\u0e19\\u0e2d\\u0e21 \\u0e01\\u0e34\\u0e15\\u0e15\\u0e34\\u0e02\\u0e08\\u0e23\"],\n [{\n            'v': 13,\n            'f': \"13\",\n        },\n{\n            'v': 2515,\n            'f': \"2515\",\n        },\n\"\\u0e40\\u0e22\\u0e32\\u0e27\\u0e0a\\u0e19\\u0e1d\\u0e36\\u0e01\\u0e15\\u0e19\\u0e14\\u0e35 \\u0e21\\u0e35\\u0e04\\u0e27\\u0e32\\u0e21\\u0e2a\\u0e32\\u0e21\\u0e32\\u0e23\\u0e16\",\n\"\\u0e08\\u0e2d\\u0e21\\u0e1e\\u0e25 \\u0e16\\u0e19\\u0e2d\\u0e21 \\u0e01\\u0e34\\u0e15\\u0e15\\u0e34\\u0e02\\u0e08\\u0e23\"],\n [{\n            'v': 14,\n            'f': \"14\",\n        },\n{\n            'v': 2516,\n            'f': \"2516\",\n        },\n\"\\u0e40\\u0e14\\u0e47\\u0e01\\u0e14\\u0e35\\u0e40\\u0e1b\\u0e47\\u0e19\\u0e28\\u0e23\\u0e35\\u0e41\\u0e01\\u0e48\\u0e0a\\u0e32\\u0e15\\u0e34 \\u0e40\\u0e14\\u0e47\\u0e01\\u0e09\\u0e25\\u0e32\\u0e14\\u0e0a\\u0e32\\u0e15\\u0e34\\u0e40\\u0e08\\u0e23\\u0e34\\u0e0d\",\n\"\\u0e08\\u0e2d\\u0e21\\u0e1e\\u0e25 \\u0e16\\u0e19\\u0e2d\\u0e21 \\u0e01\\u0e34\\u0e15\\u0e15\\u0e34\\u0e02\\u0e08\\u0e23\"],\n [{\n            'v': 15,\n            'f': \"15\",\n        },\n{\n            'v': 2517,\n            'f': \"2517\",\n        },\n\"\\u0e2a\\u0e32\\u0e21\\u0e31\\u0e04\\u0e04\\u0e35\\u0e04\\u0e37\\u0e2d\\u0e1e\\u0e25\\u0e31\\u0e07\",\n\"\\u0e19\\u0e32\\u0e22\\u0e2a\\u0e31\\u0e0d\\u0e0d\\u0e32 \\u0e18\\u0e23\\u0e23\\u0e21\\u0e28\\u0e31\\u0e01\\u0e14\\u0e34\\u0e4c\"],\n [{\n            'v': 16,\n            'f': \"16\",\n        },\n{\n            'v': 2518,\n            'f': \"2518\",\n        },\n\"\\u0e40\\u0e14\\u0e47\\u0e01\\u0e14\\u0e35\\u0e04\\u0e37\\u0e2d\\u0e17\\u0e32\\u0e22\\u0e32\\u0e17\\u0e02\\u0e2d\\u0e07\\u0e0a\\u0e32\\u0e15\\u0e34\\u0e44\\u0e17\\u0e22 \\u0e15\\u0e49\\u0e2d\\u0e07\\u0e23\\u0e48\\u0e27\\u0e21\\u0e43\\u0e08\\u0e23\\u0e48\\u0e27\\u0e21\\u0e1e\\u0e25\\u0e31\\u0e07\\u0e2a\\u0e23\\u0e49\\u0e32\\u0e07\\u0e04\\u0e27\\u0e32\\u0e21\\u0e2a\\u0e32\\u0e21\\u0e31\\u0e04\\u0e04\\u0e35\",\n\"\\u0e19\\u0e32\\u0e22\\u0e2a\\u0e31\\u0e0d\\u0e0d\\u0e32 \\u0e18\\u0e23\\u0e23\\u0e21\\u0e28\\u0e31\\u0e01\\u0e14\\u0e34\\u0e4c\"],\n [{\n            'v': 17,\n            'f': \"17\",\n        },\n{\n            'v': 2519,\n            'f': \"2519\",\n        },\n\"\\u0e40\\u0e14\\u0e47\\u0e01\\u0e17\\u0e35\\u0e48\\u0e15\\u0e49\\u0e2d\\u0e07\\u0e01\\u0e32\\u0e23\\u0e40\\u0e2b\\u0e47\\u0e19\\u0e2d\\u0e19\\u0e32\\u0e04\\u0e15\\u0e02\\u0e2d\\u0e07\\u0e0a\\u0e32\\u0e15\\u0e34\\u0e23\\u0e38\\u0e48\\u0e07\\u0e40\\u0e23\\u0e37\\u0e2d\\u0e07 \\u0e08\\u0e30\\u0e15\\u0e49\\u0e2d\\u0e07\\u0e17\\u0e33\\u0e15\\u0e31\\u0e27\\u0e43\\u0e2b\\u0e49\\u0e14\\u0e35 \\u0e21\\u0e35\\u0e27\\u0e34\\u0e19\\u0e31\\u0e22 \\u0e40\\u0e2a\\u0e35\\u0e22\\u0e41\\u0e15\\u0e48\\u0e1a\\u0e31\\u0e14\\u0e19\\u0e35\\u0e49\",\n\"\\u0e2b\\u0e21\\u0e48\\u0e2d\\u0e21\\u0e23\\u0e32\\u0e0a\\u0e27\\u0e07\\u0e28\\u0e4c\\u0e04\\u0e36\\u0e01\\u0e24\\u0e17\\u0e18\\u0e34\\u0e4c \\u0e1b\\u0e23\\u0e32\\u0e42\\u0e21\\u0e0a\"],\n [{\n            'v': 18,\n            'f': \"18\",\n        },\n{\n            'v': 2520,\n            'f': \"2520\",\n        },\n\"\\u0e23\\u0e31\\u0e01\\u0e0a\\u0e32\\u0e15\\u0e34 \\u0e28\\u0e32\\u0e2a\\u0e19\\u0e4c \\u0e01\\u0e29\\u0e31\\u0e15\\u0e23\\u0e34\\u0e22\\u0e4c \\u0e40\\u0e1b\\u0e47\\u0e19\\u0e04\\u0e38\\u0e13\\u0e2a\\u0e21\\u0e1a\\u0e31\\u0e15\\u0e34\\u0e02\\u0e2d\\u0e07\\u0e40\\u0e22\\u0e32\\u0e27\\u0e0a\\u0e19\\u0e44\\u0e17\\u0e22\",\n\"\\u0e19\\u0e32\\u0e22\\u0e18\\u0e32\\u0e19\\u0e34\\u0e19\\u0e17\\u0e23\\u0e4c \\u0e01\\u0e23\\u0e31\\u0e22\\u0e27\\u0e34\\u0e40\\u0e0a\\u0e35\\u0e22\\u0e23\"],\n [{\n            'v': 19,\n            'f': \"19\",\n        },\n{\n            'v': 2521,\n            'f': \"2521\",\n        },\n\"\\u0e40\\u0e14\\u0e47\\u0e01\\u0e14\\u0e35\\u0e40\\u0e1b\\u0e47\\u0e19\\u0e28\\u0e23\\u0e35\\u0e41\\u0e01\\u0e48\\u0e0a\\u0e32\\u0e15\\u0e34 \\u0e40\\u0e14\\u0e47\\u0e01\\u0e09\\u0e25\\u0e32\\u0e14\\u0e0a\\u0e32\\u0e15\\u0e34\\u0e21\\u0e31\\u0e48\\u0e19\\u0e04\\u0e07\",\n\"\\u0e1e\\u0e25\\u0e40\\u0e2d\\u0e01\\u0e40\\u0e01\\u0e23\\u0e35\\u0e22\\u0e07\\u0e28\\u0e31\\u0e01\\u0e14\\u0e34\\u0e4c \\u0e0a\\u0e21\\u0e30\\u0e19\\u0e31\\u0e19\\u0e17\\u0e19\\u0e4c\"],\n [{\n            'v': 20,\n            'f': \"20\",\n        },\n{\n            'v': 2522,\n            'f': \"2522\",\n        },\n\"\\u0e40\\u0e14\\u0e47\\u0e01\\u0e44\\u0e17\\u0e22\\u0e04\\u0e37\\u0e2d\\u0e2b\\u0e31\\u0e27\\u0e43\\u0e08\\u0e02\\u0e2d\\u0e07\\u0e0a\\u0e32\\u0e15\\u0e34\",\n\"\\u0e1e\\u0e25\\u0e40\\u0e2d\\u0e01\\u0e40\\u0e01\\u0e23\\u0e35\\u0e22\\u0e07\\u0e28\\u0e31\\u0e01\\u0e14\\u0e34\\u0e4c \\u0e0a\\u0e21\\u0e30\\u0e19\\u0e31\\u0e19\\u0e17\\u0e19\\u0e4c\"],\n [{\n            'v': 21,\n            'f': \"21\",\n        },\n{\n            'v': 2523,\n            'f': \"2523\",\n        },\n\"\\u0e2d\\u0e14\\u0e17\\u0e19 \\u0e02\\u0e22\\u0e31\\u0e19 \\u0e1b\\u0e23\\u0e30\\u0e2b\\u0e22\\u0e31\\u0e14 \\u0e40\\u0e1b\\u0e47\\u0e19\\u0e04\\u0e38\\u0e13\\u0e2a\\u0e21\\u0e1a\\u0e31\\u0e15\\u0e34\\u0e02\\u0e2d\\u0e07\\u0e40\\u0e14\\u0e47\\u0e01\\u0e44\\u0e17\\u0e22\",\n\"\\u0e1e\\u0e25\\u0e40\\u0e2d\\u0e01\\u0e40\\u0e01\\u0e23\\u0e35\\u0e22\\u0e07\\u0e28\\u0e31\\u0e01\\u0e14\\u0e34\\u0e4c \\u0e0a\\u0e21\\u0e30\\u0e19\\u0e31\\u0e19\\u0e17\\u0e19\\u0e4c\"],\n [{\n            'v': 22,\n            'f': \"22\",\n        },\n{\n            'v': 2524,\n            'f': \"2524\",\n        },\n\"\\u0e40\\u0e14\\u0e47\\u0e01\\u0e44\\u0e17\\u0e22\\u0e21\\u0e35\\u0e27\\u0e34\\u0e19\\u0e31\\u0e22 \\u0e43\\u0e08\\u0e2a\\u0e31\\u0e15\\u0e22\\u0e4c\\u0e0b\\u0e37\\u0e48\\u0e2d \\u0e23\\u0e39\\u0e49\\u0e1b\\u0e23\\u0e30\\u0e2b\\u0e22\\u0e31\\u0e14 \\u0e40\\u0e04\\u0e23\\u0e48\\u0e07\\u0e04\\u0e23\\u0e31\\u0e14\\u0e04\\u0e38\\u0e13\\u0e18\\u0e23\\u0e23\\u0e21\",\n\"\\u0e1e\\u0e25\\u0e40\\u0e2d\\u0e01\\u0e40\\u0e1b\\u0e23\\u0e21 \\u0e15\\u0e34\\u0e13\\u0e2a\\u0e39\\u0e25\\u0e32\\u0e19\\u0e19\\u0e17\\u0e4c\"],\n [{\n            'v': 23,\n            'f': \"23\",\n        },\n{\n            'v': 2525,\n            'f': \"2525\",\n        },\n\"\\u0e02\\u0e22\\u0e31\\u0e19\\u0e28\\u0e36\\u0e01\\u0e29\\u0e32 \\u0e43\\u0e1d\\u0e48\\u0e2b\\u0e32\\u0e04\\u0e27\\u0e32\\u0e21\\u0e23\\u0e39\\u0e49 \\u0e40\\u0e0a\\u0e34\\u0e14\\u0e0a\\u0e39\\u0e0a\\u0e32\\u0e15\\u0e34 \\u0e28\\u0e32\\u0e2a\\u0e19\\u0e4c \\u0e01\\u0e29\\u0e31\\u0e15\\u0e23\\u0e34\\u0e22\\u0e4c \\u0e40\\u0e1b\\u0e47\\u0e19\\u0e04\\u0e38\\u0e13\\u0e2a\\u0e21\\u0e1a\\u0e31\\u0e15\\u0e34\\u0e02\\u0e2d\\u0e07\\u0e40\\u0e14\\u0e47\\u0e01\\u0e44\\u0e17\\u0e22\",\n\"\\u0e1e\\u0e25\\u0e40\\u0e2d\\u0e01\\u0e40\\u0e1b\\u0e23\\u0e21 \\u0e15\\u0e34\\u0e13\\u0e2a\\u0e39\\u0e25\\u0e32\\u0e19\\u0e19\\u0e17\\u0e4c\"],\n [{\n            'v': 24,\n            'f': \"24\",\n        },\n{\n            'v': 2526,\n            'f': \"2526\",\n        },\n\"\\u0e23\\u0e39\\u0e49\\u0e2b\\u0e19\\u0e49\\u0e32\\u0e17\\u0e35\\u0e48 \\u0e02\\u0e22\\u0e31\\u0e19 \\u0e0b\\u0e37\\u0e48\\u0e2d\\u0e2a\\u0e31\\u0e15\\u0e22\\u0e4c \\u0e1b\\u0e23\\u0e30\\u0e2b\\u0e22\\u0e31\\u0e14\\u0e21\\u0e35\\u0e27\\u0e34\\u0e19\\u0e31\\u0e22\\u0e41\\u0e25\\u0e30\\u0e04\\u0e38\\u0e13\\u0e18\\u0e23\\u0e23\\u0e21\",\n\"\\u0e1e\\u0e25\\u0e40\\u0e2d\\u0e01\\u0e40\\u0e1b\\u0e23\\u0e21 \\u0e15\\u0e34\\u0e13\\u0e2a\\u0e39\\u0e25\\u0e32\\u0e19\\u0e19\\u0e17\\u0e4c\"],\n [{\n            'v': 25,\n            'f': \"25\",\n        },\n{\n            'v': 2527,\n            'f': \"2527\",\n        },\n\"\\u0e23\\u0e31\\u0e01\\u0e27\\u0e31\\u0e12\\u0e19\\u0e18\\u0e23\\u0e23\\u0e21\\u0e44\\u0e17\\u0e22 \\u0e43\\u0e1d\\u0e48\\u0e14\\u0e35\\u0e21\\u0e35\\u0e04\\u0e27\\u0e32\\u0e21\\u0e04\\u0e34\\u0e14\\u0e2a\\u0e38\\u0e08\\u0e23\\u0e34\\u0e15\\u0e43\\u0e08\\u0e21\\u0e31\\u0e48\\u0e19 \\u0e2b\\u0e21\\u0e31\\u0e48\\u0e19\\u0e28\\u0e36\\u0e01\\u0e29\\u0e32\",\n\"\\u0e1e\\u0e25\\u0e40\\u0e2d\\u0e01\\u0e40\\u0e1b\\u0e23\\u0e21 \\u0e15\\u0e34\\u0e13\\u0e2a\\u0e39\\u0e25\\u0e32\\u0e19\\u0e19\\u0e17\\u0e4c\"],\n [{\n            'v': 26,\n            'f': \"26\",\n        },\n{\n            'v': 2528,\n            'f': \"2528\",\n        },\n\"\\u0e2a\\u0e32\\u0e21\\u0e31\\u0e04\\u0e04\\u0e35 \\u0e19\\u0e34\\u0e22\\u0e21\\u0e44\\u0e17\\u0e22 \\u0e21\\u0e35\\u0e27\\u0e34\\u0e19\\u0e31\\u0e22 \\u0e43\\u0e1d\\u0e48\\u0e04\\u0e38\\u0e13\\u0e18\\u0e23\\u0e23\\u0e21\",\n\"\\u0e1e\\u0e25\\u0e40\\u0e2d\\u0e01\\u0e40\\u0e1b\\u0e23\\u0e21 \\u0e15\\u0e34\\u0e13\\u0e2a\\u0e39\\u0e25\\u0e32\\u0e19\\u0e19\\u0e17\\u0e4c\"],\n [{\n            'v': 27,\n            'f': \"27\",\n        },\n{\n            'v': 2529,\n            'f': \"2529\",\n        },\n\"\\u0e19\\u0e34\\u0e22\\u0e21\\u0e44\\u0e17\\u0e22 \\u0e21\\u0e35\\u0e27\\u0e34\\u0e19\\u0e31\\u0e22 \\u0e43\\u0e0a\\u0e49\\u0e1b\\u0e23\\u0e30\\u0e2b\\u0e22\\u0e31\\u0e14\\u0e43\\u0e08\\u0e2a\\u0e31\\u0e15\\u0e22\\u0e4c\\u0e0b\\u0e37\\u0e48\\u0e2d \\u0e16\\u0e37\\u0e2d\\u0e04\\u0e38\\u0e13\\u0e18\\u0e23\\u0e23\\u0e21\",\n\"\\u0e1e\\u0e25\\u0e40\\u0e2d\\u0e01\\u0e40\\u0e1b\\u0e23\\u0e21 \\u0e15\\u0e34\\u0e13\\u0e2a\\u0e39\\u0e25\\u0e32\\u0e19\\u0e19\\u0e17\\u0e4c\"],\n [{\n            'v': 28,\n            'f': \"28\",\n        },\n{\n            'v': 2530,\n            'f': \"2530\",\n        },\n\"\\u0e19\\u0e34\\u0e22\\u0e21\\u0e44\\u0e17\\u0e22 \\u0e21\\u0e35\\u0e27\\u0e34\\u0e19\\u0e31\\u0e22 \\u0e43\\u0e0a\\u0e49\\u0e1b\\u0e23\\u0e30\\u0e2b\\u0e22\\u0e31\\u0e14\\u0e43\\u0e08\\u0e2a\\u0e31\\u0e15\\u0e22\\u0e4c\\u0e0b\\u0e37\\u0e48\\u0e2d \\u0e16\\u0e37\\u0e2d\\u0e04\\u0e38\\u0e13\\u0e18\\u0e23\\u0e23\\u0e21\",\n\"\\u0e1e\\u0e25\\u0e40\\u0e2d\\u0e01\\u0e40\\u0e1b\\u0e23\\u0e21 \\u0e15\\u0e34\\u0e13\\u0e2a\\u0e39\\u0e25\\u0e32\\u0e19\\u0e19\\u0e17\\u0e4c\"],\n [{\n            'v': 29,\n            'f': \"29\",\n        },\n{\n            'v': 2531,\n            'f': \"2531\",\n        },\n\"\\u0e19\\u0e34\\u0e22\\u0e21\\u0e44\\u0e17\\u0e22 \\u0e21\\u0e35\\u0e27\\u0e34\\u0e19\\u0e31\\u0e22 \\u0e43\\u0e0a\\u0e49\\u0e1b\\u0e23\\u0e30\\u0e2b\\u0e22\\u0e31\\u0e14\\u0e43\\u0e08\\u0e2a\\u0e31\\u0e15\\u0e22\\u0e4c\\u0e0b\\u0e37\\u0e48\\u0e2d \\u0e16\\u0e37\\u0e2d\\u0e04\\u0e38\\u0e13\\u0e18\\u0e23\\u0e23\\u0e21\",\n\"\\u0e1e\\u0e25\\u0e40\\u0e2d\\u0e01\\u0e40\\u0e1b\\u0e23\\u0e21 \\u0e15\\u0e34\\u0e13\\u0e2a\\u0e39\\u0e25\\u0e32\\u0e19\\u0e19\\u0e17\\u0e4c\"],\n [{\n            'v': 30,\n            'f': \"30\",\n        },\n{\n            'v': 2532,\n            'f': \"2532\",\n        },\n\"\\u0e23\\u0e31\\u0e01\\u0e0a\\u0e32\\u0e15\\u0e34 \\u0e28\\u0e32\\u0e2a\\u0e19\\u0e4c \\u0e01\\u0e29\\u0e31\\u0e15\\u0e23\\u0e34\\u0e22\\u0e4c \\u0e43\\u0e08\\u0e2a\\u0e31\\u0e15\\u0e22\\u0e4c\\u0e0b\\u0e37\\u0e48\\u0e2d \\u0e16\\u0e37\\u0e2d\\u0e04\\u0e38\\u0e13\\u0e18\\u0e23\\u0e23\\u0e21\",\n\"\\u0e1e\\u0e25\\u0e40\\u0e2d\\u0e01\\u0e0a\\u0e32\\u0e15\\u0e34\\u0e0a\\u0e32\\u0e22 \\u0e0a\\u0e38\\u0e13\\u0e2b\\u0e30\\u0e27\\u0e31\\u0e13\"],\n [{\n            'v': 31,\n            'f': \"31\",\n        },\n{\n            'v': 2533,\n            'f': \"2533\",\n        },\n\"\\u0e23\\u0e31\\u0e01\\u0e0a\\u0e32\\u0e15\\u0e34 \\u0e28\\u0e32\\u0e2a\\u0e19\\u0e4c \\u0e01\\u0e29\\u0e31\\u0e15\\u0e23\\u0e34\\u0e22\\u0e4c \\u0e43\\u0e08\\u0e2a\\u0e31\\u0e15\\u0e22\\u0e4c\\u0e0b\\u0e37\\u0e48\\u0e2d \\u0e16\\u0e37\\u0e2d\\u0e04\\u0e38\\u0e13\\u0e18\\u0e23\\u0e23\\u0e21\",\n\"\\u0e1e\\u0e25\\u0e40\\u0e2d\\u0e01\\u0e0a\\u0e32\\u0e15\\u0e34\\u0e0a\\u0e32\\u0e22 \\u0e0a\\u0e38\\u0e13\\u0e2b\\u0e30\\u0e27\\u0e31\\u0e13\"],\n [{\n            'v': 32,\n            'f': \"32\",\n        },\n{\n            'v': 2534,\n            'f': \"2534\",\n        },\n\"\\u0e23\\u0e39\\u0e49\\u0e2b\\u0e19\\u0e49\\u0e32\\u0e17\\u0e35\\u0e48 \\u0e21\\u0e35\\u0e27\\u0e34\\u0e19\\u0e31\\u0e22 \\u0e43\\u0e1d\\u0e48\\u0e04\\u0e38\\u0e13\\u0e18\\u0e23\\u0e23\\u0e21 \\u0e19\\u0e33\\u0e0a\\u0e32\\u0e15\\u0e34\\u0e1e\\u0e31\\u0e12\\u0e19\\u0e32\",\n\"\\u0e1e\\u0e25\\u0e40\\u0e2d\\u0e01\\u0e0a\\u0e32\\u0e15\\u0e34\\u0e0a\\u0e32\\u0e22 \\u0e0a\\u0e38\\u0e13\\u0e2b\\u0e30\\u0e27\\u0e31\\u0e13\"],\n [{\n            'v': 33,\n            'f': \"33\",\n        },\n{\n            'v': 2535,\n            'f': \"2535\",\n        },\n\"\\u0e2a\\u0e32\\u0e21\\u0e31\\u0e04\\u0e04\\u0e35 \\u0e21\\u0e35\\u0e27\\u0e34\\u0e19\\u0e31\\u0e22 \\u0e43\\u0e1d\\u0e48\\u0e28\\u0e36\\u0e01\\u0e29\\u0e32 \\u0e08\\u0e23\\u0e23\\u0e22\\u0e32\\u0e07\\u0e32\\u0e21\",\n\"\\u0e19\\u0e32\\u0e22\\u0e2d\\u0e32\\u0e19\\u0e31\\u0e19\\u0e17\\u0e4c \\u0e1b\\u0e31\\u0e19\\u0e22\\u0e32\\u0e23\\u0e0a\\u0e38\\u0e19\"],\n [{\n            'v': 34,\n            'f': \"34\",\n        },\n{\n            'v': 2536,\n            'f': \"2536\",\n        },\n\"\\u0e22\\u0e36\\u0e14\\u0e21\\u0e31\\u0e48\\u0e19\\u0e1b\\u0e23\\u0e30\\u0e0a\\u0e32\\u0e18\\u0e34\\u0e1b\\u0e44\\u0e15\\u0e22 \\u0e23\\u0e48\\u0e27\\u0e21\\u0e43\\u0e08\\u0e1e\\u0e31\\u0e12\\u0e19\\u0e32 \\u0e23\\u0e31\\u0e01\\u0e29\\u0e32\\u0e2a\\u0e34\\u0e48\\u0e07\\u0e41\\u0e27\\u0e14\\u0e25\\u0e49\\u0e2d\\u0e21\",\n\"\\u0e19\\u0e32\\u0e22\\u0e0a\\u0e27\\u0e19 \\u0e2b\\u0e25\\u0e35\\u0e01\\u0e20\\u0e31\\u0e22\"],\n [{\n            'v': 35,\n            'f': \"35\",\n        },\n{\n            'v': 2537,\n            'f': \"2537\",\n        },\n\"\\u0e22\\u0e36\\u0e14\\u0e21\\u0e31\\u0e48\\u0e19\\u0e1b\\u0e23\\u0e30\\u0e0a\\u0e32\\u0e18\\u0e34\\u0e1b\\u0e44\\u0e15\\u0e22 \\u0e23\\u0e48\\u0e27\\u0e21\\u0e43\\u0e08\\u0e1e\\u0e31\\u0e12\\u0e19\\u0e32 \\u0e23\\u0e31\\u0e01\\u0e29\\u0e32\\u0e2a\\u0e34\\u0e48\\u0e07\\u0e41\\u0e27\\u0e14\\u0e25\\u0e49\\u0e2d\\u0e21\",\n\"\\u0e19\\u0e32\\u0e22\\u0e0a\\u0e27\\u0e19 \\u0e2b\\u0e25\\u0e35\\u0e01\\u0e20\\u0e31\\u0e22\"],\n [{\n            'v': 36,\n            'f': \"36\",\n        },\n{\n            'v': 2538,\n            'f': \"2538\",\n        },\n\"\\u0e2a\\u0e37\\u0e1a\\u0e2a\\u0e32\\u0e19\\u0e27\\u0e31\\u0e12\\u0e19\\u0e18\\u0e23\\u0e23\\u0e21\\u0e44\\u0e17\\u0e22 \\u0e23\\u0e48\\u0e27\\u0e21\\u0e43\\u0e08\\u0e1e\\u0e31\\u0e12\\u0e19\\u0e32 \\u0e23\\u0e31\\u0e01\\u0e29\\u0e32\\u0e2a\\u0e34\\u0e48\\u0e07\\u0e41\\u0e27\\u0e14\\u0e25\\u0e49\\u0e2d\\u0e21\",\n\"\\u0e19\\u0e32\\u0e22\\u0e0a\\u0e27\\u0e19 \\u0e2b\\u0e25\\u0e35\\u0e01\\u0e20\\u0e31\\u0e22\"],\n [{\n            'v': 37,\n            'f': \"37\",\n        },\n{\n            'v': 2539,\n            'f': \"2539\",\n        },\n\"\\u0e21\\u0e38\\u0e48\\u0e07\\u0e2b\\u0e32\\u0e04\\u0e27\\u0e32\\u0e21\\u0e23\\u0e39\\u0e49 \\u0e40\\u0e0a\\u0e34\\u0e14\\u0e0a\\u0e39\\u0e04\\u0e27\\u0e32\\u0e21\\u0e40\\u0e1b\\u0e47\\u0e19\\u0e44\\u0e17\\u0e22 \\u0e2b\\u0e25\\u0e35\\u0e01\\u0e44\\u0e01\\u0e25\\u0e22\\u0e32\\u0e40\\u0e2a\\u0e1e\\u0e15\\u0e34\\u0e14\",\n\"\\u0e19\\u0e32\\u0e22\\u0e1a\\u0e23\\u0e23\\u0e2b\\u0e32\\u0e23 \\u0e28\\u0e34\\u0e25\\u0e1b\\u0e2d\\u0e32\\u0e0a\\u0e32\"],\n [{\n            'v': 38,\n            'f': \"38\",\n        },\n{\n            'v': 2540,\n            'f': \"2540\",\n        },\n\"\\u0e23\\u0e39\\u0e49\\u0e04\\u0e38\\u0e13\\u0e04\\u0e48\\u0e32\\u0e27\\u0e31\\u0e12\\u0e19\\u0e18\\u0e23\\u0e23\\u0e21\\u0e44\\u0e17\\u0e22 \\u0e15\\u0e31\\u0e49\\u0e07\\u0e43\\u0e08\\u0e43\\u0e1d\\u0e48\\u0e28\\u0e36\\u0e01\\u0e29\\u0e32 \\u0e44\\u0e21\\u0e48\\u0e1e\\u0e36\\u0e48\\u0e07\\u0e1e\\u0e32\\u0e22\\u0e32\\u0e40\\u0e2a\\u0e1e\\u0e15\\u0e34\\u0e14\",\n\"\\u0e1e\\u0e25\\u0e40\\u0e2d\\u0e01\\u0e0a\\u0e27\\u0e25\\u0e34\\u0e15 \\u0e22\\u0e07\\u0e43\\u0e08\\u0e22\\u0e38\\u0e17\\u0e18\"],\n [{\n            'v': 39,\n            'f': \"39\",\n        },\n{\n            'v': 2541,\n            'f': \"2541\",\n        },\n\"\\u0e02\\u0e22\\u0e31\\u0e19 \\u0e1b\\u0e23\\u0e30\\u0e2b\\u0e22\\u0e31\\u0e14 \\u0e0b\\u0e37\\u0e48\\u0e2d\\u0e2a\\u0e31\\u0e15\\u0e22\\u0e4c \\u0e21\\u0e35\\u0e27\\u0e34\\u0e19\\u0e31\\u0e22\",\n\"\\u0e19\\u0e32\\u0e22\\u0e0a\\u0e27\\u0e19 \\u0e2b\\u0e25\\u0e35\\u0e01\\u0e20\\u0e31\\u0e22\"],\n [{\n            'v': 40,\n            'f': \"40\",\n        },\n{\n            'v': 2542,\n            'f': \"2542\",\n        },\n\"\\u0e02\\u0e22\\u0e31\\u0e19 \\u0e1b\\u0e23\\u0e30\\u0e2b\\u0e22\\u0e31\\u0e14 \\u0e0b\\u0e37\\u0e48\\u0e2d\\u0e2a\\u0e31\\u0e15\\u0e22\\u0e4c \\u0e21\\u0e35\\u0e27\\u0e34\\u0e19\\u0e31\\u0e22\",\n\"\\u0e19\\u0e32\\u0e22\\u0e0a\\u0e27\\u0e19 \\u0e2b\\u0e25\\u0e35\\u0e01\\u0e20\\u0e31\\u0e22\"],\n [{\n            'v': 41,\n            'f': \"41\",\n        },\n{\n            'v': 2543,\n            'f': \"2543\",\n        },\n\"\\u0e21\\u0e35\\u0e27\\u0e34\\u0e19\\u0e31\\u0e22 \\u0e43\\u0e1d\\u0e48\\u0e40\\u0e23\\u0e35\\u0e22\\u0e19\\u0e23\\u0e39\\u0e49 \\u0e04\\u0e39\\u0e48\\u0e04\\u0e38\\u0e13\\u0e18\\u0e23\\u0e23\\u0e21 \\u0e19\\u0e33\\u0e1b\\u0e23\\u0e30\\u0e0a\\u0e32\\u0e18\\u0e34\\u0e1b\\u0e44\\u0e15\\u0e22\",\n\"\\u0e19\\u0e32\\u0e22\\u0e0a\\u0e27\\u0e19 \\u0e2b\\u0e25\\u0e35\\u0e01\\u0e20\\u0e31\\u0e22\"],\n [{\n            'v': 42,\n            'f': \"42\",\n        },\n{\n            'v': 2544,\n            'f': \"2544\",\n        },\n\"\\u0e21\\u0e35\\u0e27\\u0e34\\u0e19\\u0e31\\u0e22 \\u0e43\\u0e1d\\u0e48\\u0e40\\u0e23\\u0e35\\u0e22\\u0e19\\u0e23\\u0e39\\u0e49 \\u0e04\\u0e39\\u0e48\\u0e04\\u0e38\\u0e13\\u0e18\\u0e23\\u0e23\\u0e21 \\u0e19\\u0e33\\u0e1b\\u0e23\\u0e30\\u0e0a\\u0e32\\u0e18\\u0e34\\u0e1b\\u0e44\\u0e15\\u0e22\",\n\"\\u0e19\\u0e32\\u0e22\\u0e0a\\u0e27\\u0e19 \\u0e2b\\u0e25\\u0e35\\u0e01\\u0e20\\u0e31\\u0e22\"],\n [{\n            'v': 43,\n            'f': \"43\",\n        },\n{\n            'v': 2545,\n            'f': \"2545\",\n        },\n\"\\u0e40\\u0e23\\u0e35\\u0e22\\u0e19\\u0e43\\u0e2b\\u0e49\\u0e2a\\u0e19\\u0e38\\u0e01 \\u0e40\\u0e25\\u0e48\\u0e19\\u0e43\\u0e2b\\u0e49\\u0e21\\u0e35\\u0e04\\u0e27\\u0e32\\u0e21\\u0e23\\u0e39\\u0e49 \\u0e2a\\u0e39\\u0e48\\u0e2d\\u0e19\\u0e32\\u0e04\\u0e15\\u0e17\\u0e35\\u0e48\\u0e2a\\u0e14\\u0e43\\u0e2a\",\n\"\\u0e1e.\\u0e15.\\u0e17.\\u0e17\\u0e31\\u0e01\\u0e29\\u0e34\\u0e13 \\u0e0a\\u0e34\\u0e19\\u0e27\\u0e31\\u0e15\\u0e23\"],\n [{\n            'v': 44,\n            'f': \"44\",\n        },\n{\n            'v': 2546,\n            'f': \"2546\",\n        },\n\"\\u0e40\\u0e23\\u0e35\\u0e22\\u0e19\\u0e23\\u0e39\\u0e49\\u0e15\\u0e25\\u0e2d\\u0e14\\u0e0a\\u0e35\\u0e27\\u0e34\\u0e15 \\u0e04\\u0e34\\u0e14\\u0e2d\\u0e22\\u0e48\\u0e32\\u0e07\\u0e2a\\u0e23\\u0e49\\u0e32\\u0e07\\u0e2a\\u0e23\\u0e23\\u0e04\\u0e4c \\u0e01\\u0e49\\u0e32\\u0e27\\u0e17\\u0e31\\u0e19\\u0e40\\u0e17\\u0e04\\u0e42\\u0e19\\u0e42\\u0e25\\u0e22\\u0e35\",\n\"\\u0e1e.\\u0e15.\\u0e17.\\u0e17\\u0e31\\u0e01\\u0e29\\u0e34\\u0e13 \\u0e0a\\u0e34\\u0e19\\u0e27\\u0e31\\u0e15\\u0e23\"],\n [{\n            'v': 45,\n            'f': \"45\",\n        },\n{\n            'v': 2547,\n            'f': \"2547\",\n        },\n\"\\u0e23\\u0e31\\u0e01\\u0e0a\\u0e32\\u0e15\\u0e34 \\u0e23\\u0e31\\u0e01\\u0e1e\\u0e48\\u0e2d\\u0e41\\u0e21\\u0e48 \\u0e23\\u0e31\\u0e01\\u0e40\\u0e23\\u0e35\\u0e22\\u0e19\\u0e23\\u0e31\\u0e01\\u0e2a\\u0e34\\u0e48\\u0e07\\u0e14\\u0e35\\u0e46 \\u0e2d\\u0e19\\u0e32\\u0e04\\u0e15\\u0e14\\u0e35\\u0e41\\u0e19\\u0e48\\u0e19\\u0e2d\\u0e19\",\n\"\\u0e1e.\\u0e15.\\u0e17.\\u0e17\\u0e31\\u0e01\\u0e29\\u0e34\\u0e13 \\u0e0a\\u0e34\\u0e19\\u0e27\\u0e31\\u0e15\\u0e23\"],\n [{\n            'v': 46,\n            'f': \"46\",\n        },\n{\n            'v': 2548,\n            'f': \"2548\",\n        },\n\"\\u0e40\\u0e14\\u0e47\\u0e01\\u0e23\\u0e38\\u0e48\\u0e19\\u0e43\\u0e2b\\u0e21\\u0e48 \\u0e15\\u0e49\\u0e2d\\u0e07\\u0e02\\u0e22\\u0e31\\u0e19\\u0e2d\\u0e48\\u0e32\\u0e19\\u0e02\\u0e22\\u0e31\\u0e19\\u0e40\\u0e23\\u0e35\\u0e22\\u0e19 \\u0e01\\u0e25\\u0e49\\u0e32\\u0e04\\u0e34\\u0e14 \\u0e01\\u0e25\\u0e49\\u0e32\\u0e1e\\u0e39\\u0e14\",\n\"\\u0e1e.\\u0e15.\\u0e17.\\u0e17\\u0e31\\u0e01\\u0e29\\u0e34\\u0e13 \\u0e0a\\u0e34\\u0e19\\u0e27\\u0e31\\u0e15\\u0e23\"],\n [{\n            'v': 47,\n            'f': \"47\",\n        },\n{\n            'v': 2549,\n            'f': \"2549\",\n        },\n\"\\u0e2d\\u0e22\\u0e32\\u0e01\\u0e09\\u0e25\\u0e32\\u0e14 \\u0e15\\u0e49\\u0e2d\\u0e07\\u0e02\\u0e22\\u0e31\\u0e19\\u0e2d\\u0e48\\u0e32\\u0e19\\u0e02\\u0e22\\u0e31\\u0e19\\u0e04\\u0e34\\u0e14\",\n\"\\u0e1e.\\u0e15.\\u0e17.\\u0e17\\u0e31\\u0e01\\u0e29\\u0e34\\u0e13 \\u0e0a\\u0e34\\u0e19\\u0e27\\u0e31\\u0e15\\u0e23\"],\n [{\n            'v': 48,\n            'f': \"48\",\n        },\n{\n            'v': 2550,\n            'f': \"2550\",\n        },\n\"\\u0e21\\u0e35\\u0e04\\u0e38\\u0e13\\u0e18\\u0e23\\u0e23\\u0e21\\u0e19\\u0e33\\u0e43\\u0e08 \\u0e43\\u0e0a\\u0e49\\u0e0a\\u0e35\\u0e27\\u0e34\\u0e15\\u0e1e\\u0e2d\\u0e40\\u0e1e\\u0e35\\u0e22\\u0e07 \\u0e2b\\u0e25\\u0e35\\u0e01\\u0e40\\u0e25\\u0e35\\u0e48\\u0e22\\u0e07\\u0e2d\\u0e1a\\u0e32\\u0e22\\u0e21\\u0e38\\u0e02\",\n\"\\u0e1e\\u0e25\\u0e40\\u0e2d\\u0e01\\u0e2a\\u0e38\\u0e23\\u0e22\\u0e38\\u0e17\\u0e18\\u0e4c \\u0e08\\u0e38\\u0e25\\u0e32\\u0e19\\u0e19\\u0e17\\u0e4c\"],\n [{\n            'v': 49,\n            'f': \"49\",\n        },\n{\n            'v': 2551,\n            'f': \"2551\",\n        },\n\"\\u0e2a\\u0e32\\u0e21\\u0e31\\u0e04\\u0e04\\u0e35 \\u0e21\\u0e35\\u0e27\\u0e34\\u0e19\\u0e31\\u0e22 \\u0e43\\u0e1d\\u0e48\\u0e40\\u0e23\\u0e35\\u0e22\\u0e19\\u0e23\\u0e39\\u0e49\\u0e40\\u0e0a\\u0e34\\u0e14\\u0e0a\\u0e39\\u0e04\\u0e38\\u0e13\\u0e18\\u0e23\\u0e23\\u0e21\",\n\"\\u0e1e\\u0e25\\u0e40\\u0e2d\\u0e01\\u0e2a\\u0e38\\u0e23\\u0e22\\u0e38\\u0e17\\u0e18\\u0e4c \\u0e08\\u0e38\\u0e25\\u0e32\\u0e19\\u0e19\\u0e17\\u0e4c\"],\n [{\n            'v': 50,\n            'f': \"50\",\n        },\n{\n            'v': 2552,\n            'f': \"2552\",\n        },\n\"\\u0e09\\u0e25\\u0e32\\u0e14\\u0e04\\u0e34\\u0e14 \\u0e08\\u0e34\\u0e15\\u0e1a\\u0e23\\u0e34\\u0e2a\\u0e38\\u0e17\\u0e18\\u0e34\\u0e4c \\u0e08\\u0e38\\u0e14\\u0e1b\\u0e23\\u0e30\\u0e01\\u0e32\\u0e22\\u0e1d\\u0e31\\u0e19 \\u0e1c\\u0e39\\u0e01\\u0e1e\\u0e31\\u0e19\\u0e23\\u0e31\\u0e01\\u0e2a\\u0e32\\u0e21\\u0e31\\u0e04\\u0e04\\u0e35\",\n\"\\u0e19\\u0e32\\u0e22\\u0e2d\\u0e20\\u0e34\\u0e2a\\u0e34\\u0e17\\u0e18\\u0e34\\u0e4c \\u0e40\\u0e27\\u0e0a\\u0e0a\\u0e32\\u0e0a\\u0e35\\u0e27\\u0e30\"],\n [{\n            'v': 51,\n            'f': \"51\",\n        },\n{\n            'v': 2553,\n            'f': \"2553\",\n        },\n\"\\u0e04\\u0e34\\u0e14\\u0e2a\\u0e23\\u0e49\\u0e32\\u0e07\\u0e2a\\u0e23\\u0e23\\u0e04\\u0e4c \\u0e02\\u0e22\\u0e31\\u0e19\\u0e43\\u0e1d\\u0e48\\u0e23\\u0e39\\u0e49 \\u0e40\\u0e0a\\u0e34\\u0e14\\u0e0a\\u0e39\\u0e04\\u0e38\\u0e13\\u0e18\\u0e23\\u0e23\\u0e21\",\n\"\\u0e19\\u0e32\\u0e22\\u0e2d\\u0e20\\u0e34\\u0e2a\\u0e34\\u0e17\\u0e18\\u0e34\\u0e4c \\u0e40\\u0e27\\u0e0a\\u0e0a\\u0e32\\u0e0a\\u0e35\\u0e27\\u0e30\"],\n [{\n            'v': 52,\n            'f': \"52\",\n        },\n{\n            'v': 2554,\n            'f': \"2554\",\n        },\n\"\\u0e23\\u0e2d\\u0e1a\\u0e04\\u0e2d\\u0e1a \\u0e23\\u0e39\\u0e49\\u0e04\\u0e34\\u0e14 \\u0e21\\u0e35\\u0e08\\u0e34\\u0e15\\u0e2a\\u0e32\\u0e18\\u0e32\\u0e23\\u0e13\\u0e30\",\n\"\\u0e19\\u0e32\\u0e22\\u0e2d\\u0e20\\u0e34\\u0e2a\\u0e34\\u0e17\\u0e18\\u0e34\\u0e4c \\u0e40\\u0e27\\u0e0a\\u0e0a\\u0e32\\u0e0a\\u0e35\\u0e27\\u0e30\"],\n [{\n            'v': 53,\n            'f': \"53\",\n        },\n{\n            'v': 2555,\n            'f': \"2555\",\n        },\n\"\\u0e2a\\u0e32\\u0e21\\u0e31\\u0e04\\u0e04\\u0e35 \\u0e21\\u0e35\\u0e04\\u0e27\\u0e32\\u0e21\\u0e23\\u0e39\\u0e49\\u0e04\\u0e39\\u0e48\\u0e1b\\u0e31\\u0e0d\\u0e0d\\u0e32 \\u0e04\\u0e07\\u0e23\\u0e31\\u0e01\\u0e29\\u0e32\\u0e04\\u0e27\\u0e32\\u0e21\\u0e40\\u0e1b\\u0e47\\u0e19\\u0e44\\u0e17\\u0e22 \\u0e43\\u0e2a\\u0e48\\u0e43\\u0e08\\u0e40\\u0e17\\u0e04\\u0e42\\u0e19\\u0e42\\u0e25\\u0e22\\u0e35\",\n\"\\u0e19.\\u0e2a.\\u0e22\\u0e34\\u0e48\\u0e07\\u0e25\\u0e31\\u0e01\\u0e29\\u0e13\\u0e4c \\u0e0a\\u0e34\\u0e19\\u0e27\\u0e31\\u0e15\\u0e23\"],\n [{\n            'v': 54,\n            'f': \"54\",\n        },\n{\n            'v': 2556,\n            'f': \"2556\",\n        },\n\"\\u0e23\\u0e31\\u0e01\\u0e29\\u0e32\\u0e27\\u0e34\\u0e19\\u0e31\\u0e22 \\u0e43\\u0e1d\\u0e48\\u0e40\\u0e23\\u0e35\\u0e22\\u0e19\\u0e23\\u0e39\\u0e49 \\u0e40\\u0e1e\\u0e34\\u0e48\\u0e21\\u0e1e\\u0e39\\u0e19\\u0e1b\\u0e31\\u0e0d\\u0e0d\\u0e32 \\u0e19\\u0e33\\u0e1e\\u0e32\\u0e44\\u0e17\\u0e22\\u0e2a\\u0e39\\u0e48\\u0e2d\\u0e32\\u0e40\\u0e0b\\u0e35\\u0e22\\u0e19\",\n\"\\u0e19.\\u0e2a.\\u0e22\\u0e34\\u0e48\\u0e07\\u0e25\\u0e31\\u0e01\\u0e29\\u0e13\\u0e4c \\u0e0a\\u0e34\\u0e19\\u0e27\\u0e31\\u0e15\\u0e23\"],\n [{\n            'v': 55,\n            'f': \"55\",\n        },\n{\n            'v': 2557,\n            'f': \"2557\",\n        },\n\"\\u0e01\\u0e15\\u0e31\\u0e0d\\u0e0d\\u0e39 \\u0e23\\u0e39\\u0e49\\u0e2b\\u0e19\\u0e49\\u0e32\\u0e17\\u0e35\\u0e48 \\u0e40\\u0e1b\\u0e47\\u0e19\\u0e40\\u0e14\\u0e47\\u0e01\\u0e14\\u0e35 \\u0e21\\u0e35\\u0e27\\u0e34\\u0e19\\u0e31\\u0e22 \\u0e2a\\u0e23\\u0e49\\u0e32\\u0e07\\u0e44\\u0e17\\u0e22 \\u0e43\\u0e2b\\u0e49\\u0e21\\u0e31\\u0e48\\u0e19\\u0e04\\u0e07\",\n\"\\u0e19.\\u0e2a.\\u0e22\\u0e34\\u0e48\\u0e07\\u0e25\\u0e31\\u0e01\\u0e29\\u0e13\\u0e4c \\u0e0a\\u0e34\\u0e19\\u0e27\\u0e31\\u0e15\\u0e23\"],\n [{\n            'v': 56,\n            'f': \"56\",\n        },\n{\n            'v': 2558,\n            'f': \"2558\",\n        },\n\"\\u0e04\\u0e27\\u0e32\\u0e21\\u0e23\\u0e39\\u0e49 \\u0e04\\u0e39\\u0e48\\u0e04\\u0e38\\u0e13\\u0e18\\u0e23\\u0e23\\u0e21 \\u0e19\\u0e33\\u0e2a\\u0e39\\u0e48\\u0e2d\\u0e19\\u0e32\\u0e04\\u0e15\",\n\"\\u0e1e\\u0e25.\\u0e2d.\\u0e1b\\u0e23\\u0e30\\u0e22\\u0e38\\u0e17\\u0e18\\u0e4c \\u0e08\\u0e31\\u0e19\\u0e17\\u0e23\\u0e4c\\u0e42\\u0e2d\\u0e0a\\u0e32\"],\n [{\n            'v': 57,\n            'f': \"57\",\n        },\n{\n            'v': 2559,\n            'f': \"2559\",\n        },\n\"\\u0e40\\u0e14\\u0e47\\u0e01\\u0e14\\u0e35 \\u0e2b\\u0e21\\u0e31\\u0e48\\u0e19\\u0e40\\u0e1e\\u0e35\\u0e22\\u0e23 \\u0e40\\u0e23\\u0e35\\u0e22\\u0e19\\u0e23\\u0e39\\u0e49 \\u0e2a\\u0e39\\u0e48\\u0e2d\\u0e19\\u0e32\\u0e04\\u0e15\",\n\"\\u0e1e\\u0e25.\\u0e2d.\\u0e1b\\u0e23\\u0e30\\u0e22\\u0e38\\u0e17\\u0e18\\u0e4c \\u0e08\\u0e31\\u0e19\\u0e17\\u0e23\\u0e4c\\u0e42\\u0e2d\\u0e0a\\u0e32\"],\n [{\n            'v': 58,\n            'f': \"58\",\n        },\n{\n            'v': 2560,\n            'f': \"2560\",\n        },\n\"\\u0e40\\u0e14\\u0e47\\u0e01\\u0e44\\u0e17\\u0e22 \\u0e43\\u0e2a\\u0e48\\u0e43\\u0e08\\u0e28\\u0e36\\u0e01\\u0e29\\u0e32 \\u0e1e\\u0e32\\u0e0a\\u0e32\\u0e15\\u0e34\\u0e21\\u0e31\\u0e48\\u0e19\\u0e04\\u0e07\",\n\"\\u0e1e\\u0e25.\\u0e2d.\\u0e1b\\u0e23\\u0e30\\u0e22\\u0e38\\u0e17\\u0e18\\u0e4c \\u0e08\\u0e31\\u0e19\\u0e17\\u0e23\\u0e4c\\u0e42\\u0e2d\\u0e0a\\u0e32\"],\n [{\n            'v': 59,\n            'f': \"59\",\n        },\n{\n            'v': 2561,\n            'f': \"2561\",\n        },\n\"\\u0e23\\u0e39\\u0e49\\u0e04\\u0e34\\u0e14 \\u0e23\\u0e39\\u0e49\\u0e40\\u0e17\\u0e48\\u0e32\\u0e17\\u0e31\\u0e19 \\u0e2a\\u0e23\\u0e49\\u0e32\\u0e07\\u0e2a\\u0e23\\u0e23\\u0e04\\u0e4c\\u0e40\\u0e17\\u0e04\\u0e42\\u0e19\\u0e42\\u0e25\\u0e22\\u0e35\",\n\"\\u0e1e\\u0e25.\\u0e2d.\\u0e1b\\u0e23\\u0e30\\u0e22\\u0e38\\u0e17\\u0e18\\u0e4c \\u0e08\\u0e31\\u0e19\\u0e17\\u0e23\\u0e4c\\u0e42\\u0e2d\\u0e0a\\u0e32\"],\n [{\n            'v': 60,\n            'f': \"60\",\n        },\n{\n            'v': 2562,\n            'f': \"2562\",\n        },\n\"\\u0e40\\u0e14\\u0e47\\u0e01 \\u0e40\\u0e22\\u0e32\\u0e27\\u0e0a\\u0e19 \\u0e08\\u0e34\\u0e15\\u0e2d\\u0e32\\u0e2a\\u0e32 \\u0e23\\u0e48\\u0e27\\u0e21\\u0e1e\\u0e31\\u0e12\\u0e19\\u0e32\\u0e0a\\u0e32\\u0e15\\u0e34\",\n\"\\u0e1e\\u0e25.\\u0e2d.\\u0e1b\\u0e23\\u0e30\\u0e22\\u0e38\\u0e17\\u0e18\\u0e4c \\u0e08\\u0e31\\u0e19\\u0e17\\u0e23\\u0e4c\\u0e42\\u0e2d\\u0e0a\\u0e32\"],\n [{\n            'v': 61,\n            'f': \"61\",\n        },\n{\n            'v': 2563,\n            'f': \"2563\",\n        },\n\"\\u0e40\\u0e14\\u0e47\\u0e01\\u0e44\\u0e17\\u0e22\\u0e22\\u0e38\\u0e04\\u0e43\\u0e2b\\u0e21\\u0e48 \\u0e23\\u0e39\\u0e49\\u0e23\\u0e31\\u0e01\\u0e2a\\u0e32\\u0e21\\u0e31\\u0e04\\u0e04\\u0e35 \\u0e23\\u0e39\\u0e49\\u0e2b\\u0e19\\u0e49\\u0e32\\u0e17\\u0e35\\u0e48\\u0e1e\\u0e25\\u0e40\\u0e21\\u0e37\\u0e2d\\u0e07\\u0e44\\u0e17\\u0e22\",\n\"\\u0e1e\\u0e25.\\u0e2d.\\u0e1b\\u0e23\\u0e30\\u0e22\\u0e38\\u0e17\\u0e18\\u0e4c \\u0e08\\u0e31\\u0e19\\u0e17\\u0e23\\u0e4c\\u0e42\\u0e2d\\u0e0a\\u0e32\"]],\n        columns: [[\"number\", \"index\"], [\"number\", \"year\"], [\"string\", \"motto\"], [\"string\", \"pm\"]],\n        columnOptions: [{\"width\": \"1px\", \"className\": \"index_column\"}],\n        rowsPerPage: 25,\n        helpUrl: \"https://colab.research.google.com/notebooks/data_table.ipynb\",\n      });\n    ",
            "text/html": [
              "<div>\n",
              "<style scoped>\n",
              "    .dataframe tbody tr th:only-of-type {\n",
              "        vertical-align: middle;\n",
              "    }\n",
              "\n",
              "    .dataframe tbody tr th {\n",
              "        vertical-align: top;\n",
              "    }\n",
              "\n",
              "    .dataframe thead th {\n",
              "        text-align: right;\n",
              "    }\n",
              "</style>\n",
              "<table border=\"1\" class=\"dataframe\">\n",
              "  <thead>\n",
              "    <tr style=\"text-align: right;\">\n",
              "      <th></th>\n",
              "      <th>year</th>\n",
              "      <th>motto</th>\n",
              "      <th>pm</th>\n",
              "    </tr>\n",
              "  </thead>\n",
              "  <tbody>\n",
              "    <tr>\n",
              "      <th>0</th>\n",
              "      <td>2499</td>\n",
              "      <td>จงบำเพ็ญตนให้เป็นประโยชน์ส่วนรวมแก่ผู้อื่น</td>\n",
              "      <td>จอมพล ป. พิบูลสงคราม</td>\n",
              "    </tr>\n",
              "    <tr>\n",
              "      <th>1</th>\n",
              "      <td>2502</td>\n",
              "      <td>ขอให้เด็กสมัยปฏิวัติของข้าพเจ้า จงเป็นเด็กที่ร...</td>\n",
              "      <td>จอมพล สฤษดิ์ ธนะรัชต์</td>\n",
              "    </tr>\n",
              "    <tr>\n",
              "      <th>2</th>\n",
              "      <td>2503</td>\n",
              "      <td>ขอให้เด็กสมัยปฏิวัติของข้าพเจ้า จงเป็นเด็กที่ร...</td>\n",
              "      <td>จอมพล สฤษดิ์ ธนะรัชต์</td>\n",
              "    </tr>\n",
              "    <tr>\n",
              "      <th>3</th>\n",
              "      <td>2504</td>\n",
              "      <td>ขอให้เด็กสมัยปฏิวัติของข้าพเจ้า จงเป็นเด็กที่อ...</td>\n",
              "      <td>จอมพล สฤษดิ์ ธนะรัชต์</td>\n",
              "    </tr>\n",
              "    <tr>\n",
              "      <th>4</th>\n",
              "      <td>2505</td>\n",
              "      <td>ขอให้เด็กสมัยปฏิวัติของข้าพเจ้า จงเป็นเด็กที่ป...</td>\n",
              "      <td>จอมพล สฤษดิ์ ธนะรัชต์</td>\n",
              "    </tr>\n",
              "    <tr>\n",
              "      <th>...</th>\n",
              "      <td>...</td>\n",
              "      <td>...</td>\n",
              "      <td>...</td>\n",
              "    </tr>\n",
              "    <tr>\n",
              "      <th>57</th>\n",
              "      <td>2559</td>\n",
              "      <td>เด็กดี หมั่นเพียร เรียนรู้ สู่อนาคต</td>\n",
              "      <td>พล.อ.ประยุทธ์ จันทร์โอชา</td>\n",
              "    </tr>\n",
              "    <tr>\n",
              "      <th>58</th>\n",
              "      <td>2560</td>\n",
              "      <td>เด็กไทย ใส่ใจศึกษา พาชาติมั่นคง</td>\n",
              "      <td>พล.อ.ประยุทธ์ จันทร์โอชา</td>\n",
              "    </tr>\n",
              "    <tr>\n",
              "      <th>59</th>\n",
              "      <td>2561</td>\n",
              "      <td>รู้คิด รู้เท่าทัน สร้างสรรค์เทคโนโลยี</td>\n",
              "      <td>พล.อ.ประยุทธ์ จันทร์โอชา</td>\n",
              "    </tr>\n",
              "    <tr>\n",
              "      <th>60</th>\n",
              "      <td>2562</td>\n",
              "      <td>เด็ก เยาวชน จิตอาสา ร่วมพัฒนาชาติ</td>\n",
              "      <td>พล.อ.ประยุทธ์ จันทร์โอชา</td>\n",
              "    </tr>\n",
              "    <tr>\n",
              "      <th>61</th>\n",
              "      <td>2563</td>\n",
              "      <td>เด็กไทยยุคใหม่ รู้รักสามัคคี รู้หน้าที่พลเมืองไทย</td>\n",
              "      <td>พล.อ.ประยุทธ์ จันทร์โอชา</td>\n",
              "    </tr>\n",
              "  </tbody>\n",
              "</table>\n",
              "<p>62 rows × 3 columns</p>\n",
              "</div>"
            ],
            "text/plain": [
              "    year  ...                        pm\n",
              "0   2499  ...      จอมพล ป. พิบูลสงคราม\n",
              "1   2502  ...     จอมพล สฤษดิ์ ธนะรัชต์\n",
              "2   2503  ...     จอมพล สฤษดิ์ ธนะรัชต์\n",
              "3   2504  ...     จอมพล สฤษดิ์ ธนะรัชต์\n",
              "4   2505  ...     จอมพล สฤษดิ์ ธนะรัชต์\n",
              "..   ...  ...                       ...\n",
              "57  2559  ...  พล.อ.ประยุทธ์ จันทร์โอชา\n",
              "58  2560  ...  พล.อ.ประยุทธ์ จันทร์โอชา\n",
              "59  2561  ...  พล.อ.ประยุทธ์ จันทร์โอชา\n",
              "60  2562  ...  พล.อ.ประยุทธ์ จันทร์โอชา\n",
              "61  2563  ...  พล.อ.ประยุทธ์ จันทร์โอชา\n",
              "\n",
              "[62 rows x 3 columns]"
            ]
          },
          "metadata": {
            "tags": []
          },
          "execution_count": 25
        }
      ]
    },
    {
      "cell_type": "markdown",
      "metadata": {
        "id": "35WrT7_TQlHs",
        "colab_type": "text"
      },
      "source": [
        "# Analyze"
      ]
    },
    {
      "cell_type": "markdown",
      "metadata": {
        "id": "evMJlUaORB-M",
        "colab_type": "text"
      },
      "source": [
        "## Tokenizer"
      ]
    },
    {
      "cell_type": "markdown",
      "metadata": {
        "id": "-oKMfmqsREAi",
        "colab_type": "text"
      },
      "source": [
        "สามารถปรับได้เรื่อยๆ ถ้าเจอตัดผิด"
      ]
    },
    {
      "cell_type": "code",
      "metadata": {
        "id": "H2bAlrtFRGrZ",
        "colab_type": "code",
        "colab": {}
      },
      "source": [
        "from pythainlp.corpus import ttc\n",
        "words = [w for w,_ in ttc.word_freqs()]\n",
        "tok = Tokenizer(words)"
      ],
      "execution_count": 0,
      "outputs": []
    },
    {
      "cell_type": "markdown",
      "metadata": {
        "id": "usLwz_LCQq_X",
        "colab_type": "text"
      },
      "source": [
        "## 9 คำฮิต"
      ]
    },
    {
      "cell_type": "code",
      "metadata": {
        "id": "ARk5PAWdNfPt",
        "colab_type": "code",
        "colab": {}
      },
      "source": [
        "def gen_word():\n",
        "  for motto in df.motto:\n",
        "    yield from tok.word_tokenize(motto)"
      ],
      "execution_count": 0,
      "outputs": []
    },
    {
      "cell_type": "code",
      "metadata": {
        "id": "78jzL-DLQyeR",
        "colab_type": "code",
        "outputId": "b1bbcb33-e7b7-41d2-e9e6-4fb6440cda3a",
        "colab": {
          "base_uri": "https://localhost:8080/",
          "height": 323
        }
      },
      "source": [
        "pairs = Counter(gen_word()).most_common(16)\n",
        "stop = {' ', 'มี', 'ความ', 'เป็น', 'ของ'}\n",
        "pd.DataFrame([(w, f) for (w, f) in pairs if w not in stop])\n",
        "# นับตกไปบ้าง เพราะตัดไม่เหมือนกัน"
      ],
      "execution_count": 0,
      "outputs": [
        {
          "output_type": "execute_result",
          "data": {
            "application/vnd.google.colaboratory.module+javascript": "\n      import \"https://ssl.gstatic.com/colaboratory/data_table/9e554b27bdd509f3/data_table.js\";\n\n      window.createDataTable({\n        data: [[{\n            'v': 0,\n            'f': \"0\",\n        },\n\"\\u0e40\\u0e14\\u0e47\\u0e01\",\n{\n            'v': 33,\n            'f': \"33\",\n        }],\n [{\n            'v': 1,\n            'f': \"1\",\n        },\n\"\\u0e27\\u0e34\\u0e19\\u0e31\\u0e22\",\n{\n            'v': 18,\n            'f': \"18\",\n        }],\n [{\n            'v': 2,\n            'f': \"2\",\n        },\n\"\\u0e44\\u0e17\\u0e22\",\n{\n            'v': 17,\n            'f': \"17\",\n        }],\n [{\n            'v': 3,\n            'f': \"3\",\n        },\n\"\\u0e23\\u0e39\\u0e49\",\n{\n            'v': 17,\n            'f': \"17\",\n        }],\n [{\n            'v': 4,\n            'f': \"4\",\n        },\n\"\\u0e14\\u0e35\",\n{\n            'v': 16,\n            'f': \"16\",\n        }],\n [{\n            'v': 5,\n            'f': \"5\",\n        },\n\"\\u0e0a\\u0e32\\u0e15\\u0e34\",\n{\n            'v': 16,\n            'f': \"16\",\n        }],\n [{\n            'v': 6,\n            'f': \"6\",\n        },\n\"\\u0e04\\u0e38\\u0e13\\u0e18\\u0e23\\u0e23\\u0e21\",\n{\n            'v': 15,\n            'f': \"15\",\n        }],\n [{\n            'v': 7,\n            'f': \"7\",\n        },\n\"\\u0e23\\u0e31\\u0e01\",\n{\n            'v': 14,\n            'f': \"14\",\n        }],\n [{\n            'v': 8,\n            'f': \"8\",\n        },\n\"\\u0e43\\u0e1d\\u0e48\",\n{\n            'v': 11,\n            'f': \"11\",\n        }],\n [{\n            'v': 9,\n            'f': \"9\",\n        },\n\"\\u0e2a\\u0e32\\u0e21\\u0e31\\u0e04\\u0e04\\u0e35\",\n{\n            'v': 10,\n            'f': \"10\",\n        }],\n [{\n            'v': 10,\n            'f': \"10\",\n        },\n\"\\u0e02\\u0e22\\u0e31\\u0e19\",\n{\n            'v': 10,\n            'f': \"10\",\n        }]],\n        columns: [[\"number\", \"index\"], [\"string\", \"0\"], [\"number\", \"1\"]],\n        columnOptions: [{\"width\": \"1px\", \"className\": \"index_column\"}],\n        rowsPerPage: 25,\n        helpUrl: \"https://colab.research.google.com/notebooks/data_table.ipynb\",\n      });\n    ",
            "text/html": [
              "<div>\n",
              "<style scoped>\n",
              "    .dataframe tbody tr th:only-of-type {\n",
              "        vertical-align: middle;\n",
              "    }\n",
              "\n",
              "    .dataframe tbody tr th {\n",
              "        vertical-align: top;\n",
              "    }\n",
              "\n",
              "    .dataframe thead th {\n",
              "        text-align: right;\n",
              "    }\n",
              "</style>\n",
              "<table border=\"1\" class=\"dataframe\">\n",
              "  <thead>\n",
              "    <tr style=\"text-align: right;\">\n",
              "      <th></th>\n",
              "      <th>0</th>\n",
              "      <th>1</th>\n",
              "    </tr>\n",
              "  </thead>\n",
              "  <tbody>\n",
              "    <tr>\n",
              "      <th>0</th>\n",
              "      <td>เด็ก</td>\n",
              "      <td>33</td>\n",
              "    </tr>\n",
              "    <tr>\n",
              "      <th>1</th>\n",
              "      <td>วินัย</td>\n",
              "      <td>18</td>\n",
              "    </tr>\n",
              "    <tr>\n",
              "      <th>2</th>\n",
              "      <td>ไทย</td>\n",
              "      <td>17</td>\n",
              "    </tr>\n",
              "    <tr>\n",
              "      <th>3</th>\n",
              "      <td>รู้</td>\n",
              "      <td>17</td>\n",
              "    </tr>\n",
              "    <tr>\n",
              "      <th>4</th>\n",
              "      <td>ดี</td>\n",
              "      <td>16</td>\n",
              "    </tr>\n",
              "    <tr>\n",
              "      <th>5</th>\n",
              "      <td>ชาติ</td>\n",
              "      <td>16</td>\n",
              "    </tr>\n",
              "    <tr>\n",
              "      <th>6</th>\n",
              "      <td>คุณธรรม</td>\n",
              "      <td>15</td>\n",
              "    </tr>\n",
              "    <tr>\n",
              "      <th>7</th>\n",
              "      <td>รัก</td>\n",
              "      <td>14</td>\n",
              "    </tr>\n",
              "    <tr>\n",
              "      <th>8</th>\n",
              "      <td>ใฝ่</td>\n",
              "      <td>11</td>\n",
              "    </tr>\n",
              "    <tr>\n",
              "      <th>9</th>\n",
              "      <td>สามัคคี</td>\n",
              "      <td>10</td>\n",
              "    </tr>\n",
              "    <tr>\n",
              "      <th>10</th>\n",
              "      <td>ขยัน</td>\n",
              "      <td>10</td>\n",
              "    </tr>\n",
              "  </tbody>\n",
              "</table>\n",
              "</div>"
            ],
            "text/plain": [
              "          0   1\n",
              "0      เด็ก  33\n",
              "1     วินัย  18\n",
              "2       ไทย  17\n",
              "3       รู้  17\n",
              "4        ดี  16\n",
              "5      ชาติ  16\n",
              "6   คุณธรรม  15\n",
              "7       รัก  14\n",
              "8       ใฝ่  11\n",
              "9   สามัคคี  10\n",
              "10     ขยัน  10"
            ]
          },
          "metadata": {
            "tags": []
          },
          "execution_count": 44
        }
      ]
    },
    {
      "cell_type": "markdown",
      "metadata": {
        "id": "zVL8QMHjTQzy",
        "colab_type": "text"
      },
      "source": [
        "## ใครบ่อยสุด"
      ]
    },
    {
      "cell_type": "code",
      "metadata": {
        "id": "0Ni9ii07Q3m7",
        "colab_type": "code",
        "outputId": "9fd1a69f-9f7d-4f07-e5ad-4b35ff52ad97",
        "colab": {
          "base_uri": "https://localhost:8080/",
          "height": 473
        }
      },
      "source": [
        "df.pm.value_counts().to_frame()"
      ],
      "execution_count": 0,
      "outputs": [
        {
          "output_type": "execute_result",
          "data": {
            "application/vnd.google.colaboratory.module+javascript": "\n      import \"https://ssl.gstatic.com/colaboratory/data_table/9e554b27bdd509f3/data_table.js\";\n\n      window.createDataTable({\n        data: [[\"\\u0e08\\u0e2d\\u0e21\\u0e1e\\u0e25 \\u0e16\\u0e19\\u0e2d\\u0e21 \\u0e01\\u0e34\\u0e15\\u0e15\\u0e34\\u0e02\\u0e08\\u0e23\",\n{\n            'v': 9,\n            'f': \"9\",\n        }],\n [\"\\u0e1e\\u0e25\\u0e40\\u0e2d\\u0e01\\u0e40\\u0e1b\\u0e23\\u0e21 \\u0e15\\u0e34\\u0e13\\u0e2a\\u0e39\\u0e25\\u0e32\\u0e19\\u0e19\\u0e17\\u0e4c\",\n{\n            'v': 8,\n            'f': \"8\",\n        }],\n [\"\\u0e19\\u0e32\\u0e22\\u0e0a\\u0e27\\u0e19 \\u0e2b\\u0e25\\u0e35\\u0e01\\u0e20\\u0e31\\u0e22\",\n{\n            'v': 7,\n            'f': \"7\",\n        }],\n [\"\\u0e1e\\u0e25.\\u0e2d.\\u0e1b\\u0e23\\u0e30\\u0e22\\u0e38\\u0e17\\u0e18\\u0e4c \\u0e08\\u0e31\\u0e19\\u0e17\\u0e23\\u0e4c\\u0e42\\u0e2d\\u0e0a\\u0e32\",\n{\n            'v': 6,\n            'f': \"6\",\n        }],\n [\"\\u0e1e.\\u0e15.\\u0e17.\\u0e17\\u0e31\\u0e01\\u0e29\\u0e34\\u0e13 \\u0e0a\\u0e34\\u0e19\\u0e27\\u0e31\\u0e15\\u0e23\",\n{\n            'v': 5,\n            'f': \"5\",\n        }],\n [\"\\u0e08\\u0e2d\\u0e21\\u0e1e\\u0e25 \\u0e2a\\u0e24\\u0e29\\u0e14\\u0e34\\u0e4c \\u0e18\\u0e19\\u0e30\\u0e23\\u0e31\\u0e0a\\u0e15\\u0e4c\",\n{\n            'v': 5,\n            'f': \"5\",\n        }],\n [\"\\u0e19\\u0e32\\u0e22\\u0e2d\\u0e20\\u0e34\\u0e2a\\u0e34\\u0e17\\u0e18\\u0e34\\u0e4c \\u0e40\\u0e27\\u0e0a\\u0e0a\\u0e32\\u0e0a\\u0e35\\u0e27\\u0e30\",\n{\n            'v': 3,\n            'f': \"3\",\n        }],\n [\"\\u0e1e\\u0e25\\u0e40\\u0e2d\\u0e01\\u0e0a\\u0e32\\u0e15\\u0e34\\u0e0a\\u0e32\\u0e22 \\u0e0a\\u0e38\\u0e13\\u0e2b\\u0e30\\u0e27\\u0e31\\u0e13\",\n{\n            'v': 3,\n            'f': \"3\",\n        }],\n [\"\\u0e19.\\u0e2a.\\u0e22\\u0e34\\u0e48\\u0e07\\u0e25\\u0e31\\u0e01\\u0e29\\u0e13\\u0e4c \\u0e0a\\u0e34\\u0e19\\u0e27\\u0e31\\u0e15\\u0e23\",\n{\n            'v': 3,\n            'f': \"3\",\n        }],\n [\"\\u0e1e\\u0e25\\u0e40\\u0e2d\\u0e01\\u0e40\\u0e01\\u0e23\\u0e35\\u0e22\\u0e07\\u0e28\\u0e31\\u0e01\\u0e14\\u0e34\\u0e4c \\u0e0a\\u0e21\\u0e30\\u0e19\\u0e31\\u0e19\\u0e17\\u0e19\\u0e4c\",\n{\n            'v': 3,\n            'f': \"3\",\n        }],\n [\"\\u0e1e\\u0e25\\u0e40\\u0e2d\\u0e01\\u0e2a\\u0e38\\u0e23\\u0e22\\u0e38\\u0e17\\u0e18\\u0e4c \\u0e08\\u0e38\\u0e25\\u0e32\\u0e19\\u0e19\\u0e17\\u0e4c\",\n{\n            'v': 2,\n            'f': \"2\",\n        }],\n [\"\\u0e19\\u0e32\\u0e22\\u0e2a\\u0e31\\u0e0d\\u0e0d\\u0e32 \\u0e18\\u0e23\\u0e23\\u0e21\\u0e28\\u0e31\\u0e01\\u0e14\\u0e34\\u0e4c\",\n{\n            'v': 2,\n            'f': \"2\",\n        }],\n [\"\\u0e1e\\u0e25\\u0e40\\u0e2d\\u0e01\\u0e0a\\u0e27\\u0e25\\u0e34\\u0e15 \\u0e22\\u0e07\\u0e43\\u0e08\\u0e22\\u0e38\\u0e17\\u0e18\",\n{\n            'v': 1,\n            'f': \"1\",\n        }],\n [\"\\u0e08\\u0e2d\\u0e21\\u0e1e\\u0e25 \\u0e1b. \\u0e1e\\u0e34\\u0e1a\\u0e39\\u0e25\\u0e2a\\u0e07\\u0e04\\u0e23\\u0e32\\u0e21\",\n{\n            'v': 1,\n            'f': \"1\",\n        }],\n [\"\\u0e19\\u0e32\\u0e22\\u0e2d\\u0e32\\u0e19\\u0e31\\u0e19\\u0e17\\u0e4c \\u0e1b\\u0e31\\u0e19\\u0e22\\u0e32\\u0e23\\u0e0a\\u0e38\\u0e19\",\n{\n            'v': 1,\n            'f': \"1\",\n        }],\n [\"\\u0e2b\\u0e21\\u0e48\\u0e2d\\u0e21\\u0e23\\u0e32\\u0e0a\\u0e27\\u0e07\\u0e28\\u0e4c\\u0e04\\u0e36\\u0e01\\u0e24\\u0e17\\u0e18\\u0e34\\u0e4c \\u0e1b\\u0e23\\u0e32\\u0e42\\u0e21\\u0e0a\",\n{\n            'v': 1,\n            'f': \"1\",\n        }],\n [\"\\u0e19\\u0e32\\u0e22\\u0e18\\u0e32\\u0e19\\u0e34\\u0e19\\u0e17\\u0e23\\u0e4c \\u0e01\\u0e23\\u0e31\\u0e22\\u0e27\\u0e34\\u0e40\\u0e0a\\u0e35\\u0e22\\u0e23\",\n{\n            'v': 1,\n            'f': \"1\",\n        }],\n [\"\\u0e19\\u0e32\\u0e22\\u0e1a\\u0e23\\u0e23\\u0e2b\\u0e32\\u0e23 \\u0e28\\u0e34\\u0e25\\u0e1b\\u0e2d\\u0e32\\u0e0a\\u0e32\",\n{\n            'v': 1,\n            'f': \"1\",\n        }]],\n        columns: [[\"string\", \"index\"], [\"number\", \"pm\"]],\n        columnOptions: [{\"width\": \"1px\", \"className\": \"index_column\"}],\n        rowsPerPage: 25,\n        helpUrl: \"https://colab.research.google.com/notebooks/data_table.ipynb\",\n      });\n    ",
            "text/html": [
              "<div>\n",
              "<style scoped>\n",
              "    .dataframe tbody tr th:only-of-type {\n",
              "        vertical-align: middle;\n",
              "    }\n",
              "\n",
              "    .dataframe tbody tr th {\n",
              "        vertical-align: top;\n",
              "    }\n",
              "\n",
              "    .dataframe thead th {\n",
              "        text-align: right;\n",
              "    }\n",
              "</style>\n",
              "<table border=\"1\" class=\"dataframe\">\n",
              "  <thead>\n",
              "    <tr style=\"text-align: right;\">\n",
              "      <th></th>\n",
              "      <th>pm</th>\n",
              "    </tr>\n",
              "  </thead>\n",
              "  <tbody>\n",
              "    <tr>\n",
              "      <th>จอมพล ถนอม กิตติขจร</th>\n",
              "      <td>9</td>\n",
              "    </tr>\n",
              "    <tr>\n",
              "      <th>พลเอกเปรม ติณสูลานนท์</th>\n",
              "      <td>8</td>\n",
              "    </tr>\n",
              "    <tr>\n",
              "      <th>นายชวน หลีกภัย</th>\n",
              "      <td>7</td>\n",
              "    </tr>\n",
              "    <tr>\n",
              "      <th>พล.อ.ประยุทธ์ จันทร์โอชา</th>\n",
              "      <td>6</td>\n",
              "    </tr>\n",
              "    <tr>\n",
              "      <th>พ.ต.ท.ทักษิณ ชินวัตร</th>\n",
              "      <td>5</td>\n",
              "    </tr>\n",
              "    <tr>\n",
              "      <th>จอมพล สฤษดิ์ ธนะรัชต์</th>\n",
              "      <td>5</td>\n",
              "    </tr>\n",
              "    <tr>\n",
              "      <th>นายอภิสิทธิ์ เวชชาชีวะ</th>\n",
              "      <td>3</td>\n",
              "    </tr>\n",
              "    <tr>\n",
              "      <th>พลเอกชาติชาย ชุณหะวัณ</th>\n",
              "      <td>3</td>\n",
              "    </tr>\n",
              "    <tr>\n",
              "      <th>น.ส.ยิ่งลักษณ์ ชินวัตร</th>\n",
              "      <td>3</td>\n",
              "    </tr>\n",
              "    <tr>\n",
              "      <th>พลเอกเกรียงศักดิ์ ชมะนันทน์</th>\n",
              "      <td>3</td>\n",
              "    </tr>\n",
              "    <tr>\n",
              "      <th>พลเอกสุรยุทธ์ จุลานนท์</th>\n",
              "      <td>2</td>\n",
              "    </tr>\n",
              "    <tr>\n",
              "      <th>นายสัญญา ธรรมศักดิ์</th>\n",
              "      <td>2</td>\n",
              "    </tr>\n",
              "    <tr>\n",
              "      <th>พลเอกชวลิต ยงใจยุทธ</th>\n",
              "      <td>1</td>\n",
              "    </tr>\n",
              "    <tr>\n",
              "      <th>จอมพล ป. พิบูลสงคราม</th>\n",
              "      <td>1</td>\n",
              "    </tr>\n",
              "    <tr>\n",
              "      <th>นายอานันท์ ปันยารชุน</th>\n",
              "      <td>1</td>\n",
              "    </tr>\n",
              "    <tr>\n",
              "      <th>หม่อมราชวงศ์คึกฤทธิ์ ปราโมช</th>\n",
              "      <td>1</td>\n",
              "    </tr>\n",
              "    <tr>\n",
              "      <th>นายธานินทร์ กรัยวิเชียร</th>\n",
              "      <td>1</td>\n",
              "    </tr>\n",
              "    <tr>\n",
              "      <th>นายบรรหาร ศิลปอาชา</th>\n",
              "      <td>1</td>\n",
              "    </tr>\n",
              "  </tbody>\n",
              "</table>\n",
              "</div>"
            ],
            "text/plain": [
              "                             pm\n",
              "จอมพล ถนอม กิตติขจร           9\n",
              "พลเอกเปรม ติณสูลานนท์         8\n",
              "นายชวน หลีกภัย                7\n",
              "พล.อ.ประยุทธ์ จันทร์โอชา      6\n",
              "พ.ต.ท.ทักษิณ ชินวัตร          5\n",
              "จอมพล สฤษดิ์ ธนะรัชต์         5\n",
              "นายอภิสิทธิ์ เวชชาชีวะ        3\n",
              "พลเอกชาติชาย ชุณหะวัณ         3\n",
              "น.ส.ยิ่งลักษณ์ ชินวัตร        3\n",
              "พลเอกเกรียงศักดิ์ ชมะนันทน์   3\n",
              "พลเอกสุรยุทธ์ จุลานนท์        2\n",
              "นายสัญญา ธรรมศักดิ์           2\n",
              "พลเอกชวลิต ยงใจยุทธ           1\n",
              "จอมพล ป. พิบูลสงคราม          1\n",
              "นายอานันท์ ปันยารชุน          1\n",
              "หม่อมราชวงศ์คึกฤทธิ์ ปราโมช   1\n",
              "นายธานินทร์ กรัยวิเชียร       1\n",
              "นายบรรหาร ศิลปอาชา            1"
            ]
          },
          "metadata": {
            "tags": []
          },
          "execution_count": 50
        }
      ]
    },
    {
      "cell_type": "markdown",
      "metadata": {
        "id": "N-NrhqovTUsh",
        "colab_type": "text"
      },
      "source": [
        "## ยาว, สั้น ที่สุด"
      ]
    },
    {
      "cell_type": "code",
      "metadata": {
        "id": "ZiTogcaNS-Oj",
        "colab_type": "code",
        "outputId": "7bb0b903-6480-49c5-c166-b9da74d8ef76",
        "colab": {
          "base_uri": "https://localhost:8080/",
          "height": 131
        }
      },
      "source": [
        "l = df.motto.str.len()\n",
        "df.loc[[l.idxmax(), l.idxmin()]]"
      ],
      "execution_count": 0,
      "outputs": [
        {
          "output_type": "execute_result",
          "data": {
            "application/vnd.google.colaboratory.module+javascript": "\n      import \"https://ssl.gstatic.com/colaboratory/data_table/9e554b27bdd509f3/data_table.js\";\n\n      window.createDataTable({\n        data: [[{\n            'v': 9,\n            'f': \"9\",\n        },\n{\n            'v': 2511,\n            'f': \"2511\",\n        },\n\"\\u0e04\\u0e27\\u0e32\\u0e21\\u0e40\\u0e08\\u0e23\\u0e34\\u0e0d\\u0e41\\u0e25\\u0e30\\u0e04\\u0e27\\u0e32\\u0e21\\u0e21\\u0e31\\u0e48\\u0e19\\u0e04\\u0e07\\u0e02\\u0e2d\\u0e07\\u0e0a\\u0e32\\u0e15\\u0e34\\u0e44\\u0e17\\u0e22\\u0e43\\u0e19\\u0e2d\\u0e19\\u0e32\\u0e04\\u0e15 \\u0e02\\u0e36\\u0e49\\u0e19\\u0e2d\\u0e22\\u0e39\\u0e48\\u0e01\\u0e31\\u0e1a\\u0e40\\u0e14\\u0e47\\u0e01\\u0e17\\u0e35\\u0e48\\u0e21\\u0e35\\u0e27\\u0e34\\u0e19\\u0e31\\u0e22 \\u0e40\\u0e09\\u0e25\\u0e35\\u0e22\\u0e27\\u0e09\\u0e25\\u0e32\\u0e14\\u0e41\\u0e25\\u0e30\\u0e23\\u0e31\\u0e01\\u0e0a\\u0e32\\u0e15\\u0e34\\u0e22\\u0e34\\u0e48\\u0e07\",\n\"\\u0e08\\u0e2d\\u0e21\\u0e1e\\u0e25 \\u0e16\\u0e19\\u0e2d\\u0e21 \\u0e01\\u0e34\\u0e15\\u0e15\\u0e34\\u0e02\\u0e08\\u0e23\"],\n [{\n            'v': 15,\n            'f': \"15\",\n        },\n{\n            'v': 2517,\n            'f': \"2517\",\n        },\n\"\\u0e2a\\u0e32\\u0e21\\u0e31\\u0e04\\u0e04\\u0e35\\u0e04\\u0e37\\u0e2d\\u0e1e\\u0e25\\u0e31\\u0e07\",\n\"\\u0e19\\u0e32\\u0e22\\u0e2a\\u0e31\\u0e0d\\u0e0d\\u0e32 \\u0e18\\u0e23\\u0e23\\u0e21\\u0e28\\u0e31\\u0e01\\u0e14\\u0e34\\u0e4c\"]],\n        columns: [[\"number\", \"index\"], [\"number\", \"year\"], [\"string\", \"motto\"], [\"string\", \"pm\"]],\n        columnOptions: [{\"width\": \"1px\", \"className\": \"index_column\"}],\n        rowsPerPage: 25,\n        helpUrl: \"https://colab.research.google.com/notebooks/data_table.ipynb\",\n      });\n    ",
            "text/html": [
              "<div>\n",
              "<style scoped>\n",
              "    .dataframe tbody tr th:only-of-type {\n",
              "        vertical-align: middle;\n",
              "    }\n",
              "\n",
              "    .dataframe tbody tr th {\n",
              "        vertical-align: top;\n",
              "    }\n",
              "\n",
              "    .dataframe thead th {\n",
              "        text-align: right;\n",
              "    }\n",
              "</style>\n",
              "<table border=\"1\" class=\"dataframe\">\n",
              "  <thead>\n",
              "    <tr style=\"text-align: right;\">\n",
              "      <th></th>\n",
              "      <th>year</th>\n",
              "      <th>motto</th>\n",
              "      <th>pm</th>\n",
              "    </tr>\n",
              "  </thead>\n",
              "  <tbody>\n",
              "    <tr>\n",
              "      <th>9</th>\n",
              "      <td>2511</td>\n",
              "      <td>ความเจริญและความมั่นคงของชาติไทยในอนาคต ขึ้นอย...</td>\n",
              "      <td>จอมพล ถนอม กิตติขจร</td>\n",
              "    </tr>\n",
              "    <tr>\n",
              "      <th>15</th>\n",
              "      <td>2517</td>\n",
              "      <td>สามัคคีคือพลัง</td>\n",
              "      <td>นายสัญญา ธรรมศักดิ์</td>\n",
              "    </tr>\n",
              "  </tbody>\n",
              "</table>\n",
              "</div>"
            ],
            "text/plain": [
              "    year  ...                   pm\n",
              "9   2511  ...  จอมพล ถนอม กิตติขจร\n",
              "15  2517  ...  นายสัญญา ธรรมศักดิ์\n",
              "\n",
              "[2 rows x 3 columns]"
            ]
          },
          "metadata": {
            "tags": []
          },
          "execution_count": 55
        }
      ]
    },
    {
      "cell_type": "code",
      "metadata": {
        "id": "s6sIHFCTUMn1",
        "colab_type": "code",
        "outputId": "ec42eff6-1bd3-4f6d-d183-a597b1353d85",
        "colab": {
          "base_uri": "https://localhost:8080/",
          "height": 265
        }
      },
      "source": [
        "len_w = df.motto.apply(lambda x: len(tok.word_tokenize(x)))\n",
        "len_w.hist(bins=5, range=[0,25], grid=False);  # ทำไมรูปไม่เหมือน สงสัยตัดคำไม่เหมือน"
      ],
      "execution_count": 0,
      "outputs": [
        {
          "output_type": "display_data",
          "data": {
            "image/png": "[encoded data removed]",
            "text/plain": [
              "<Figure size 432x288 with 1 Axes>"
            ]
          },
          "metadata": {
            "tags": []
          }
        }
      ]
    },
    {
      "cell_type": "code",
      "metadata": {
        "id": "IRUiwSKvUdQE",
        "colab_type": "code",
        "outputId": "fbe6ea00-8f3a-474a-d95b-c30a1eaaf85b",
        "colab": {
          "base_uri": "https://localhost:8080/",
          "height": 173
        }
      },
      "source": [
        "len_w.describe()"
      ],
      "execution_count": 0,
      "outputs": [
        {
          "output_type": "execute_result",
          "data": {
            "text/plain": [
              "count    62.000000\n",
              "mean     11.854839\n",
              "std       3.496353\n",
              "min       3.000000\n",
              "25%       9.000000\n",
              "50%      12.000000\n",
              "75%      14.000000\n",
              "max      21.000000\n",
              "Name: motto, dtype: float64"
            ]
          },
          "metadata": {
            "tags": []
          },
          "execution_count": 70
        }
      ]
    },
    {
      "cell_type": "markdown",
      "metadata": {
        "id": "pUSzY5IZWxjN",
        "colab_type": "text"
      },
      "source": [
        "## สิ่งแวดล้อม,​ เทคโนโลยี, ..."
      ]
    },
    {
      "cell_type": "code",
      "metadata": {
        "id": "wQTlCbZ3XB-9",
        "colab_type": "code",
        "colab": {}
      },
      "source": [
        "def contain(word):\n",
        "  return df[df.motto.str.contains(word)]"
      ],
      "execution_count": 0,
      "outputs": []
    },
    {
      "cell_type": "code",
      "metadata": {
        "id": "3Wjh8tyeWfUA",
        "colab_type": "code",
        "outputId": "84768a5c-be8e-4abe-96a3-db911e14873e",
        "colab": {
          "base_uri": "https://localhost:8080/",
          "height": 153
        }
      },
      "source": [
        "contain('สิ่งแวดล้อม')"
      ],
      "execution_count": 0,
      "outputs": [
        {
          "output_type": "execute_result",
          "data": {
            "application/vnd.google.colaboratory.module+javascript": "\n      import \"https://ssl.gstatic.com/colaboratory/data_table/9e554b27bdd509f3/data_table.js\";\n\n      window.createDataTable({\n        data: [[{\n            'v': 34,\n            'f': \"34\",\n        },\n{\n            'v': 2536,\n            'f': \"2536\",\n        },\n\"\\u0e22\\u0e36\\u0e14\\u0e21\\u0e31\\u0e48\\u0e19\\u0e1b\\u0e23\\u0e30\\u0e0a\\u0e32\\u0e18\\u0e34\\u0e1b\\u0e44\\u0e15\\u0e22 \\u0e23\\u0e48\\u0e27\\u0e21\\u0e43\\u0e08\\u0e1e\\u0e31\\u0e12\\u0e19\\u0e32 \\u0e23\\u0e31\\u0e01\\u0e29\\u0e32\\u0e2a\\u0e34\\u0e48\\u0e07\\u0e41\\u0e27\\u0e14\\u0e25\\u0e49\\u0e2d\\u0e21\",\n\"\\u0e19\\u0e32\\u0e22\\u0e0a\\u0e27\\u0e19 \\u0e2b\\u0e25\\u0e35\\u0e01\\u0e20\\u0e31\\u0e22\"],\n [{\n            'v': 35,\n            'f': \"35\",\n        },\n{\n            'v': 2537,\n            'f': \"2537\",\n        },\n\"\\u0e22\\u0e36\\u0e14\\u0e21\\u0e31\\u0e48\\u0e19\\u0e1b\\u0e23\\u0e30\\u0e0a\\u0e32\\u0e18\\u0e34\\u0e1b\\u0e44\\u0e15\\u0e22 \\u0e23\\u0e48\\u0e27\\u0e21\\u0e43\\u0e08\\u0e1e\\u0e31\\u0e12\\u0e19\\u0e32 \\u0e23\\u0e31\\u0e01\\u0e29\\u0e32\\u0e2a\\u0e34\\u0e48\\u0e07\\u0e41\\u0e27\\u0e14\\u0e25\\u0e49\\u0e2d\\u0e21\",\n\"\\u0e19\\u0e32\\u0e22\\u0e0a\\u0e27\\u0e19 \\u0e2b\\u0e25\\u0e35\\u0e01\\u0e20\\u0e31\\u0e22\"],\n [{\n            'v': 36,\n            'f': \"36\",\n        },\n{\n            'v': 2538,\n            'f': \"2538\",\n        },\n\"\\u0e2a\\u0e37\\u0e1a\\u0e2a\\u0e32\\u0e19\\u0e27\\u0e31\\u0e12\\u0e19\\u0e18\\u0e23\\u0e23\\u0e21\\u0e44\\u0e17\\u0e22 \\u0e23\\u0e48\\u0e27\\u0e21\\u0e43\\u0e08\\u0e1e\\u0e31\\u0e12\\u0e19\\u0e32 \\u0e23\\u0e31\\u0e01\\u0e29\\u0e32\\u0e2a\\u0e34\\u0e48\\u0e07\\u0e41\\u0e27\\u0e14\\u0e25\\u0e49\\u0e2d\\u0e21\",\n\"\\u0e19\\u0e32\\u0e22\\u0e0a\\u0e27\\u0e19 \\u0e2b\\u0e25\\u0e35\\u0e01\\u0e20\\u0e31\\u0e22\"]],\n        columns: [[\"number\", \"index\"], [\"number\", \"year\"], [\"string\", \"motto\"], [\"string\", \"pm\"]],\n        columnOptions: [{\"width\": \"1px\", \"className\": \"index_column\"}],\n        rowsPerPage: 25,\n        helpUrl: \"https://colab.research.google.com/notebooks/data_table.ipynb\",\n      });\n    ",
            "text/html": [
              "<div>\n",
              "<style scoped>\n",
              "    .dataframe tbody tr th:only-of-type {\n",
              "        vertical-align: middle;\n",
              "    }\n",
              "\n",
              "    .dataframe tbody tr th {\n",
              "        vertical-align: top;\n",
              "    }\n",
              "\n",
              "    .dataframe thead th {\n",
              "        text-align: right;\n",
              "    }\n",
              "</style>\n",
              "<table border=\"1\" class=\"dataframe\">\n",
              "  <thead>\n",
              "    <tr style=\"text-align: right;\">\n",
              "      <th></th>\n",
              "      <th>year</th>\n",
              "      <th>motto</th>\n",
              "      <th>pm</th>\n",
              "    </tr>\n",
              "  </thead>\n",
              "  <tbody>\n",
              "    <tr>\n",
              "      <th>34</th>\n",
              "      <td>2536</td>\n",
              "      <td>ยึดมั่นประชาธิปไตย ร่วมใจพัฒนา รักษาสิ่งแวดล้อม</td>\n",
              "      <td>นายชวน หลีกภัย</td>\n",
              "    </tr>\n",
              "    <tr>\n",
              "      <th>35</th>\n",
              "      <td>2537</td>\n",
              "      <td>ยึดมั่นประชาธิปไตย ร่วมใจพัฒนา รักษาสิ่งแวดล้อม</td>\n",
              "      <td>นายชวน หลีกภัย</td>\n",
              "    </tr>\n",
              "    <tr>\n",
              "      <th>36</th>\n",
              "      <td>2538</td>\n",
              "      <td>สืบสานวัฒนธรรมไทย ร่วมใจพัฒนา รักษาสิ่งแวดล้อม</td>\n",
              "      <td>นายชวน หลีกภัย</td>\n",
              "    </tr>\n",
              "  </tbody>\n",
              "</table>\n",
              "</div>"
            ],
            "text/plain": [
              "    year                                            motto              pm\n",
              "34  2536  ยึดมั่นประชาธิปไตย ร่วมใจพัฒนา รักษาสิ่งแวดล้อม  นายชวน หลีกภัย\n",
              "35  2537  ยึดมั่นประชาธิปไตย ร่วมใจพัฒนา รักษาสิ่งแวดล้อม  นายชวน หลีกภัย\n",
              "36  2538   สืบสานวัฒนธรรมไทย ร่วมใจพัฒนา รักษาสิ่งแวดล้อม  นายชวน หลีกภัย"
            ]
          },
          "metadata": {
            "tags": []
          },
          "execution_count": 75
        }
      ]
    },
    {
      "cell_type": "code",
      "metadata": {
        "id": "ymcZkh7QWvnk",
        "colab_type": "code",
        "outputId": "8fec4efb-6123-4eba-cf16-3099c6a8e6c3",
        "colab": {
          "base_uri": "https://localhost:8080/",
          "height": 153
        }
      },
      "source": [
        "contain('เทคโนโลยี')"
      ],
      "execution_count": 0,
      "outputs": [
        {
          "output_type": "execute_result",
          "data": {
            "application/vnd.google.colaboratory.module+javascript": "\n      import \"https://ssl.gstatic.com/colaboratory/data_table/9e554b27bdd509f3/data_table.js\";\n\n      window.createDataTable({\n        data: [[{\n            'v': 44,\n            'f': \"44\",\n        },\n{\n            'v': 2546,\n            'f': \"2546\",\n        },\n\"\\u0e40\\u0e23\\u0e35\\u0e22\\u0e19\\u0e23\\u0e39\\u0e49\\u0e15\\u0e25\\u0e2d\\u0e14\\u0e0a\\u0e35\\u0e27\\u0e34\\u0e15 \\u0e04\\u0e34\\u0e14\\u0e2d\\u0e22\\u0e48\\u0e32\\u0e07\\u0e2a\\u0e23\\u0e49\\u0e32\\u0e07\\u0e2a\\u0e23\\u0e23\\u0e04\\u0e4c \\u0e01\\u0e49\\u0e32\\u0e27\\u0e17\\u0e31\\u0e19\\u0e40\\u0e17\\u0e04\\u0e42\\u0e19\\u0e42\\u0e25\\u0e22\\u0e35\",\n\"\\u0e1e.\\u0e15.\\u0e17.\\u0e17\\u0e31\\u0e01\\u0e29\\u0e34\\u0e13 \\u0e0a\\u0e34\\u0e19\\u0e27\\u0e31\\u0e15\\u0e23\"],\n [{\n            'v': 53,\n            'f': \"53\",\n        },\n{\n            'v': 2555,\n            'f': \"2555\",\n        },\n\"\\u0e2a\\u0e32\\u0e21\\u0e31\\u0e04\\u0e04\\u0e35 \\u0e21\\u0e35\\u0e04\\u0e27\\u0e32\\u0e21\\u0e23\\u0e39\\u0e49\\u0e04\\u0e39\\u0e48\\u0e1b\\u0e31\\u0e0d\\u0e0d\\u0e32 \\u0e04\\u0e07\\u0e23\\u0e31\\u0e01\\u0e29\\u0e32\\u0e04\\u0e27\\u0e32\\u0e21\\u0e40\\u0e1b\\u0e47\\u0e19\\u0e44\\u0e17\\u0e22 \\u0e43\\u0e2a\\u0e48\\u0e43\\u0e08\\u0e40\\u0e17\\u0e04\\u0e42\\u0e19\\u0e42\\u0e25\\u0e22\\u0e35\",\n\"\\u0e19.\\u0e2a.\\u0e22\\u0e34\\u0e48\\u0e07\\u0e25\\u0e31\\u0e01\\u0e29\\u0e13\\u0e4c \\u0e0a\\u0e34\\u0e19\\u0e27\\u0e31\\u0e15\\u0e23\"],\n [{\n            'v': 59,\n            'f': \"59\",\n        },\n{\n            'v': 2561,\n            'f': \"2561\",\n        },\n\"\\u0e23\\u0e39\\u0e49\\u0e04\\u0e34\\u0e14 \\u0e23\\u0e39\\u0e49\\u0e40\\u0e17\\u0e48\\u0e32\\u0e17\\u0e31\\u0e19 \\u0e2a\\u0e23\\u0e49\\u0e32\\u0e07\\u0e2a\\u0e23\\u0e23\\u0e04\\u0e4c\\u0e40\\u0e17\\u0e04\\u0e42\\u0e19\\u0e42\\u0e25\\u0e22\\u0e35\",\n\"\\u0e1e\\u0e25.\\u0e2d.\\u0e1b\\u0e23\\u0e30\\u0e22\\u0e38\\u0e17\\u0e18\\u0e4c \\u0e08\\u0e31\\u0e19\\u0e17\\u0e23\\u0e4c\\u0e42\\u0e2d\\u0e0a\\u0e32\"]],\n        columns: [[\"number\", \"index\"], [\"number\", \"year\"], [\"string\", \"motto\"], [\"string\", \"pm\"]],\n        columnOptions: [{\"width\": \"1px\", \"className\": \"index_column\"}],\n        rowsPerPage: 25,\n        helpUrl: \"https://colab.research.google.com/notebooks/data_table.ipynb\",\n      });\n    ",
            "text/html": [
              "<div>\n",
              "<style scoped>\n",
              "    .dataframe tbody tr th:only-of-type {\n",
              "        vertical-align: middle;\n",
              "    }\n",
              "\n",
              "    .dataframe tbody tr th {\n",
              "        vertical-align: top;\n",
              "    }\n",
              "\n",
              "    .dataframe thead th {\n",
              "        text-align: right;\n",
              "    }\n",
              "</style>\n",
              "<table border=\"1\" class=\"dataframe\">\n",
              "  <thead>\n",
              "    <tr style=\"text-align: right;\">\n",
              "      <th></th>\n",
              "      <th>year</th>\n",
              "      <th>motto</th>\n",
              "      <th>pm</th>\n",
              "    </tr>\n",
              "  </thead>\n",
              "  <tbody>\n",
              "    <tr>\n",
              "      <th>44</th>\n",
              "      <td>2546</td>\n",
              "      <td>เรียนรู้ตลอดชีวิต คิดอย่างสร้างสรรค์ ก้าวทันเท...</td>\n",
              "      <td>พ.ต.ท.ทักษิณ ชินวัตร</td>\n",
              "    </tr>\n",
              "    <tr>\n",
              "      <th>53</th>\n",
              "      <td>2555</td>\n",
              "      <td>สามัคคี มีความรู้คู่ปัญญา คงรักษาความเป็นไทย ใ...</td>\n",
              "      <td>น.ส.ยิ่งลักษณ์ ชินวัตร</td>\n",
              "    </tr>\n",
              "    <tr>\n",
              "      <th>59</th>\n",
              "      <td>2561</td>\n",
              "      <td>รู้คิด รู้เท่าทัน สร้างสรรค์เทคโนโลยี</td>\n",
              "      <td>พล.อ.ประยุทธ์ จันทร์โอชา</td>\n",
              "    </tr>\n",
              "  </tbody>\n",
              "</table>\n",
              "</div>"
            ],
            "text/plain": [
              "    year  ...                        pm\n",
              "44  2546  ...      พ.ต.ท.ทักษิณ ชินวัตร\n",
              "53  2555  ...    น.ส.ยิ่งลักษณ์ ชินวัตร\n",
              "59  2561  ...  พล.อ.ประยุทธ์ จันทร์โอชา\n",
              "\n",
              "[3 rows x 3 columns]"
            ]
          },
          "metadata": {
            "tags": []
          },
          "execution_count": 76
        }
      ]
    },
    {
      "cell_type": "code",
      "metadata": {
        "id": "7DWcI_WBW59C",
        "colab_type": "code",
        "outputId": "5269bbe0-7bb4-46de-c904-2bacdbe42b0d",
        "colab": {
          "base_uri": "https://localhost:8080/",
          "height": 174
        }
      },
      "source": [
        "contain('ประชาธิปไตย')"
      ],
      "execution_count": 0,
      "outputs": [
        {
          "output_type": "execute_result",
          "data": {
            "application/vnd.google.colaboratory.module+javascript": "\n      import \"https://ssl.gstatic.com/colaboratory/data_table/9e554b27bdd509f3/data_table.js\";\n\n      window.createDataTable({\n        data: [[{\n            'v': 34,\n            'f': \"34\",\n        },\n{\n            'v': 2536,\n            'f': \"2536\",\n        },\n\"\\u0e22\\u0e36\\u0e14\\u0e21\\u0e31\\u0e48\\u0e19\\u0e1b\\u0e23\\u0e30\\u0e0a\\u0e32\\u0e18\\u0e34\\u0e1b\\u0e44\\u0e15\\u0e22 \\u0e23\\u0e48\\u0e27\\u0e21\\u0e43\\u0e08\\u0e1e\\u0e31\\u0e12\\u0e19\\u0e32 \\u0e23\\u0e31\\u0e01\\u0e29\\u0e32\\u0e2a\\u0e34\\u0e48\\u0e07\\u0e41\\u0e27\\u0e14\\u0e25\\u0e49\\u0e2d\\u0e21\",\n\"\\u0e19\\u0e32\\u0e22\\u0e0a\\u0e27\\u0e19 \\u0e2b\\u0e25\\u0e35\\u0e01\\u0e20\\u0e31\\u0e22\"],\n [{\n            'v': 35,\n            'f': \"35\",\n        },\n{\n            'v': 2537,\n            'f': \"2537\",\n        },\n\"\\u0e22\\u0e36\\u0e14\\u0e21\\u0e31\\u0e48\\u0e19\\u0e1b\\u0e23\\u0e30\\u0e0a\\u0e32\\u0e18\\u0e34\\u0e1b\\u0e44\\u0e15\\u0e22 \\u0e23\\u0e48\\u0e27\\u0e21\\u0e43\\u0e08\\u0e1e\\u0e31\\u0e12\\u0e19\\u0e32 \\u0e23\\u0e31\\u0e01\\u0e29\\u0e32\\u0e2a\\u0e34\\u0e48\\u0e07\\u0e41\\u0e27\\u0e14\\u0e25\\u0e49\\u0e2d\\u0e21\",\n\"\\u0e19\\u0e32\\u0e22\\u0e0a\\u0e27\\u0e19 \\u0e2b\\u0e25\\u0e35\\u0e01\\u0e20\\u0e31\\u0e22\"],\n [{\n            'v': 41,\n            'f': \"41\",\n        },\n{\n            'v': 2543,\n            'f': \"2543\",\n        },\n\"\\u0e21\\u0e35\\u0e27\\u0e34\\u0e19\\u0e31\\u0e22 \\u0e43\\u0e1d\\u0e48\\u0e40\\u0e23\\u0e35\\u0e22\\u0e19\\u0e23\\u0e39\\u0e49 \\u0e04\\u0e39\\u0e48\\u0e04\\u0e38\\u0e13\\u0e18\\u0e23\\u0e23\\u0e21 \\u0e19\\u0e33\\u0e1b\\u0e23\\u0e30\\u0e0a\\u0e32\\u0e18\\u0e34\\u0e1b\\u0e44\\u0e15\\u0e22\",\n\"\\u0e19\\u0e32\\u0e22\\u0e0a\\u0e27\\u0e19 \\u0e2b\\u0e25\\u0e35\\u0e01\\u0e20\\u0e31\\u0e22\"],\n [{\n            'v': 42,\n            'f': \"42\",\n        },\n{\n            'v': 2544,\n            'f': \"2544\",\n        },\n\"\\u0e21\\u0e35\\u0e27\\u0e34\\u0e19\\u0e31\\u0e22 \\u0e43\\u0e1d\\u0e48\\u0e40\\u0e23\\u0e35\\u0e22\\u0e19\\u0e23\\u0e39\\u0e49 \\u0e04\\u0e39\\u0e48\\u0e04\\u0e38\\u0e13\\u0e18\\u0e23\\u0e23\\u0e21 \\u0e19\\u0e33\\u0e1b\\u0e23\\u0e30\\u0e0a\\u0e32\\u0e18\\u0e34\\u0e1b\\u0e44\\u0e15\\u0e22\",\n\"\\u0e19\\u0e32\\u0e22\\u0e0a\\u0e27\\u0e19 \\u0e2b\\u0e25\\u0e35\\u0e01\\u0e20\\u0e31\\u0e22\"]],\n        columns: [[\"number\", \"index\"], [\"number\", \"year\"], [\"string\", \"motto\"], [\"string\", \"pm\"]],\n        columnOptions: [{\"width\": \"1px\", \"className\": \"index_column\"}],\n        rowsPerPage: 25,\n        helpUrl: \"https://colab.research.google.com/notebooks/data_table.ipynb\",\n      });\n    ",
            "text/html": [
              "<div>\n",
              "<style scoped>\n",
              "    .dataframe tbody tr th:only-of-type {\n",
              "        vertical-align: middle;\n",
              "    }\n",
              "\n",
              "    .dataframe tbody tr th {\n",
              "        vertical-align: top;\n",
              "    }\n",
              "\n",
              "    .dataframe thead th {\n",
              "        text-align: right;\n",
              "    }\n",
              "</style>\n",
              "<table border=\"1\" class=\"dataframe\">\n",
              "  <thead>\n",
              "    <tr style=\"text-align: right;\">\n",
              "      <th></th>\n",
              "      <th>year</th>\n",
              "      <th>motto</th>\n",
              "      <th>pm</th>\n",
              "    </tr>\n",
              "  </thead>\n",
              "  <tbody>\n",
              "    <tr>\n",
              "      <th>34</th>\n",
              "      <td>2536</td>\n",
              "      <td>ยึดมั่นประชาธิปไตย ร่วมใจพัฒนา รักษาสิ่งแวดล้อม</td>\n",
              "      <td>นายชวน หลีกภัย</td>\n",
              "    </tr>\n",
              "    <tr>\n",
              "      <th>35</th>\n",
              "      <td>2537</td>\n",
              "      <td>ยึดมั่นประชาธิปไตย ร่วมใจพัฒนา รักษาสิ่งแวดล้อม</td>\n",
              "      <td>นายชวน หลีกภัย</td>\n",
              "    </tr>\n",
              "    <tr>\n",
              "      <th>41</th>\n",
              "      <td>2543</td>\n",
              "      <td>มีวินัย ใฝ่เรียนรู้ คู่คุณธรรม นำประชาธิปไตย</td>\n",
              "      <td>นายชวน หลีกภัย</td>\n",
              "    </tr>\n",
              "    <tr>\n",
              "      <th>42</th>\n",
              "      <td>2544</td>\n",
              "      <td>มีวินัย ใฝ่เรียนรู้ คู่คุณธรรม นำประชาธิปไตย</td>\n",
              "      <td>นายชวน หลีกภัย</td>\n",
              "    </tr>\n",
              "  </tbody>\n",
              "</table>\n",
              "</div>"
            ],
            "text/plain": [
              "    year                                            motto              pm\n",
              "34  2536  ยึดมั่นประชาธิปไตย ร่วมใจพัฒนา รักษาสิ่งแวดล้อม  นายชวน หลีกภัย\n",
              "35  2537  ยึดมั่นประชาธิปไตย ร่วมใจพัฒนา รักษาสิ่งแวดล้อม  นายชวน หลีกภัย\n",
              "41  2543     มีวินัย ใฝ่เรียนรู้ คู่คุณธรรม นำประชาธิปไตย  นายชวน หลีกภัย\n",
              "42  2544     มีวินัย ใฝ่เรียนรู้ คู่คุณธรรม นำประชาธิปไตย  นายชวน หลีกภัย"
            ]
          },
          "metadata": {
            "tags": []
          },
          "execution_count": 77
        }
      ]
    },
    {
      "cell_type": "code",
      "metadata": {
        "id": "v3j-ek4vXQme",
        "colab_type": "code",
        "outputId": "15b3ccab-da88-41ae-853b-3f261e4b3ecf",
        "colab": {
          "base_uri": "https://localhost:8080/",
          "height": 195
        }
      },
      "source": [
        "contain('ปฏิวัติ')"
      ],
      "execution_count": 0,
      "outputs": [
        {
          "output_type": "execute_result",
          "data": {
            "application/vnd.google.colaboratory.module+javascript": "\n      import \"https://ssl.gstatic.com/colaboratory/data_table/9e554b27bdd509f3/data_table.js\";\n\n      window.createDataTable({\n        data: [[{\n            'v': 1,\n            'f': \"1\",\n        },\n{\n            'v': 2502,\n            'f': \"2502\",\n        },\n\"\\u0e02\\u0e2d\\u0e43\\u0e2b\\u0e49\\u0e40\\u0e14\\u0e47\\u0e01\\u0e2a\\u0e21\\u0e31\\u0e22\\u0e1b\\u0e0f\\u0e34\\u0e27\\u0e31\\u0e15\\u0e34\\u0e02\\u0e2d\\u0e07\\u0e02\\u0e49\\u0e32\\u0e1e\\u0e40\\u0e08\\u0e49\\u0e32 \\u0e08\\u0e07\\u0e40\\u0e1b\\u0e47\\u0e19\\u0e40\\u0e14\\u0e47\\u0e01\\u0e17\\u0e35\\u0e48\\u0e23\\u0e31\\u0e01\\u0e04\\u0e27\\u0e32\\u0e21\\u0e01\\u0e49\\u0e32\\u0e27\\u0e2b\\u0e19\\u0e49\\u0e32\",\n\"\\u0e08\\u0e2d\\u0e21\\u0e1e\\u0e25 \\u0e2a\\u0e24\\u0e29\\u0e14\\u0e34\\u0e4c \\u0e18\\u0e19\\u0e30\\u0e23\\u0e31\\u0e0a\\u0e15\\u0e4c\"],\n [{\n            'v': 2,\n            'f': \"2\",\n        },\n{\n            'v': 2503,\n            'f': \"2503\",\n        },\n\"\\u0e02\\u0e2d\\u0e43\\u0e2b\\u0e49\\u0e40\\u0e14\\u0e47\\u0e01\\u0e2a\\u0e21\\u0e31\\u0e22\\u0e1b\\u0e0f\\u0e34\\u0e27\\u0e31\\u0e15\\u0e34\\u0e02\\u0e2d\\u0e07\\u0e02\\u0e49\\u0e32\\u0e1e\\u0e40\\u0e08\\u0e49\\u0e32 \\u0e08\\u0e07\\u0e40\\u0e1b\\u0e47\\u0e19\\u0e40\\u0e14\\u0e47\\u0e01\\u0e17\\u0e35\\u0e48\\u0e23\\u0e31\\u0e01\\u0e04\\u0e27\\u0e32\\u0e21\\u0e2a\\u0e30\\u0e2d\\u0e32\\u0e14\",\n\"\\u0e08\\u0e2d\\u0e21\\u0e1e\\u0e25 \\u0e2a\\u0e24\\u0e29\\u0e14\\u0e34\\u0e4c \\u0e18\\u0e19\\u0e30\\u0e23\\u0e31\\u0e0a\\u0e15\\u0e4c\"],\n [{\n            'v': 3,\n            'f': \"3\",\n        },\n{\n            'v': 2504,\n            'f': \"2504\",\n        },\n\"\\u0e02\\u0e2d\\u0e43\\u0e2b\\u0e49\\u0e40\\u0e14\\u0e47\\u0e01\\u0e2a\\u0e21\\u0e31\\u0e22\\u0e1b\\u0e0f\\u0e34\\u0e27\\u0e31\\u0e15\\u0e34\\u0e02\\u0e2d\\u0e07\\u0e02\\u0e49\\u0e32\\u0e1e\\u0e40\\u0e08\\u0e49\\u0e32 \\u0e08\\u0e07\\u0e40\\u0e1b\\u0e47\\u0e19\\u0e40\\u0e14\\u0e47\\u0e01\\u0e17\\u0e35\\u0e48\\u0e2d\\u0e22\\u0e39\\u0e48\\u0e43\\u0e19\\u0e23\\u0e30\\u0e40\\u0e1a\\u0e35\\u0e22\\u0e1a\\u0e27\\u0e34\\u0e19\\u0e31\\u0e22\",\n\"\\u0e08\\u0e2d\\u0e21\\u0e1e\\u0e25 \\u0e2a\\u0e24\\u0e29\\u0e14\\u0e34\\u0e4c \\u0e18\\u0e19\\u0e30\\u0e23\\u0e31\\u0e0a\\u0e15\\u0e4c\"],\n [{\n            'v': 4,\n            'f': \"4\",\n        },\n{\n            'v': 2505,\n            'f': \"2505\",\n        },\n\"\\u0e02\\u0e2d\\u0e43\\u0e2b\\u0e49\\u0e40\\u0e14\\u0e47\\u0e01\\u0e2a\\u0e21\\u0e31\\u0e22\\u0e1b\\u0e0f\\u0e34\\u0e27\\u0e31\\u0e15\\u0e34\\u0e02\\u0e2d\\u0e07\\u0e02\\u0e49\\u0e32\\u0e1e\\u0e40\\u0e08\\u0e49\\u0e32 \\u0e08\\u0e07\\u0e40\\u0e1b\\u0e47\\u0e19\\u0e40\\u0e14\\u0e47\\u0e01\\u0e17\\u0e35\\u0e48\\u0e1b\\u0e23\\u0e30\\u0e2b\\u0e22\\u0e31\\u0e14\",\n\"\\u0e08\\u0e2d\\u0e21\\u0e1e\\u0e25 \\u0e2a\\u0e24\\u0e29\\u0e14\\u0e34\\u0e4c \\u0e18\\u0e19\\u0e30\\u0e23\\u0e31\\u0e0a\\u0e15\\u0e4c\"],\n [{\n            'v': 5,\n            'f': \"5\",\n        },\n{\n            'v': 2506,\n            'f': \"2506\",\n        },\n\"\\u0e02\\u0e2d\\u0e43\\u0e2b\\u0e49\\u0e40\\u0e14\\u0e47\\u0e01\\u0e2a\\u0e21\\u0e31\\u0e22\\u0e1b\\u0e0f\\u0e34\\u0e27\\u0e31\\u0e15\\u0e34\\u0e02\\u0e2d\\u0e07\\u0e02\\u0e49\\u0e32\\u0e1e\\u0e40\\u0e08\\u0e49\\u0e32 \\u0e08\\u0e07\\u0e40\\u0e1b\\u0e47\\u0e19\\u0e40\\u0e14\\u0e47\\u0e01\\u0e17\\u0e35\\u0e48\\u0e21\\u0e35\\u0e04\\u0e27\\u0e32\\u0e21\\u0e02\\u0e22\\u0e31\\u0e19\\u0e2b\\u0e21\\u0e31\\u0e48\\u0e19\\u0e40\\u0e1e\\u0e35\\u0e22\\u0e23\\u0e21\\u0e32\\u0e01\\u0e17\\u0e35\\u0e48\\u0e2a\\u0e38\\u0e14\",\n\"\\u0e08\\u0e2d\\u0e21\\u0e1e\\u0e25 \\u0e2a\\u0e24\\u0e29\\u0e14\\u0e34\\u0e4c \\u0e18\\u0e19\\u0e30\\u0e23\\u0e31\\u0e0a\\u0e15\\u0e4c\"]],\n        columns: [[\"number\", \"index\"], [\"number\", \"year\"], [\"string\", \"motto\"], [\"string\", \"pm\"]],\n        columnOptions: [{\"width\": \"1px\", \"className\": \"index_column\"}],\n        rowsPerPage: 25,\n        helpUrl: \"https://colab.research.google.com/notebooks/data_table.ipynb\",\n      });\n    ",
            "text/html": [
              "<div>\n",
              "<style scoped>\n",
              "    .dataframe tbody tr th:only-of-type {\n",
              "        vertical-align: middle;\n",
              "    }\n",
              "\n",
              "    .dataframe tbody tr th {\n",
              "        vertical-align: top;\n",
              "    }\n",
              "\n",
              "    .dataframe thead th {\n",
              "        text-align: right;\n",
              "    }\n",
              "</style>\n",
              "<table border=\"1\" class=\"dataframe\">\n",
              "  <thead>\n",
              "    <tr style=\"text-align: right;\">\n",
              "      <th></th>\n",
              "      <th>year</th>\n",
              "      <th>motto</th>\n",
              "      <th>pm</th>\n",
              "    </tr>\n",
              "  </thead>\n",
              "  <tbody>\n",
              "    <tr>\n",
              "      <th>1</th>\n",
              "      <td>2502</td>\n",
              "      <td>ขอให้เด็กสมัยปฏิวัติของข้าพเจ้า จงเป็นเด็กที่ร...</td>\n",
              "      <td>จอมพล สฤษดิ์ ธนะรัชต์</td>\n",
              "    </tr>\n",
              "    <tr>\n",
              "      <th>2</th>\n",
              "      <td>2503</td>\n",
              "      <td>ขอให้เด็กสมัยปฏิวัติของข้าพเจ้า จงเป็นเด็กที่ร...</td>\n",
              "      <td>จอมพล สฤษดิ์ ธนะรัชต์</td>\n",
              "    </tr>\n",
              "    <tr>\n",
              "      <th>3</th>\n",
              "      <td>2504</td>\n",
              "      <td>ขอให้เด็กสมัยปฏิวัติของข้าพเจ้า จงเป็นเด็กที่อ...</td>\n",
              "      <td>จอมพล สฤษดิ์ ธนะรัชต์</td>\n",
              "    </tr>\n",
              "    <tr>\n",
              "      <th>4</th>\n",
              "      <td>2505</td>\n",
              "      <td>ขอให้เด็กสมัยปฏิวัติของข้าพเจ้า จงเป็นเด็กที่ป...</td>\n",
              "      <td>จอมพล สฤษดิ์ ธนะรัชต์</td>\n",
              "    </tr>\n",
              "    <tr>\n",
              "      <th>5</th>\n",
              "      <td>2506</td>\n",
              "      <td>ขอให้เด็กสมัยปฏิวัติของข้าพเจ้า จงเป็นเด็กที่ม...</td>\n",
              "      <td>จอมพล สฤษดิ์ ธนะรัชต์</td>\n",
              "    </tr>\n",
              "  </tbody>\n",
              "</table>\n",
              "</div>"
            ],
            "text/plain": [
              "   year  ...                     pm\n",
              "1  2502  ...  จอมพล สฤษดิ์ ธนะรัชต์\n",
              "2  2503  ...  จอมพล สฤษดิ์ ธนะรัชต์\n",
              "3  2504  ...  จอมพล สฤษดิ์ ธนะรัชต์\n",
              "4  2505  ...  จอมพล สฤษดิ์ ธนะรัชต์\n",
              "5  2506  ...  จอมพล สฤษดิ์ ธนะรัชต์\n",
              "\n",
              "[5 rows x 3 columns]"
            ]
          },
          "metadata": {
            "tags": []
          },
          "execution_count": 78
        }
      ]
    },
    {
      "cell_type": "code",
      "metadata": {
        "id": "kixtpjStXS9k",
        "colab_type": "code",
        "colab": {}
      },
      "source": [
        ""
      ],
      "execution_count": 0,
      "outputs": []
    },
    {
      "cell_type": "markdown",
      "metadata": {
        "id": "iqPmyji7b9A9",
        "colab_type": "text"
      },
      "source": [
        "# น่าทำต่อ\n",
        "\n",
        "- แปลงเป็น vector แล้ว plot ให้ cluster เป็นกลุ่ม"
      ]
    },
    {
      "cell_type": "code",
      "metadata": {
        "id": "tVFbn712cEO7",
        "colab_type": "code",
        "colab": {}
      },
      "source": [
        ""
      ],
      "execution_count": 0,
      "outputs": []
    }
  ]
}