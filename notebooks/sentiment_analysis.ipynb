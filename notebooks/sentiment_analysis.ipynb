{
  "nbformat": 4,
  "nbformat_minor": 0,
  "metadata": {
    "accelerator": "GPU",
    "colab": {
      "name": "sentiment_analysis.ipynb",
      "provenance": [],
      "include_colab_link": true
    },
    "kernelspec": {
      "display_name": "Python 3",
      "language": "python",
      "name": "python3"
    },
    "language_info": {
      "codemirror_mode": {
        "name": "ipython",
        "version": 3
      },
      "file_extension": ".py",
      "mimetype": "text/x-python",
      "name": "python",
      "nbconvert_exporter": "python",
      "pygments_lexer": "ipython3",
      "version": "3.7.4"
    }
  },
  "cells": [
    {
      "cell_type": "markdown",
      "metadata": {
        "id": "view-in-github",
        "colab_type": "text"
      },
      "source": [
        "<a href=\"https://colab.research.google.com/github/korakot/pythainlp_workshop/blob/master/notebooks/sentiment_analysis.ipynb\" target=\"_parent\"><img src=\"https://colab.research.google.com/assets/colab-badge.svg\" alt=\"Open In Colab\"/></a>"
      ]
    },
    {
      "cell_type": "markdown",
      "metadata": {
        "colab_type": "text",
        "id": "8AF08ssF6z5K"
      },
      "source": [
        "# Wisesight Sentiment Analysis"
      ]
    },
    {
      "cell_type": "markdown",
      "metadata": {
        "colab_type": "text",
        "id": "o-tHtMyc6z5L"
      },
      "source": [
        "This notebook details the steps taken to create a sentiment analyzer using data from [Wisesight Sentiment Analysis competition](https://www.kaggle.com/c/wisesight-sentiment/). Competition metric is overall accuracy across `neg`ative, `pos`itive, `neu`tral and `q`uestion classes. We give examples using logistic regression and [ULMFit](https://arxiv.org/abs/1801.06146).\n",
        "\n",
        "The results for logistic regression, [fastText](https://fasttext.cc/), ULMFit, ULMFit with semi-supervised data are as follows:\n",
        "\n",
        "| Model               | Public Accuracy | Private Accuracy |\n",
        "|---------------------|-----------------|------------------|\n",
        "| Logistic Regression | 0.72781         | 0.7499           |\n",
        "| fastText            | 0.63144         | 0.6131           |\n",
        "| ULMFit              | 0.71259         | 0.74194          |\n",
        "| ULMFit Semi-supervised    | 0.73119     | 0.75859      |\n",
        "| ULMFit Semi-supervised Repeated One Time    | **0.73372**     | **0.75968**      |\n",
        "\n",
        "* For more information about the competition, see [1st Place Solution](https://www.kaggle.com/c/wisesight-sentiment/discussion/83564).\n",
        "* For more updated version of data, including a tokenized `wisesight-1000` evaluation set, see [Wisesight Sentiment Corpus](https://github.com/PyThaiNLP/wisesight-sentiment)."
      ]
    },
    {
      "cell_type": "code",
      "metadata": {
        "colab_type": "code",
        "id": "bNjkuQK46z5M",
        "colab": {
          "base_uri": "https://localhost:8080/",
          "height": 1000
        },
        "outputId": "8abdf95f-4e6f-48e9-ee9d-659496bec0e0"
      },
      "source": [
        "#uncomment if you are running from google colab\n",
        "!pip install sklearn_crfsuite\n",
        "!pip install emoji\n",
        "!pip install https://github.com/PyThaiNLP/pythainlp/archive/dev.zip\n",
        "!pip install fastai\n",
        "!wget https://github.com/PyThaiNLP/wisesight-sentiment/archive/master.zip\n",
        "!unzip master.zip\n",
        "!mkdir wisesight_data"
      ],
      "execution_count": 1,
      "outputs": [
        {
          "output_type": "stream",
          "text": [
            "Collecting sklearn_crfsuite\n",
            "  Downloading https://files.pythonhosted.org/packages/25/74/5b7befa513482e6dee1f3dd68171a6c9dfc14c0eaa00f885ffeba54fe9b0/sklearn_crfsuite-0.3.6-py2.py3-none-any.whl\n",
            "Requirement already satisfied: tqdm>=2.0 in /usr/local/lib/python3.6/dist-packages (from sklearn_crfsuite) (4.28.1)\n",
            "Requirement already satisfied: six in /usr/local/lib/python3.6/dist-packages (from sklearn_crfsuite) (1.12.0)\n",
            "Requirement already satisfied: tabulate in /usr/local/lib/python3.6/dist-packages (from sklearn_crfsuite) (0.8.6)\n",
            "Collecting python-crfsuite>=0.8.3\n",
            "\u001b[?25l  Downloading https://files.pythonhosted.org/packages/2f/86/cfcd71edca9d25d3d331209a20f6314b6f3f134c29478f90559cee9ce091/python_crfsuite-0.9.6-cp36-cp36m-manylinux1_x86_64.whl (754kB)\n",
            "\r\u001b[K     |▍                               | 10kB 23.5MB/s eta 0:00:01\r\u001b[K     |▉                               | 20kB 29.6MB/s eta 0:00:01\r\u001b[K     |█▎                              | 30kB 2.6MB/s eta 0:00:01\r\u001b[K     |█▊                              | 40kB 3.4MB/s eta 0:00:01\r\u001b[K     |██▏                             | 51kB 4.2MB/s eta 0:00:01\r\u001b[K     |██▋                             | 61kB 4.9MB/s eta 0:00:01\r\u001b[K     |███                             | 71kB 5.7MB/s eta 0:00:01\r\u001b[K     |███▌                            | 81kB 6.3MB/s eta 0:00:01\r\u001b[K     |████                            | 92kB 3.8MB/s eta 0:00:01\r\u001b[K     |████▍                           | 102kB 4.2MB/s eta 0:00:01\r\u001b[K     |████▉                           | 112kB 4.2MB/s eta 0:00:01\r\u001b[K     |█████▏                          | 122kB 4.2MB/s eta 0:00:01\r\u001b[K     |█████▋                          | 133kB 4.2MB/s eta 0:00:01\r\u001b[K     |██████                          | 143kB 4.2MB/s eta 0:00:01\r\u001b[K     |██████▌                         | 153kB 4.2MB/s eta 0:00:01\r\u001b[K     |███████                         | 163kB 4.2MB/s eta 0:00:01\r\u001b[K     |███████▍                        | 174kB 4.2MB/s eta 0:00:01\r\u001b[K     |███████▉                        | 184kB 4.2MB/s eta 0:00:01\r\u001b[K     |████████▎                       | 194kB 4.2MB/s eta 0:00:01\r\u001b[K     |████████▊                       | 204kB 4.2MB/s eta 0:00:01\r\u001b[K     |█████████▏                      | 215kB 4.2MB/s eta 0:00:01\r\u001b[K     |█████████▋                      | 225kB 4.2MB/s eta 0:00:01\r\u001b[K     |██████████                      | 235kB 4.2MB/s eta 0:00:01\r\u001b[K     |██████████▍                     | 245kB 4.2MB/s eta 0:00:01\r\u001b[K     |██████████▉                     | 256kB 4.2MB/s eta 0:00:01\r\u001b[K     |███████████▎                    | 266kB 4.2MB/s eta 0:00:01\r\u001b[K     |███████████▊                    | 276kB 4.2MB/s eta 0:00:01\r\u001b[K     |████████████▏                   | 286kB 4.2MB/s eta 0:00:01\r\u001b[K     |████████████▋                   | 296kB 4.2MB/s eta 0:00:01\r\u001b[K     |█████████████                   | 307kB 4.2MB/s eta 0:00:01\r\u001b[K     |█████████████▌                  | 317kB 4.2MB/s eta 0:00:01\r\u001b[K     |██████████████                  | 327kB 4.2MB/s eta 0:00:01\r\u001b[K     |██████████████▍                 | 337kB 4.2MB/s eta 0:00:01\r\u001b[K     |██████████████▊                 | 348kB 4.2MB/s eta 0:00:01\r\u001b[K     |███████████████▏                | 358kB 4.2MB/s eta 0:00:01\r\u001b[K     |███████████████▋                | 368kB 4.2MB/s eta 0:00:01\r\u001b[K     |████████████████                | 378kB 4.2MB/s eta 0:00:01\r\u001b[K     |████████████████▌               | 389kB 4.2MB/s eta 0:00:01\r\u001b[K     |█████████████████               | 399kB 4.2MB/s eta 0:00:01\r\u001b[K     |█████████████████▍              | 409kB 4.2MB/s eta 0:00:01\r\u001b[K     |█████████████████▉              | 419kB 4.2MB/s eta 0:00:01\r\u001b[K     |██████████████████▎             | 430kB 4.2MB/s eta 0:00:01\r\u001b[K     |██████████████████▊             | 440kB 4.2MB/s eta 0:00:01\r\u001b[K     |███████████████████▏            | 450kB 4.2MB/s eta 0:00:01\r\u001b[K     |███████████████████▌            | 460kB 4.2MB/s eta 0:00:01\r\u001b[K     |████████████████████            | 471kB 4.2MB/s eta 0:00:01\r\u001b[K     |████████████████████▍           | 481kB 4.2MB/s eta 0:00:01\r\u001b[K     |████████████████████▉           | 491kB 4.2MB/s eta 0:00:01\r\u001b[K     |█████████████████████▎          | 501kB 4.2MB/s eta 0:00:01\r\u001b[K     |█████████████████████▊          | 512kB 4.2MB/s eta 0:00:01\r\u001b[K     |██████████████████████▏         | 522kB 4.2MB/s eta 0:00:01\r\u001b[K     |██████████████████████▋         | 532kB 4.2MB/s eta 0:00:01\r\u001b[K     |███████████████████████         | 542kB 4.2MB/s eta 0:00:01\r\u001b[K     |███████████████████████▌        | 552kB 4.2MB/s eta 0:00:01\r\u001b[K     |████████████████████████        | 563kB 4.2MB/s eta 0:00:01\r\u001b[K     |████████████████████████▎       | 573kB 4.2MB/s eta 0:00:01\r\u001b[K     |████████████████████████▊       | 583kB 4.2MB/s eta 0:00:01\r\u001b[K     |█████████████████████████▏      | 593kB 4.2MB/s eta 0:00:01\r\u001b[K     |█████████████████████████▋      | 604kB 4.2MB/s eta 0:00:01\r\u001b[K     |██████████████████████████      | 614kB 4.2MB/s eta 0:00:01\r\u001b[K     |██████████████████████████▌     | 624kB 4.2MB/s eta 0:00:01\r\u001b[K     |███████████████████████████     | 634kB 4.2MB/s eta 0:00:01\r\u001b[K     |███████████████████████████▍    | 645kB 4.2MB/s eta 0:00:01\r\u001b[K     |███████████████████████████▉    | 655kB 4.2MB/s eta 0:00:01\r\u001b[K     |████████████████████████████▎   | 665kB 4.2MB/s eta 0:00:01\r\u001b[K     |████████████████████████████▊   | 675kB 4.2MB/s eta 0:00:01\r\u001b[K     |█████████████████████████████▏  | 686kB 4.2MB/s eta 0:00:01\r\u001b[K     |█████████████████████████████▌  | 696kB 4.2MB/s eta 0:00:01\r\u001b[K     |██████████████████████████████  | 706kB 4.2MB/s eta 0:00:01\r\u001b[K     |██████████████████████████████▍ | 716kB 4.2MB/s eta 0:00:01\r\u001b[K     |██████████████████████████████▉ | 727kB 4.2MB/s eta 0:00:01\r\u001b[K     |███████████████████████████████▎| 737kB 4.2MB/s eta 0:00:01\r\u001b[K     |███████████████████████████████▊| 747kB 4.2MB/s eta 0:00:01\r\u001b[K     |████████████████████████████████| 757kB 4.2MB/s \n",
            "\u001b[?25hInstalling collected packages: python-crfsuite, sklearn-crfsuite\n",
            "Successfully installed python-crfsuite-0.9.6 sklearn-crfsuite-0.3.6\n",
            "Collecting emoji\n",
            "\u001b[?25l  Downloading https://files.pythonhosted.org/packages/40/8d/521be7f0091fe0f2ae690cc044faf43e3445e0ff33c574eae752dd7e39fa/emoji-0.5.4.tar.gz (43kB)\n",
            "\u001b[K     |████████████████████████████████| 51kB 1.7MB/s \n",
            "\u001b[?25hBuilding wheels for collected packages: emoji\n",
            "  Building wheel for emoji (setup.py) ... \u001b[?25l\u001b[?25hdone\n",
            "  Created wheel for emoji: filename=emoji-0.5.4-cp36-none-any.whl size=42176 sha256=2665d90cd2017a107ae1a5ae6d53201f48bebe04d853faec3994bc4830ba58ed\n",
            "  Stored in directory: /root/.cache/pip/wheels/2a/a9/0a/4f8e8cce8074232aba240caca3fade315bb49fac68808d1a9c\n",
            "Successfully built emoji\n",
            "Installing collected packages: emoji\n",
            "Successfully installed emoji-0.5.4\n",
            "Collecting https://github.com/PyThaiNLP/pythainlp/archive/dev.zip\n",
            "\u001b[?25l  Downloading https://github.com/PyThaiNLP/pythainlp/archive/dev.zip\n",
            "\u001b[K     - 24.2MB 505kB/s\n",
            "\u001b[?25hRequirement already satisfied: dill>=0.3.0 in /usr/local/lib/python3.6/dist-packages (from pythainlp==2.2.0.dev0) (0.3.1.1)\n",
            "Collecting nltk>=3.3\n",
            "\u001b[?25l  Downloading https://files.pythonhosted.org/packages/f6/1d/d925cfb4f324ede997f6d47bea4d9babba51b49e87a767c170b77005889d/nltk-3.4.5.zip (1.5MB)\n",
            "\u001b[K     |████████████████████████████████| 1.5MB 2.8MB/s \n",
            "\u001b[?25hRequirement already satisfied: python-crfsuite>=0.9.6 in /usr/local/lib/python3.6/dist-packages (from pythainlp==2.2.0.dev0) (0.9.6)\n",
            "Collecting requests>=2.22.0\n",
            "\u001b[?25l  Downloading https://files.pythonhosted.org/packages/1a/70/1935c770cb3be6e3a8b78ced23d7e0f3b187f5cbfab4749523ed65d7c9b1/requests-2.23.0-py2.py3-none-any.whl (58kB)\n",
            "\u001b[K     |████████████████████████████████| 61kB 7.6MB/s \n",
            "\u001b[?25hCollecting tinydb>=3.0\n",
            "  Downloading https://files.pythonhosted.org/packages/22/11/c3adfc1b367d1955461f82a4a0a8ffffd37b193e98f2fe89338cdd4a8a6a/tinydb-3.15.2-py2.py3-none-any.whl\n",
            "Requirement already satisfied: tqdm>=4.1 in /usr/local/lib/python3.6/dist-packages (from pythainlp==2.2.0.dev0) (4.28.1)\n",
            "Requirement already satisfied: six in /usr/local/lib/python3.6/dist-packages (from nltk>=3.3->pythainlp==2.2.0.dev0) (1.12.0)\n",
            "Requirement already satisfied: urllib3!=1.25.0,!=1.25.1,<1.26,>=1.21.1 in /usr/local/lib/python3.6/dist-packages (from requests>=2.22.0->pythainlp==2.2.0.dev0) (1.24.3)\n",
            "Requirement already satisfied: chardet<4,>=3.0.2 in /usr/local/lib/python3.6/dist-packages (from requests>=2.22.0->pythainlp==2.2.0.dev0) (3.0.4)\n",
            "Requirement already satisfied: certifi>=2017.4.17 in /usr/local/lib/python3.6/dist-packages (from requests>=2.22.0->pythainlp==2.2.0.dev0) (2019.11.28)\n",
            "Requirement already satisfied: idna<3,>=2.5 in /usr/local/lib/python3.6/dist-packages (from requests>=2.22.0->pythainlp==2.2.0.dev0) (2.8)\n",
            "Building wheels for collected packages: pythainlp, nltk\n",
            "  Building wheel for pythainlp (setup.py) ... \u001b[?25l\u001b[?25hdone\n",
            "  Created wheel for pythainlp: filename=pythainlp-2.2.0.dev0-cp36-none-any.whl size=12568248 sha256=107bfd3889fd598d0c254ef505de154261dab2382c7362d0f3d31c00c111e614\n",
            "  Stored in directory: /tmp/pip-ephem-wheel-cache-bhcg4x77/wheels/79/4e/1e/26f3198c6712ecfbee92928ed1dde923a078da3d222401cc78\n",
            "  Building wheel for nltk (setup.py) ... \u001b[?25l\u001b[?25hdone\n",
            "  Created wheel for nltk: filename=nltk-3.4.5-cp36-none-any.whl size=1449908 sha256=7bdaba5ede5bb6118d801ccf48f175484e489c3f445c5c71e92052e71300b833\n",
            "  Stored in directory: /root/.cache/pip/wheels/96/86/f6/68ab24c23f207c0077381a5e3904b2815136b879538a24b483\n",
            "Successfully built pythainlp nltk\n",
            "\u001b[31mERROR: google-colab 1.0.0 has requirement requests~=2.21.0, but you'll have requests 2.23.0 which is incompatible.\u001b[0m\n",
            "\u001b[31mERROR: datascience 0.10.6 has requirement folium==0.2.1, but you'll have folium 0.8.3 which is incompatible.\u001b[0m\n",
            "Installing collected packages: nltk, requests, tinydb, pythainlp\n",
            "  Found existing installation: nltk 3.2.5\n",
            "    Uninstalling nltk-3.2.5:\n",
            "      Successfully uninstalled nltk-3.2.5\n",
            "  Found existing installation: requests 2.21.0\n",
            "    Uninstalling requests-2.21.0:\n",
            "      Successfully uninstalled requests-2.21.0\n",
            "Successfully installed nltk-3.4.5 pythainlp-2.2.0.dev0 requests-2.23.0 tinydb-3.15.2\n"
          ],
          "name": "stdout"
        },
        {
          "output_type": "display_data",
          "data": {
            "application/vnd.colab-display-data+json": {
              "pip_warning": {
                "packages": [
                  "requests"
                ]
              }
            }
          },
          "metadata": {
            "tags": []
          }
        },
        {
          "output_type": "stream",
          "text": [
            "Requirement already satisfied: fastai in /usr/local/lib/python3.6/dist-packages (1.0.60)\n",
            "Requirement already satisfied: bottleneck in /usr/local/lib/python3.6/dist-packages (from fastai) (1.3.1)\n",
            "Requirement already satisfied: torchvision in /usr/local/lib/python3.6/dist-packages (from fastai) (0.5.0)\n",
            "Requirement already satisfied: dataclasses; python_version < \"3.7\" in /usr/local/lib/python3.6/dist-packages (from fastai) (0.7)\n",
            "Requirement already satisfied: numexpr in /usr/local/lib/python3.6/dist-packages (from fastai) (2.7.1)\n",
            "Requirement already satisfied: beautifulsoup4 in /usr/local/lib/python3.6/dist-packages (from fastai) (4.6.3)\n",
            "Requirement already satisfied: nvidia-ml-py3 in /usr/local/lib/python3.6/dist-packages (from fastai) (7.352.0)\n",
            "Requirement already satisfied: Pillow in /usr/local/lib/python3.6/dist-packages (from fastai) (6.2.2)\n",
            "Requirement already satisfied: torch>=1.0.0 in /usr/local/lib/python3.6/dist-packages (from fastai) (1.4.0)\n",
            "Requirement already satisfied: numpy>=1.15 in /usr/local/lib/python3.6/dist-packages (from fastai) (1.17.5)\n",
            "Requirement already satisfied: requests in /usr/local/lib/python3.6/dist-packages (from fastai) (2.23.0)\n",
            "Requirement already satisfied: scipy in /usr/local/lib/python3.6/dist-packages (from fastai) (1.4.1)\n",
            "Requirement already satisfied: packaging in /usr/local/lib/python3.6/dist-packages (from fastai) (20.1)\n",
            "Requirement already satisfied: matplotlib in /usr/local/lib/python3.6/dist-packages (from fastai) (3.1.3)\n",
            "Requirement already satisfied: pyyaml in /usr/local/lib/python3.6/dist-packages (from fastai) (3.13)\n",
            "Requirement already satisfied: spacy>=2.0.18 in /usr/local/lib/python3.6/dist-packages (from fastai) (2.1.9)\n",
            "Requirement already satisfied: fastprogress>=0.2.1 in /usr/local/lib/python3.6/dist-packages (from fastai) (0.2.2)\n",
            "Requirement already satisfied: pandas in /usr/local/lib/python3.6/dist-packages (from fastai) (0.25.3)\n",
            "Requirement already satisfied: six in /usr/local/lib/python3.6/dist-packages (from torchvision->fastai) (1.12.0)\n",
            "Requirement already satisfied: certifi>=2017.4.17 in /usr/local/lib/python3.6/dist-packages (from requests->fastai) (2019.11.28)\n",
            "Requirement already satisfied: idna<3,>=2.5 in /usr/local/lib/python3.6/dist-packages (from requests->fastai) (2.8)\n",
            "Requirement already satisfied: chardet<4,>=3.0.2 in /usr/local/lib/python3.6/dist-packages (from requests->fastai) (3.0.4)\n",
            "Requirement already satisfied: urllib3!=1.25.0,!=1.25.1,<1.26,>=1.21.1 in /usr/local/lib/python3.6/dist-packages (from requests->fastai) (1.24.3)\n",
            "Requirement already satisfied: pyparsing>=2.0.2 in /usr/local/lib/python3.6/dist-packages (from packaging->fastai) (2.4.6)\n",
            "Requirement already satisfied: cycler>=0.10 in /usr/local/lib/python3.6/dist-packages (from matplotlib->fastai) (0.10.0)\n",
            "Requirement already satisfied: python-dateutil>=2.1 in /usr/local/lib/python3.6/dist-packages (from matplotlib->fastai) (2.6.1)\n",
            "Requirement already satisfied: kiwisolver>=1.0.1 in /usr/local/lib/python3.6/dist-packages (from matplotlib->fastai) (1.1.0)\n",
            "Requirement already satisfied: cymem<2.1.0,>=2.0.2 in /usr/local/lib/python3.6/dist-packages (from spacy>=2.0.18->fastai) (2.0.3)\n",
            "Requirement already satisfied: srsly<1.1.0,>=0.0.6 in /usr/local/lib/python3.6/dist-packages (from spacy>=2.0.18->fastai) (1.0.1)\n",
            "Requirement already satisfied: blis<0.3.0,>=0.2.2 in /usr/local/lib/python3.6/dist-packages (from spacy>=2.0.18->fastai) (0.2.4)\n",
            "Requirement already satisfied: murmurhash<1.1.0,>=0.28.0 in /usr/local/lib/python3.6/dist-packages (from spacy>=2.0.18->fastai) (1.0.2)\n",
            "Requirement already satisfied: plac<1.0.0,>=0.9.6 in /usr/local/lib/python3.6/dist-packages (from spacy>=2.0.18->fastai) (0.9.6)\n",
            "Requirement already satisfied: preshed<2.1.0,>=2.0.1 in /usr/local/lib/python3.6/dist-packages (from spacy>=2.0.18->fastai) (2.0.1)\n",
            "Requirement already satisfied: thinc<7.1.0,>=7.0.8 in /usr/local/lib/python3.6/dist-packages (from spacy>=2.0.18->fastai) (7.0.8)\n",
            "Requirement already satisfied: wasabi<1.1.0,>=0.2.0 in /usr/local/lib/python3.6/dist-packages (from spacy>=2.0.18->fastai) (0.6.0)\n",
            "Requirement already satisfied: pytz>=2017.2 in /usr/local/lib/python3.6/dist-packages (from pandas->fastai) (2018.9)\n",
            "Requirement already satisfied: setuptools in /usr/local/lib/python3.6/dist-packages (from kiwisolver>=1.0.1->matplotlib->fastai) (45.1.0)\n",
            "Requirement already satisfied: tqdm<5.0.0,>=4.10.0 in /usr/local/lib/python3.6/dist-packages (from thinc<7.1.0,>=7.0.8->spacy>=2.0.18->fastai) (4.28.1)\n",
            "--2020-03-02 01:59:44--  https://github.com/PyThaiNLP/wisesight-sentiment/archive/master.zip\n",
            "Resolving github.com (github.com)... 140.82.114.3\n",
            "Connecting to github.com (github.com)|140.82.114.3|:443... connected.\n",
            "HTTP request sent, awaiting response... 302 Found\n",
            "Location: https://codeload.github.com/PyThaiNLP/wisesight-sentiment/zip/master [following]\n",
            "--2020-03-02 01:59:45--  https://codeload.github.com/PyThaiNLP/wisesight-sentiment/zip/master\n",
            "Resolving codeload.github.com (codeload.github.com)... 140.82.113.10\n",
            "Connecting to codeload.github.com (codeload.github.com)|140.82.113.10|:443... connected.\n",
            "HTTP request sent, awaiting response... 200 OK\n",
            "Length: unspecified [application/zip]\n",
            "Saving to: ‘master.zip’\n",
            "\n",
            "master.zip              [      <=>           ]   4.05M  2.66MB/s    in 1.5s    \n",
            "\n",
            "2020-03-02 01:59:47 (2.66 MB/s) - ‘master.zip’ saved [4251880]\n",
            "\n",
            "Archive:  master.zip\n",
            "07e7d224affc4966ea10ad0e10b6bca6ad21c660\n",
            "   creating: wisesight-sentiment-master/\n",
            "  inflating: wisesight-sentiment-master/.gitignore  \n",
            "  inflating: wisesight-sentiment-master/README.md  \n",
            "  inflating: wisesight-sentiment-master/exploration.ipynb  \n",
            "   creating: wisesight-sentiment-master/kaggle-competition/\n",
            "  inflating: wisesight-sentiment-master/kaggle-competition/README.md  \n",
            "  inflating: wisesight-sentiment-master/kaggle-competition/competition.ipynb  \n",
            "  inflating: wisesight-sentiment-master/kaggle-competition/test.txt  \n",
            "  inflating: wisesight-sentiment-master/kaggle-competition/test_label.txt  \n",
            "  inflating: wisesight-sentiment-master/kaggle-competition/test_majority.csv  \n",
            "  inflating: wisesight-sentiment-master/kaggle-competition/test_solution.csv  \n",
            "  inflating: wisesight-sentiment-master/kaggle-competition/text_generation.ipynb  \n",
            "  inflating: wisesight-sentiment-master/kaggle-competition/train.txt  \n",
            "  inflating: wisesight-sentiment-master/kaggle-competition/train_label.txt  \n",
            "  inflating: wisesight-sentiment-master/kaggle-competition/train_model.py  \n",
            "  inflating: wisesight-sentiment-master/neg.txt  \n",
            "  inflating: wisesight-sentiment-master/neu.txt  \n",
            "  inflating: wisesight-sentiment-master/pos.txt  \n",
            "  inflating: wisesight-sentiment-master/q.txt  \n",
            "   creating: wisesight-sentiment-master/word-tokenization/\n",
            "  inflating: wisesight-sentiment-master/word-tokenization/README.md  \n",
            "  inflating: wisesight-sentiment-master/word-tokenization/data-preparation-and-post-processing.ipynb  \n",
            "  inflating: wisesight-sentiment-master/word-tokenization/wisesight-1000-samples-tokenised.label  \n",
            "  inflating: wisesight-sentiment-master/word-tokenization/wisesight-1000-samples-tokenised.txt  \n",
            "  inflating: wisesight-sentiment-master/word-tokenization/wisesight-160-samples-tokenised.label  \n",
            "  inflating: wisesight-sentiment-master/word-tokenization/wisesight-160-samples-tokenised.txt  \n"
          ],
          "name": "stdout"
        }
      ]
    },
    {
      "cell_type": "code",
      "metadata": {
        "id": "QO1kCeRo5xMH",
        "colab_type": "code",
        "colab": {
          "base_uri": "https://localhost:8080/",
          "height": 315
        },
        "outputId": "b7587552-d623-407f-fa23-de9bb57c318b"
      },
      "source": [
        "#snippet to install thai font in matplotlib from https://gist.github.com/korakot/9d7f5db632351dc92607fdec72a4953f\n",
        "import matplotlib\n",
        "!wget https://github.com/Phonbopit/sarabun-webfont/raw/master/fonts/thsarabunnew-webfont.ttf\n",
        "!cp thsarabunnew-webfont.ttf /usr/local/lib/python3.6/dist-packages/matplotlib/mpl-data/fonts/ttf/\n",
        "!cp thsarabunnew-webfont.ttf /usr/share/fonts/truetype/\n",
        "matplotlib.font_manager._rebuild()\n",
        "matplotlib.rc('font', family='TH Sarabun New')"
      ],
      "execution_count": 2,
      "outputs": [
        {
          "output_type": "stream",
          "text": [
            "--2020-03-02 02:00:05--  https://github.com/Phonbopit/sarabun-webfont/raw/master/fonts/thsarabunnew-webfont.ttf\n",
            "Resolving github.com (github.com)... 140.82.114.3\n",
            "Connecting to github.com (github.com)|140.82.114.3|:443... connected.\n",
            "HTTP request sent, awaiting response... 302 Found\n",
            "Location: https://raw.githubusercontent.com/Phonbopit/sarabun-webfont/master/fonts/thsarabunnew-webfont.ttf [following]\n",
            "--2020-03-02 02:00:06--  https://raw.githubusercontent.com/Phonbopit/sarabun-webfont/master/fonts/thsarabunnew-webfont.ttf\n",
            "Resolving raw.githubusercontent.com (raw.githubusercontent.com)... 151.101.0.133, 151.101.64.133, 151.101.128.133, ...\n",
            "Connecting to raw.githubusercontent.com (raw.githubusercontent.com)|151.101.0.133|:443... connected.\n",
            "HTTP request sent, awaiting response... 200 OK\n",
            "Length: 98308 (96K) [application/octet-stream]\n",
            "Saving to: ‘thsarabunnew-webfont.ttf’\n",
            "\n",
            "thsarabunnew-webfon 100%[===================>]  96.00K  --.-KB/s    in 0.04s   \n",
            "\n",
            "2020-03-02 02:00:07 (2.56 MB/s) - ‘thsarabunnew-webfont.ttf’ saved [98308/98308]\n",
            "\n"
          ],
          "name": "stdout"
        }
      ]
    },
    {
      "cell_type": "code",
      "metadata": {
        "colab_type": "code",
        "id": "Zs8wtP0m6z5O",
        "outputId": "9f550cd8-9813-4ee5-bac8-b0a20f154d0e",
        "colab": {
          "base_uri": "https://localhost:8080/",
          "height": 121
        }
      },
      "source": [
        "%load_ext autoreload\n",
        "%autoreload 2\n",
        "\n",
        "import numpy as np\n",
        "import pandas as pd\n",
        "\n",
        "from pythainlp import word_tokenize\n",
        "from tqdm import tqdm_notebook\n",
        "from pythainlp.ulmfit import process_thai\n",
        "\n",
        "#viz\n",
        "import matplotlib.pyplot as plt\n",
        "import seaborn as sns"
      ],
      "execution_count": 3,
      "outputs": [
        {
          "output_type": "stream",
          "text": [
            "Corpus: wiki_lm_lstm\n",
            "- Downloading: wiki_lm_lstm 0.32\n"
          ],
          "name": "stdout"
        },
        {
          "output_type": "stream",
          "text": [
            "100%|██████████| 1050919089/1050919089 [00:47<00:00, 21922371.22it/s]\n"
          ],
          "name": "stderr"
        },
        {
          "output_type": "stream",
          "text": [
            "Corpus: wiki_itos_lstm\n",
            "- Downloading: wiki_itos_lstm 0.32\n"
          ],
          "name": "stdout"
        },
        {
          "output_type": "stream",
          "text": [
            "100%|██████████| 1530484/1530484 [00:00<00:00, 7527366.02it/s]\n"
          ],
          "name": "stderr"
        }
      ]
    },
    {
      "cell_type": "markdown",
      "metadata": {
        "colab_type": "text",
        "id": "cRXpcJp16z5R"
      },
      "source": [
        "## Text Processor for Logistic Regression"
      ]
    },
    {
      "cell_type": "markdown",
      "metadata": {
        "id": "s-exgYgN5xMO",
        "colab_type": "text"
      },
      "source": [
        "`pythainlp.ulmfit.process_thai` contains text cleaning rules with the default aimed for sparse models like bag of words. It contains `pre_rules` applied before tokenization and `post_rules` applied after."
      ]
    },
    {
      "cell_type": "code",
      "metadata": {
        "id": "rsuB63hs5xMP",
        "colab_type": "code",
        "colab": {}
      },
      "source": [
        "process_thai"
      ],
      "execution_count": 0,
      "outputs": []
    },
    {
      "cell_type": "code",
      "metadata": {
        "id": "T97JiWE45xMR",
        "colab_type": "code",
        "outputId": "a8e1b1d2-be7f-4e11-cede-7b7fb6e7ea0d",
        "colab": {
          "base_uri": "https://localhost:8080/",
          "height": 260
        }
      },
      "source": [
        "from pythainlp.ulmfit import *\n",
        "process_thai(\"บ้านนนนน ()อยู่นานนานนาน 😂🤣😃😄😅 PyThaiNLP amp;     www.google.com\")"
      ],
      "execution_count": 4,
      "outputs": [
        {
          "output_type": "execute_result",
          "data": {
            "text/plain": [
              "['บ้าน',\n",
              " 'xxrep',\n",
              " '  ',\n",
              " 'อยู่',\n",
              " 'xxwrep',\n",
              " 'นาน',\n",
              " '😂',\n",
              " '🤣',\n",
              " '😃',\n",
              " '😄',\n",
              " '😅',\n",
              " 'pythainlp',\n",
              " '&',\n",
              " 'xxurl']"
            ]
          },
          "metadata": {
            "tags": []
          },
          "execution_count": 4
        }
      ]
    },
    {
      "cell_type": "markdown",
      "metadata": {
        "colab_type": "text",
        "id": "71ZMt4_h6z5U"
      },
      "source": [
        "## Process Text Files to CSVs"
      ]
    },
    {
      "cell_type": "code",
      "metadata": {
        "colab_type": "code",
        "id": "4NNjkF3i6z5U",
        "outputId": "3a6d2bde-caf6-45c1-d0d2-65d05d5201c4",
        "scrolled": true,
        "colab": {
          "base_uri": "https://localhost:8080/",
          "height": 35
        }
      },
      "source": [
        "with open(\"wisesight-sentiment-master/kaggle-competition/train.txt\") as f:\n",
        "    texts = [line.strip() for line in f.readlines()]\n",
        "\n",
        "with open(\"wisesight-sentiment-master/kaggle-competition/train_label.txt\") as f:\n",
        "    categories = [line.strip() for line in f.readlines()]\n",
        "\n",
        "all_df = pd.DataFrame({\"category\":categories, \"texts\":texts})\n",
        "all_df.to_csv('all_df.csv',index=False)\n",
        "all_df.shape"
      ],
      "execution_count": 5,
      "outputs": [
        {
          "output_type": "execute_result",
          "data": {
            "text/plain": [
              "(24063, 2)"
            ]
          },
          "metadata": {
            "tags": []
          },
          "execution_count": 5
        }
      ]
    },
    {
      "cell_type": "code",
      "metadata": {
        "colab_type": "code",
        "id": "E3Ww3CIi6z5X",
        "outputId": "a4af4bc1-f02b-4f0f-b662-2e4c974e0058",
        "colab": {
          "base_uri": "https://localhost:8080/",
          "height": 35
        }
      },
      "source": [
        "with open(\"wisesight-sentiment-master/kaggle-competition/test.txt\") as f:\n",
        "    texts = [line.strip() for line in f.readlines()]\n",
        "\n",
        "test_df = pd.DataFrame({\"category\":\"test\", \"texts\":texts})\n",
        "test_df.shape"
      ],
      "execution_count": 6,
      "outputs": [
        {
          "output_type": "execute_result",
          "data": {
            "text/plain": [
              "(2674, 2)"
            ]
          },
          "metadata": {
            "tags": []
          },
          "execution_count": 6
        }
      ]
    },
    {
      "cell_type": "markdown",
      "metadata": {
        "colab_type": "text",
        "id": "E5rbH6aJ6z5a"
      },
      "source": [
        "## Load Data"
      ]
    },
    {
      "cell_type": "code",
      "metadata": {
        "colab_type": "code",
        "id": "yhQ6MX7U6z5a",
        "colab": {}
      },
      "source": [
        "all_df[\"processed\"] = all_df.texts.map(lambda x: \"|\".join(process_thai(x)))\n",
        "all_df[\"wc\"] = all_df.processed.map(lambda x: len(x.split(\"|\")))\n",
        "all_df[\"uwc\"] = all_df.processed.map(lambda x: len(set(x.split(\"|\"))))\n",
        "\n",
        "test_df[\"processed\"] = test_df.texts.map(lambda x: \"|\".join(process_thai(x)))\n",
        "test_df[\"wc\"] = test_df.processed.map(lambda x: len(x.split(\"|\")))\n",
        "test_df[\"uwc\"] = test_df.processed.map(lambda x: len(set(x.split(\"|\"))))"
      ],
      "execution_count": 0,
      "outputs": []
    },
    {
      "cell_type": "code",
      "metadata": {
        "colab_type": "code",
        "id": "iEDdQ9hH6z5c",
        "outputId": "4d50eab6-dfc0-4071-c577-d737f01e57ad",
        "colab": {
          "base_uri": "https://localhost:8080/",
          "height": 104
        }
      },
      "source": [
        "#prevalence\n",
        "all_df.category.value_counts() / all_df.shape[0]"
      ],
      "execution_count": 8,
      "outputs": [
        {
          "output_type": "execute_result",
          "data": {
            "text/plain": [
              "neu    0.544612\n",
              "neg    0.255164\n",
              "pos    0.178698\n",
              "q      0.021527\n",
              "Name: category, dtype: float64"
            ]
          },
          "metadata": {
            "tags": []
          },
          "execution_count": 8
        }
      ]
    },
    {
      "cell_type": "markdown",
      "metadata": {
        "colab_type": "text",
        "id": "-jPw7Rbu6z5f"
      },
      "source": [
        "## Train-validation Split"
      ]
    },
    {
      "cell_type": "markdown",
      "metadata": {
        "colab_type": "text",
        "id": "K9b0gp626z5g"
      },
      "source": [
        "We perform 85/15 random train-validation split. We also perform under/oversampling to balance out the classes a little."
      ]
    },
    {
      "cell_type": "code",
      "metadata": {
        "colab_type": "code",
        "id": "ioXCNzVX6z5h",
        "colab": {}
      },
      "source": [
        "#when finding hyperparameters\n",
        "from sklearn.model_selection import train_test_split\n",
        "train_df, valid_df = train_test_split(all_df, test_size=0.15, random_state=1412)\n",
        "train_df = train_df.reset_index(drop=True)\n",
        "valid_df = valid_df.reset_index(drop=True)\n",
        "\n",
        "#when actually doing it\n",
        "# train_df = all_df.copy()\n",
        "# valid_df = pd.read_csv('valid_df.csv')"
      ],
      "execution_count": 0,
      "outputs": []
    },
    {
      "cell_type": "code",
      "metadata": {
        "colab_type": "code",
        "id": "J5sCacbM6z5j",
        "outputId": "df9e5a87-93cf-4f22-9f62-8bc30309f942",
        "colab": {
          "base_uri": "https://localhost:8080/",
          "height": 202
        }
      },
      "source": [
        "valid_df.head()"
      ],
      "execution_count": 10,
      "outputs": [
        {
          "output_type": "execute_result",
          "data": {
            "text/html": [
              "<div>\n",
              "<style scoped>\n",
              "    .dataframe tbody tr th:only-of-type {\n",
              "        vertical-align: middle;\n",
              "    }\n",
              "\n",
              "    .dataframe tbody tr th {\n",
              "        vertical-align: top;\n",
              "    }\n",
              "\n",
              "    .dataframe thead th {\n",
              "        text-align: right;\n",
              "    }\n",
              "</style>\n",
              "<table border=\"1\" class=\"dataframe\">\n",
              "  <thead>\n",
              "    <tr style=\"text-align: right;\">\n",
              "      <th></th>\n",
              "      <th>category</th>\n",
              "      <th>texts</th>\n",
              "      <th>processed</th>\n",
              "      <th>wc</th>\n",
              "      <th>uwc</th>\n",
              "    </tr>\n",
              "  </thead>\n",
              "  <tbody>\n",
              "    <tr>\n",
              "      <th>0</th>\n",
              "      <td>neu</td>\n",
              "      <td>เห็นคนลบแอพ viu ก็เห็นใจและเข้าใจเขานะคะ แผลมั...</td>\n",
              "      <td>เห็น|คน|ลบ|แอ|พ|viu|ก็|เห็นใจ|และ|เข้าใจ|เขา|น...</td>\n",
              "      <td>48</td>\n",
              "      <td>43</td>\n",
              "    </tr>\n",
              "    <tr>\n",
              "      <th>1</th>\n",
              "      <td>neu</td>\n",
              "      <td>ไปชมไม้คิวของแชมป์ และรองแชมป์ กันจ้า! ..........</td>\n",
              "      <td>ไป|ชม|ไม้|คิว|ของ|แชมป์|และ|รอง|แชมป์|กัน|จ้า|...</td>\n",
              "      <td>43</td>\n",
              "      <td>41</td>\n",
              "    </tr>\n",
              "    <tr>\n",
              "      <th>2</th>\n",
              "      <td>neg</td>\n",
              "      <td>กลุ่มรถซีวิคเป็นกลุ่มที่น่ารำคานมากกกกกกกกก อว...</td>\n",
              "      <td>กลุ่ม|รถ|ซีวิค|เป็น|กลุ่ม|ที่|น่า|รำ|คาน|มาก|x...</td>\n",
              "      <td>47</td>\n",
              "      <td>36</td>\n",
              "    </tr>\n",
              "    <tr>\n",
              "      <th>3</th>\n",
              "      <td>neu</td>\n",
              "      <td>อยากสวยเหมือนเจ้าของแบรนด์สิคะ เนย โชติกา ใบหน...</td>\n",
              "      <td>อยาก|สวย|เหมือน|เจ้าของ|แบรนด์|สิ|คะ|เนย|โชติ|...</td>\n",
              "      <td>72</td>\n",
              "      <td>56</td>\n",
              "    </tr>\n",
              "    <tr>\n",
              "      <th>4</th>\n",
              "      <td>neg</td>\n",
              "      <td>ข้าวโถละร้อย แพง เพราะตักเป็นจานๆละ15 เต็มที่ก...</td>\n",
              "      <td>ข้าว|โถ|ละ|ร้อย|แพง|เพราะ|ตัก|เป็น|จาน|ๆ|ละ|15...</td>\n",
              "      <td>381</td>\n",
              "      <td>218</td>\n",
              "    </tr>\n",
              "  </tbody>\n",
              "</table>\n",
              "</div>"
            ],
            "text/plain": [
              "  category                                              texts  ...   wc  uwc\n",
              "0      neu  เห็นคนลบแอพ viu ก็เห็นใจและเข้าใจเขานะคะ แผลมั...  ...   48   43\n",
              "1      neu  ไปชมไม้คิวของแชมป์ และรองแชมป์ กันจ้า! ..........  ...   43   41\n",
              "2      neg  กลุ่มรถซีวิคเป็นกลุ่มที่น่ารำคานมากกกกกกกกก อว...  ...   47   36\n",
              "3      neu  อยากสวยเหมือนเจ้าของแบรนด์สิคะ เนย โชติกา ใบหน...  ...   72   56\n",
              "4      neg  ข้าวโถละร้อย แพง เพราะตักเป็นจานๆละ15 เต็มที่ก...  ...  381  218\n",
              "\n",
              "[5 rows x 5 columns]"
            ]
          },
          "metadata": {
            "tags": []
          },
          "execution_count": 10
        }
      ]
    },
    {
      "cell_type": "code",
      "metadata": {
        "colab_type": "code",
        "id": "GojEjj2k6z5m",
        "outputId": "fb511018-63c0-486a-af5c-2ecbd22a82fb",
        "colab": {
          "base_uri": "https://localhost:8080/",
          "height": 104
        }
      },
      "source": [
        "#prevalence\n",
        "print(train_df[\"category\"].value_counts() / train_df.shape[0])"
      ],
      "execution_count": 11,
      "outputs": [
        {
          "output_type": "stream",
          "text": [
            "neu    0.544957\n",
            "neg    0.253557\n",
            "pos    0.180071\n",
            "q      0.021415\n",
            "Name: category, dtype: float64\n"
          ],
          "name": "stdout"
        }
      ]
    },
    {
      "cell_type": "code",
      "metadata": {
        "colab_type": "code",
        "id": "sH1t3bal6z5o",
        "outputId": "1b944d53-0a80-4425-d9c5-2e4d7e8316e9",
        "colab": {
          "base_uri": "https://localhost:8080/",
          "height": 104
        }
      },
      "source": [
        "#prevalence\n",
        "print(valid_df[\"category\"].value_counts() / valid_df.shape[0])"
      ],
      "execution_count": 12,
      "outputs": [
        {
          "output_type": "stream",
          "text": [
            "neu    0.542659\n",
            "neg    0.264266\n",
            "pos    0.170914\n",
            "q      0.022161\n",
            "Name: category, dtype: float64\n"
          ],
          "name": "stdout"
        }
      ]
    },
    {
      "cell_type": "markdown",
      "metadata": {
        "colab_type": "text",
        "id": "fhsWvG9c6z5q"
      },
      "source": [
        "## Logistic Regression"
      ]
    },
    {
      "cell_type": "markdown",
      "metadata": {
        "colab_type": "text",
        "id": "oUAqMvNe6z5q"
      },
      "source": [
        "### Create Features"
      ]
    },
    {
      "cell_type": "code",
      "metadata": {
        "colab_type": "code",
        "id": "5eI-DEzW6z5r",
        "colab": {}
      },
      "source": [
        "#dependent variables\n",
        "y_train = train_df[\"category\"]\n",
        "y_valid = valid_df[\"category\"]"
      ],
      "execution_count": 0,
      "outputs": []
    },
    {
      "cell_type": "code",
      "metadata": {
        "colab_type": "code",
        "id": "Ry4GTGaC6z5t",
        "outputId": "b599e009-887f-43d4-e359-9fbeee56605a",
        "colab": {
          "base_uri": "https://localhost:8080/",
          "height": 89
        }
      },
      "source": [
        "#text faetures\n",
        "from sklearn.feature_extraction.text import TfidfVectorizer\n",
        "from sklearn.linear_model import LogisticRegression\n",
        "\n",
        "tfidf = TfidfVectorizer(tokenizer=process_thai, ngram_range=(1,2), min_df=20, sublinear_tf=True)\n",
        "tfidf_fit = tfidf.fit(all_df[\"texts\"])\n",
        "text_train = tfidf_fit.transform(train_df[\"texts\"])\n",
        "text_valid = tfidf_fit.transform(valid_df[\"texts\"])\n",
        "text_test = tfidf_fit.transform(test_df[\"texts\"])\n",
        "text_train.shape, text_valid.shape"
      ],
      "execution_count": 14,
      "outputs": [
        {
          "output_type": "stream",
          "text": [
            "/usr/local/lib/python3.6/dist-packages/sklearn/feature_extraction/text.py:507: UserWarning: The parameter 'token_pattern' will not be used since 'tokenizer' is not None'\n",
            "  warnings.warn(\"The parameter 'token_pattern' will not be used\"\n"
          ],
          "name": "stderr"
        },
        {
          "output_type": "execute_result",
          "data": {
            "text/plain": [
              "((20453, 4616), (3610, 4616))"
            ]
          },
          "metadata": {
            "tags": []
          },
          "execution_count": 14
        }
      ]
    },
    {
      "cell_type": "code",
      "metadata": {
        "id": "OPVsOIL6_3ge",
        "colab_type": "code",
        "colab": {
          "base_uri": "https://localhost:8080/",
          "height": 228
        },
        "outputId": "f915960b-89b2-45d7-9d7e-efb2a9497e14"
      },
      "source": [
        "!wget https://raw.githubusercontent.com/PyThaiNLP/tutorials/master/source/notebooks/visualize.py"
      ],
      "execution_count": 16,
      "outputs": [
        {
          "output_type": "stream",
          "text": [
            "--2020-03-02 02:07:30--  https://raw.githubusercontent.com/PyThaiNLP/tutorials/master/source/notebooks/visualize.py\n",
            "Resolving raw.githubusercontent.com (raw.githubusercontent.com)... 151.101.0.133, 151.101.64.133, 151.101.128.133, ...\n",
            "Connecting to raw.githubusercontent.com (raw.githubusercontent.com)|151.101.0.133|:443... connected.\n",
            "HTTP request sent, awaiting response... 200 OK\n",
            "Length: 3924 (3.8K) [text/plain]\n",
            "Saving to: ‘visualize.py’\n",
            "\n",
            "\rvisualize.py          0%[                    ]       0  --.-KB/s               \rvisualize.py        100%[===================>]   3.83K  --.-KB/s    in 0s      \n",
            "\n",
            "2020-03-02 02:07:30 (110 MB/s) - ‘visualize.py’ saved [3924/3924]\n",
            "\n"
          ],
          "name": "stdout"
        }
      ]
    },
    {
      "cell_type": "code",
      "metadata": {
        "id": "wf5B5BpH5xMx",
        "colab_type": "code",
        "outputId": "95f5db0f-1eea-4f57-8cab-9e08af624ed9",
        "colab": {
          "base_uri": "https://localhost:8080/",
          "height": 254
        }
      },
      "source": [
        "#visualize texts\n",
        "from visualize import top_feats_all, plot_top_feats\n",
        "features = tfidf_fit.get_feature_names()\n",
        "%time ts = top_feats_all(text_train.toarray(), y_train, features)\n",
        "print(ts[0].shape)\n",
        "ts[0].head()"
      ],
      "execution_count": 17,
      "outputs": [
        {
          "output_type": "stream",
          "text": [
            "CPU times: user 651 ms, sys: 472 ms, total: 1.12 s\n",
            "Wall time: 1.12 s\n",
            "(4616, 5)\n"
          ],
          "name": "stdout"
        },
        {
          "output_type": "execute_result",
          "data": {
            "text/html": [
              "<div>\n",
              "<style scoped>\n",
              "    .dataframe tbody tr th:only-of-type {\n",
              "        vertical-align: middle;\n",
              "    }\n",
              "\n",
              "    .dataframe tbody tr th {\n",
              "        vertical-align: top;\n",
              "    }\n",
              "\n",
              "    .dataframe thead th {\n",
              "        text-align: right;\n",
              "    }\n",
              "</style>\n",
              "<table border=\"1\" class=\"dataframe\">\n",
              "  <thead>\n",
              "    <tr style=\"text-align: right;\">\n",
              "      <th></th>\n",
              "      <th>rank</th>\n",
              "      <th>feature</th>\n",
              "      <th>score</th>\n",
              "      <th>ngram</th>\n",
              "      <th>label</th>\n",
              "    </tr>\n",
              "  </thead>\n",
              "  <tbody>\n",
              "    <tr>\n",
              "      <th>0</th>\n",
              "      <td>0</td>\n",
              "      <td>ไม่</td>\n",
              "      <td>0.029993</td>\n",
              "      <td>1</td>\n",
              "      <td>neg</td>\n",
              "    </tr>\n",
              "    <tr>\n",
              "      <th>1</th>\n",
              "      <td>1</td>\n",
              "      <td>กิน</td>\n",
              "      <td>0.022852</td>\n",
              "      <td>1</td>\n",
              "      <td>neg</td>\n",
              "    </tr>\n",
              "    <tr>\n",
              "      <th>2</th>\n",
              "      <td>2</td>\n",
              "      <td>xxrep</td>\n",
              "      <td>0.020228</td>\n",
              "      <td>1</td>\n",
              "      <td>neg</td>\n",
              "    </tr>\n",
              "    <tr>\n",
              "      <th>3</th>\n",
              "      <td>3</td>\n",
              "      <td>เลย</td>\n",
              "      <td>0.019493</td>\n",
              "      <td>1</td>\n",
              "      <td>neg</td>\n",
              "    </tr>\n",
              "    <tr>\n",
              "      <th>4</th>\n",
              "      <td>4</td>\n",
              "      <td>แต่</td>\n",
              "      <td>0.018151</td>\n",
              "      <td>1</td>\n",
              "      <td>neg</td>\n",
              "    </tr>\n",
              "  </tbody>\n",
              "</table>\n",
              "</div>"
            ],
            "text/plain": [
              "   rank feature     score  ngram label\n",
              "0     0     ไม่  0.029993      1   neg\n",
              "1     1     กิน  0.022852      1   neg\n",
              "2     2   xxrep  0.020228      1   neg\n",
              "3     3     เลย  0.019493      1   neg\n",
              "4     4     แต่  0.018151      1   neg"
            ]
          },
          "metadata": {
            "tags": []
          },
          "execution_count": 17
        }
      ]
    },
    {
      "cell_type": "code",
      "metadata": {
        "id": "lt8rMD-D5xMz",
        "colab_type": "code",
        "outputId": "16179c2c-ef59-403a-877f-c474281d4c6f",
        "colab": {
          "base_uri": "https://localhost:8080/",
          "height": 1000
        }
      },
      "source": [
        "%time plot_top_feats(ts)"
      ],
      "execution_count": 18,
      "outputs": [
        {
          "output_type": "stream",
          "text": [
            "findfont: Font family ['TH Sarabun New'] not found. Falling back to DejaVu Sans.\n",
            "findfont: Font family ['TH Sarabun New'] not found. Falling back to DejaVu Sans.\n",
            "findfont: Font family ['TH Sarabun New'] not found. Falling back to DejaVu Sans.\n",
            "/usr/local/lib/python3.6/dist-packages/matplotlib/backends/backend_agg.py:211: RuntimeWarning: Glyph 3652 missing from current font.\n",
            "  font.set_text(s, 0.0, flags=flags)\n",
            "/usr/local/lib/python3.6/dist-packages/matplotlib/backends/backend_agg.py:211: RuntimeWarning: Glyph 3617 missing from current font.\n",
            "  font.set_text(s, 0.0, flags=flags)\n",
            "/usr/local/lib/python3.6/dist-packages/matplotlib/backends/backend_agg.py:211: RuntimeWarning: Glyph 3656 missing from current font.\n",
            "  font.set_text(s, 0.0, flags=flags)\n",
            "/usr/local/lib/python3.6/dist-packages/matplotlib/backends/backend_agg.py:211: RuntimeWarning: Glyph 3585 missing from current font.\n",
            "  font.set_text(s, 0.0, flags=flags)\n",
            "/usr/local/lib/python3.6/dist-packages/matplotlib/backends/backend_agg.py:211: RuntimeWarning: Glyph 3636 missing from current font.\n",
            "  font.set_text(s, 0.0, flags=flags)\n",
            "/usr/local/lib/python3.6/dist-packages/matplotlib/backends/backend_agg.py:211: RuntimeWarning: Glyph 3609 missing from current font.\n",
            "  font.set_text(s, 0.0, flags=flags)\n",
            "/usr/local/lib/python3.6/dist-packages/matplotlib/backends/backend_agg.py:211: RuntimeWarning: Glyph 3648 missing from current font.\n",
            "  font.set_text(s, 0.0, flags=flags)\n",
            "/usr/local/lib/python3.6/dist-packages/matplotlib/backends/backend_agg.py:211: RuntimeWarning: Glyph 3621 missing from current font.\n",
            "  font.set_text(s, 0.0, flags=flags)\n",
            "/usr/local/lib/python3.6/dist-packages/matplotlib/backends/backend_agg.py:211: RuntimeWarning: Glyph 3618 missing from current font.\n",
            "  font.set_text(s, 0.0, flags=flags)\n",
            "/usr/local/lib/python3.6/dist-packages/matplotlib/backends/backend_agg.py:211: RuntimeWarning: Glyph 3649 missing from current font.\n",
            "  font.set_text(s, 0.0, flags=flags)\n",
            "/usr/local/lib/python3.6/dist-packages/matplotlib/backends/backend_agg.py:211: RuntimeWarning: Glyph 3605 missing from current font.\n",
            "  font.set_text(s, 0.0, flags=flags)\n",
            "/usr/local/lib/python3.6/dist-packages/matplotlib/backends/backend_agg.py:211: RuntimeWarning: Glyph 3655 missing from current font.\n",
            "  font.set_text(s, 0.0, flags=flags)\n",
            "/usr/local/lib/python3.6/dist-packages/matplotlib/backends/backend_agg.py:211: RuntimeWarning: Glyph 3657 missing from current font.\n",
            "  font.set_text(s, 0.0, flags=flags)\n",
            "/usr/local/lib/python3.6/dist-packages/matplotlib/backends/backend_agg.py:211: RuntimeWarning: Glyph 3623 missing from current font.\n",
            "  font.set_text(s, 0.0, flags=flags)\n",
            "/usr/local/lib/python3.6/dist-packages/matplotlib/backends/backend_agg.py:211: RuntimeWarning: Glyph 3611 missing from current font.\n",
            "  font.set_text(s, 0.0, flags=flags)\n",
            "/usr/local/lib/python3.6/dist-packages/matplotlib/backends/backend_agg.py:211: RuntimeWarning: Glyph 3633 missing from current font.\n",
            "  font.set_text(s, 0.0, flags=flags)\n",
            "/usr/local/lib/python3.6/dist-packages/matplotlib/backends/backend_agg.py:211: RuntimeWarning: Glyph 3592 missing from current font.\n",
            "  font.set_text(s, 0.0, flags=flags)\n",
            "/usr/local/lib/python3.6/dist-packages/matplotlib/backends/backend_agg.py:211: RuntimeWarning: Glyph 3632 missing from current font.\n",
            "  font.set_text(s, 0.0, flags=flags)\n",
            "/usr/local/lib/python3.6/dist-packages/matplotlib/backends/backend_agg.py:211: RuntimeWarning: Glyph 3634 missing from current font.\n",
            "  font.set_text(s, 0.0, flags=flags)\n",
            "/usr/local/lib/python3.6/dist-packages/matplotlib/backends/backend_agg.py:211: RuntimeWarning: Glyph 3614 missing from current font.\n",
            "  font.set_text(s, 0.0, flags=flags)\n",
            "/usr/local/lib/python3.6/dist-packages/matplotlib/backends/backend_agg.py:211: RuntimeWarning: Glyph 3591 missing from current font.\n",
            "  font.set_text(s, 0.0, flags=flags)\n",
            "/usr/local/lib/python3.6/dist-packages/matplotlib/backends/backend_agg.py:211: RuntimeWarning: Glyph 3641 missing from current font.\n",
            "  font.set_text(s, 0.0, flags=flags)\n",
            "/usr/local/lib/python3.6/dist-packages/matplotlib/backends/backend_agg.py:211: RuntimeWarning: Glyph 3637 missing from current font.\n",
            "  font.set_text(s, 0.0, flags=flags)\n",
            "/usr/local/lib/python3.6/dist-packages/matplotlib/backends/backend_agg.py:211: RuntimeWarning: Glyph 3588 missing from current font.\n",
            "  font.set_text(s, 0.0, flags=flags)\n",
            "/usr/local/lib/python3.6/dist-packages/matplotlib/backends/backend_agg.py:211: RuntimeWarning: Glyph 3639 missing from current font.\n",
            "  font.set_text(s, 0.0, flags=flags)\n",
            "/usr/local/lib/python3.6/dist-packages/matplotlib/backends/backend_agg.py:211: RuntimeWarning: Glyph 3629 missing from current font.\n",
            "  font.set_text(s, 0.0, flags=flags)\n",
            "/usr/local/lib/python3.6/dist-packages/matplotlib/backends/backend_agg.py:211: RuntimeWarning: Glyph 3604 missing from current font.\n",
            "  font.set_text(s, 0.0, flags=flags)\n",
            "/usr/local/lib/python3.6/dist-packages/matplotlib/backends/backend_agg.py:211: RuntimeWarning: Glyph 3654 missing from current font.\n",
            "  font.set_text(s, 0.0, flags=flags)\n",
            "/usr/local/lib/python3.6/dist-packages/matplotlib/backends/backend_agg.py:180: RuntimeWarning: Glyph 3652 missing from current font.\n",
            "  font.set_text(s, 0, flags=flags)\n",
            "/usr/local/lib/python3.6/dist-packages/matplotlib/backends/backend_agg.py:180: RuntimeWarning: Glyph 3617 missing from current font.\n",
            "  font.set_text(s, 0, flags=flags)\n",
            "/usr/local/lib/python3.6/dist-packages/matplotlib/backends/backend_agg.py:180: RuntimeWarning: Glyph 3656 missing from current font.\n",
            "  font.set_text(s, 0, flags=flags)\n",
            "/usr/local/lib/python3.6/dist-packages/matplotlib/backends/backend_agg.py:180: RuntimeWarning: Glyph 3585 missing from current font.\n",
            "  font.set_text(s, 0, flags=flags)\n",
            "/usr/local/lib/python3.6/dist-packages/matplotlib/backends/backend_agg.py:180: RuntimeWarning: Glyph 3636 missing from current font.\n",
            "  font.set_text(s, 0, flags=flags)\n",
            "/usr/local/lib/python3.6/dist-packages/matplotlib/backends/backend_agg.py:180: RuntimeWarning: Glyph 3609 missing from current font.\n",
            "  font.set_text(s, 0, flags=flags)\n",
            "/usr/local/lib/python3.6/dist-packages/matplotlib/backends/backend_agg.py:180: RuntimeWarning: Glyph 3648 missing from current font.\n",
            "  font.set_text(s, 0, flags=flags)\n",
            "/usr/local/lib/python3.6/dist-packages/matplotlib/backends/backend_agg.py:180: RuntimeWarning: Glyph 3621 missing from current font.\n",
            "  font.set_text(s, 0, flags=flags)\n",
            "/usr/local/lib/python3.6/dist-packages/matplotlib/backends/backend_agg.py:180: RuntimeWarning: Glyph 3618 missing from current font.\n",
            "  font.set_text(s, 0, flags=flags)\n",
            "/usr/local/lib/python3.6/dist-packages/matplotlib/backends/backend_agg.py:180: RuntimeWarning: Glyph 3649 missing from current font.\n",
            "  font.set_text(s, 0, flags=flags)\n",
            "/usr/local/lib/python3.6/dist-packages/matplotlib/backends/backend_agg.py:180: RuntimeWarning: Glyph 3605 missing from current font.\n",
            "  font.set_text(s, 0, flags=flags)\n",
            "/usr/local/lib/python3.6/dist-packages/matplotlib/backends/backend_agg.py:180: RuntimeWarning: Glyph 3655 missing from current font.\n",
            "  font.set_text(s, 0, flags=flags)\n",
            "/usr/local/lib/python3.6/dist-packages/matplotlib/backends/backend_agg.py:180: RuntimeWarning: Glyph 3657 missing from current font.\n",
            "  font.set_text(s, 0, flags=flags)\n",
            "/usr/local/lib/python3.6/dist-packages/matplotlib/backends/backend_agg.py:180: RuntimeWarning: Glyph 3623 missing from current font.\n",
            "  font.set_text(s, 0, flags=flags)\n",
            "/usr/local/lib/python3.6/dist-packages/matplotlib/backends/backend_agg.py:180: RuntimeWarning: Glyph 3611 missing from current font.\n",
            "  font.set_text(s, 0, flags=flags)\n",
            "/usr/local/lib/python3.6/dist-packages/matplotlib/backends/backend_agg.py:180: RuntimeWarning: Glyph 3633 missing from current font.\n",
            "  font.set_text(s, 0, flags=flags)\n",
            "/usr/local/lib/python3.6/dist-packages/matplotlib/backends/backend_agg.py:180: RuntimeWarning: Glyph 3592 missing from current font.\n",
            "  font.set_text(s, 0, flags=flags)\n",
            "/usr/local/lib/python3.6/dist-packages/matplotlib/backends/backend_agg.py:180: RuntimeWarning: Glyph 3632 missing from current font.\n",
            "  font.set_text(s, 0, flags=flags)\n",
            "/usr/local/lib/python3.6/dist-packages/matplotlib/backends/backend_agg.py:180: RuntimeWarning: Glyph 3634 missing from current font.\n",
            "  font.set_text(s, 0, flags=flags)\n",
            "/usr/local/lib/python3.6/dist-packages/matplotlib/backends/backend_agg.py:180: RuntimeWarning: Glyph 3614 missing from current font.\n",
            "  font.set_text(s, 0, flags=flags)\n",
            "/usr/local/lib/python3.6/dist-packages/matplotlib/backends/backend_agg.py:180: RuntimeWarning: Glyph 3591 missing from current font.\n",
            "  font.set_text(s, 0, flags=flags)\n",
            "/usr/local/lib/python3.6/dist-packages/matplotlib/backends/backend_agg.py:180: RuntimeWarning: Glyph 3641 missing from current font.\n",
            "  font.set_text(s, 0, flags=flags)\n",
            "/usr/local/lib/python3.6/dist-packages/matplotlib/backends/backend_agg.py:180: RuntimeWarning: Glyph 3637 missing from current font.\n",
            "  font.set_text(s, 0, flags=flags)\n",
            "/usr/local/lib/python3.6/dist-packages/matplotlib/backends/backend_agg.py:180: RuntimeWarning: Glyph 3588 missing from current font.\n",
            "  font.set_text(s, 0, flags=flags)\n",
            "/usr/local/lib/python3.6/dist-packages/matplotlib/backends/backend_agg.py:180: RuntimeWarning: Glyph 3639 missing from current font.\n",
            "  font.set_text(s, 0, flags=flags)\n",
            "/usr/local/lib/python3.6/dist-packages/matplotlib/backends/backend_agg.py:180: RuntimeWarning: Glyph 3629 missing from current font.\n",
            "  font.set_text(s, 0, flags=flags)\n",
            "/usr/local/lib/python3.6/dist-packages/matplotlib/backends/backend_agg.py:180: RuntimeWarning: Glyph 3604 missing from current font.\n",
            "  font.set_text(s, 0, flags=flags)\n",
            "/usr/local/lib/python3.6/dist-packages/matplotlib/backends/backend_agg.py:176: RuntimeWarning: Glyph 3654 missing from current font.\n",
            "  font.load_char(ord(s), flags=flags)\n",
            "/usr/local/lib/python3.6/dist-packages/matplotlib/backends/backend_agg.py:211: RuntimeWarning: Glyph 3619 missing from current font.\n",
            "  font.set_text(s, 0.0, flags=flags)\n",
            "/usr/local/lib/python3.6/dist-packages/matplotlib/backends/backend_agg.py:211: RuntimeWarning: Glyph 3610 missing from current font.\n",
            "  font.set_text(s, 0.0, flags=flags)\n",
            "/usr/local/lib/python3.6/dist-packages/matplotlib/backends/backend_agg.py:211: RuntimeWarning: Glyph 3607 missing from current font.\n",
            "  font.set_text(s, 0.0, flags=flags)\n",
            "/usr/local/lib/python3.6/dist-packages/matplotlib/backends/backend_agg.py:211: RuntimeWarning: Glyph 3660 missing from current font.\n",
            "  font.set_text(s, 0.0, flags=flags)\n",
            "/usr/local/lib/python3.6/dist-packages/matplotlib/backends/backend_agg.py:211: RuntimeWarning: Glyph 3594 missing from current font.\n",
            "  font.set_text(s, 0.0, flags=flags)\n",
            "/usr/local/lib/python3.6/dist-packages/matplotlib/backends/backend_agg.py:211: RuntimeWarning: Glyph 3627 missing from current font.\n",
            "  font.set_text(s, 0.0, flags=flags)\n",
            "/usr/local/lib/python3.6/dist-packages/matplotlib/backends/backend_agg.py:211: RuntimeWarning: Glyph 3651 missing from current font.\n",
            "  font.set_text(s, 0.0, flags=flags)\n",
            "/usr/local/lib/python3.6/dist-packages/matplotlib/backends/backend_agg.py:180: RuntimeWarning: Glyph 3619 missing from current font.\n",
            "  font.set_text(s, 0, flags=flags)\n",
            "/usr/local/lib/python3.6/dist-packages/matplotlib/backends/backend_agg.py:180: RuntimeWarning: Glyph 3610 missing from current font.\n",
            "  font.set_text(s, 0, flags=flags)\n",
            "/usr/local/lib/python3.6/dist-packages/matplotlib/backends/backend_agg.py:180: RuntimeWarning: Glyph 3607 missing from current font.\n",
            "  font.set_text(s, 0, flags=flags)\n",
            "/usr/local/lib/python3.6/dist-packages/matplotlib/backends/backend_agg.py:180: RuntimeWarning: Glyph 3660 missing from current font.\n",
            "  font.set_text(s, 0, flags=flags)\n",
            "/usr/local/lib/python3.6/dist-packages/matplotlib/backends/backend_agg.py:180: RuntimeWarning: Glyph 3594 missing from current font.\n",
            "  font.set_text(s, 0, flags=flags)\n",
            "/usr/local/lib/python3.6/dist-packages/matplotlib/backends/backend_agg.py:180: RuntimeWarning: Glyph 3627 missing from current font.\n",
            "  font.set_text(s, 0, flags=flags)\n",
            "/usr/local/lib/python3.6/dist-packages/matplotlib/backends/backend_agg.py:180: RuntimeWarning: Glyph 3651 missing from current font.\n",
            "  font.set_text(s, 0, flags=flags)\n",
            "/usr/local/lib/python3.6/dist-packages/matplotlib/backends/backend_agg.py:211: RuntimeWarning: Glyph 3586 missing from current font.\n",
            "  font.set_text(s, 0.0, flags=flags)\n",
            "/usr/local/lib/python3.6/dist-packages/matplotlib/backends/backend_agg.py:211: RuntimeWarning: Glyph 3626 missing from current font.\n",
            "  font.set_text(s, 0.0, flags=flags)\n",
            "/usr/local/lib/python3.6/dist-packages/matplotlib/backends/backend_agg.py:180: RuntimeWarning: Glyph 3586 missing from current font.\n",
            "  font.set_text(s, 0, flags=flags)\n",
            "/usr/local/lib/python3.6/dist-packages/matplotlib/backends/backend_agg.py:180: RuntimeWarning: Glyph 3626 missing from current font.\n",
            "  font.set_text(s, 0, flags=flags)\n"
          ],
          "name": "stderr"
        },
        {
          "output_type": "display_data",
          "data": {
            "image/png": "[encoded data removed]",
            "text/plain": [
              "<Figure size 864x648 with 4 Axes>"
            ]
          },
          "metadata": {
            "tags": []
          }
        },
        {
          "output_type": "stream",
          "text": [
            "CPU times: user 1.22 s, sys: 49.1 ms, total: 1.27 s\n",
            "Wall time: 1.28 s\n"
          ],
          "name": "stdout"
        }
      ]
    },
    {
      "cell_type": "code",
      "metadata": {
        "colab_type": "code",
        "id": "7MnvOFdC6z5v",
        "outputId": "a80b5dc6-7973-4be4-8ab6-1be4945f5f03",
        "colab": {
          "base_uri": "https://localhost:8080/",
          "height": 51
        }
      },
      "source": [
        "#word count and unique word counts; actually might not be so useful\n",
        "from sklearn.preprocessing import StandardScaler\n",
        "\n",
        "scaler = StandardScaler()\n",
        "scaler_fit = scaler.fit(all_df[[\"wc\",\"uwc\"]].astype(float))\n",
        "print(scaler_fit.mean_, scaler_fit.var_)\n",
        "num_train = scaler_fit.transform(train_df[[\"wc\",\"uwc\"]].astype(float))\n",
        "num_valid = scaler_fit.transform(valid_df[[\"wc\",\"uwc\"]].astype(float))\n",
        "num_test = scaler_fit.transform(test_df[[\"wc\",\"uwc\"]].astype(float))\n",
        "num_train.shape, num_valid.shape"
      ],
      "execution_count": 0,
      "outputs": [
        {
          "output_type": "stream",
          "text": [
            "[21.96529942 18.22744462] [1151.47512883  513.46009207]\n"
          ],
          "name": "stdout"
        },
        {
          "output_type": "execute_result",
          "data": {
            "text/plain": [
              "((20453, 2), (3610, 2))"
            ]
          },
          "metadata": {
            "tags": []
          },
          "execution_count": 73
        }
      ]
    },
    {
      "cell_type": "code",
      "metadata": {
        "colab_type": "code",
        "id": "bj5PA95S6z5w",
        "outputId": "925ecd72-0444-48d0-baa9-1e724d0242f5",
        "colab": {
          "base_uri": "https://localhost:8080/",
          "height": 34
        }
      },
      "source": [
        "#concatenate text and word count features\n",
        "X_train = np.concatenate([num_train,text_train.toarray()],axis=1)\n",
        "X_valid = np.concatenate([num_valid,text_valid.toarray()],axis=1)\n",
        "X_test = np.concatenate([num_test,text_test.toarray()],axis=1)\n",
        "X_train.shape, X_valid.shape"
      ],
      "execution_count": 0,
      "outputs": [
        {
          "output_type": "execute_result",
          "data": {
            "text/plain": [
              "((20453, 4616), (3610, 4616))"
            ]
          },
          "metadata": {
            "tags": []
          },
          "execution_count": 74
        }
      ]
    },
    {
      "cell_type": "markdown",
      "metadata": {
        "colab_type": "text",
        "id": "W4prkGZr6z5y"
      },
      "source": [
        "### Fit Model"
      ]
    },
    {
      "cell_type": "code",
      "metadata": {
        "colab_type": "code",
        "id": "_2IKPcUL6z5z",
        "outputId": "b8e58817-b2ad-440c-9eee-d20e5468a557",
        "colab": {
          "base_uri": "https://localhost:8080/",
          "height": 34
        }
      },
      "source": [
        "#fit logistic regression models\n",
        "model = LogisticRegression(C=2., penalty=\"l2\", solver=\"liblinear\", dual=False, multi_class=\"ovr\")\n",
        "model.fit(X_train,y_train)\n",
        "model.score(X_valid,y_valid)"
      ],
      "execution_count": 0,
      "outputs": [
        {
          "output_type": "execute_result",
          "data": {
            "text/plain": [
              "0.7324099722991689"
            ]
          },
          "metadata": {
            "tags": []
          },
          "execution_count": 75
        }
      ]
    },
    {
      "cell_type": "markdown",
      "metadata": {
        "colab_type": "text",
        "id": "jFGtgFHF6z51"
      },
      "source": [
        "### See Results"
      ]
    },
    {
      "cell_type": "code",
      "metadata": {
        "colab_type": "code",
        "id": "7cub1c5S6z51",
        "colab": {}
      },
      "source": [
        "probs = model.predict_proba(X_valid)\n",
        "probs_df = pd.DataFrame(probs)\n",
        "probs_df.columns = model.classes_\n",
        "probs_df[\"preds\"] = model.predict(X_valid)\n",
        "probs_df[\"category\"] = valid_df.category\n",
        "probs_df[\"texts\"] = valid_df.texts\n",
        "probs_df[\"processed\"] = valid_df.processed\n",
        "probs_df[\"wc\"] = valid_df.wc\n",
        "probs_df[\"uwc\"] = valid_df.uwc\n",
        "probs_df[\"hit\"] = (probs_df.preds==probs_df.category)\n",
        "probs_df.to_csv(\"probs_df_linear.csv\", index=False)"
      ],
      "execution_count": 0,
      "outputs": []
    },
    {
      "cell_type": "code",
      "metadata": {
        "colab_type": "code",
        "id": "pa4Q0nPS6z54",
        "outputId": "3e392b32-54c6-4fda-e819-af43e9ba0fd7",
        "colab": {
          "base_uri": "https://localhost:8080/",
          "height": 300
        }
      },
      "source": [
        "from sklearn.metrics import confusion_matrix\n",
        "\n",
        "conf_mat = confusion_matrix(probs_df.category,probs_df.preds)\n",
        "print(model.score(X_valid,y_valid))\n",
        "sns.heatmap(conf_mat, annot=True, fmt=\"d\",\n",
        "            xticklabels=model.classes_, yticklabels=model.classes_)\n",
        "plt.ylabel(\"Actual\")\n",
        "plt.xlabel(\"Predicted\")\n",
        "plt.show()"
      ],
      "execution_count": 0,
      "outputs": [
        {
          "output_type": "stream",
          "text": [
            "0.7324099722991689\n"
          ],
          "name": "stdout"
        },
        {
          "output_type": "display_data",
          "data": {
            "image/png": "[encoded data removed]",
            "text/plain": [
              "<Figure size 432x288 with 2 Axes>"
            ]
          },
          "metadata": {
            "tags": [],
            "needs_background": "light"
          }
        }
      ]
    },
    {
      "cell_type": "markdown",
      "metadata": {
        "colab_type": "text",
        "id": "KIfXHEVn6z58"
      },
      "source": [
        "## [ULMFit](https://github.com/cstorm125/thai2fit) Model"
      ]
    },
    {
      "cell_type": "code",
      "metadata": {
        "colab_type": "code",
        "id": "xPQoEbfC6z58",
        "colab": {}
      },
      "source": [
        "from fastai.text import *\n",
        "from fastai.callbacks import CSVLogger, SaveModelCallback\n",
        "from pythainlp.ulmfit import *\n",
        "\n",
        "model_path = \"wisesight_data/\"\n",
        "all_df = pd.read_csv(\"all_df.csv\")\n",
        "train_df, valid_df = train_test_split(all_df, test_size=0.15, random_state=1412)"
      ],
      "execution_count": 0,
      "outputs": []
    },
    {
      "cell_type": "markdown",
      "metadata": {
        "colab_type": "text",
        "id": "RIUQEyb96z5-"
      },
      "source": [
        "### Finetune Language Model"
      ]
    },
    {
      "cell_type": "code",
      "metadata": {
        "colab_type": "code",
        "id": "XGpprjbp6z5_",
        "colab": {}
      },
      "source": [
        "tt = Tokenizer(tok_func=ThaiTokenizer, lang=\"th\", pre_rules=pre_rules_th, post_rules=post_rules_th)\n",
        "processor = [TokenizeProcessor(tokenizer=tt, chunksize=10000, mark_fields=False),\n",
        "            NumericalizeProcessor(vocab=None, max_vocab=60000, min_freq=2)]\n",
        "\n",
        "data_lm = (TextList.from_df(all_df, model_path, cols=\"texts\", processor=processor)\n",
        "    .split_by_rand_pct(valid_pct = 0.01, seed = 1412)\n",
        "    .label_for_lm()\n",
        "    .databunch(bs=48))\n",
        "data_lm.sanity_check()\n",
        "data_lm.save('wisesight_lm.pkl')"
      ],
      "execution_count": 0,
      "outputs": []
    },
    {
      "cell_type": "code",
      "metadata": {
        "colab_type": "code",
        "id": "8GiTvaHX6z6A",
        "outputId": "4ca15151-7db8-4bc8-d035-ddcbfc3383e1",
        "colab": {
          "base_uri": "https://localhost:8080/",
          "height": 34
        }
      },
      "source": [
        "data_lm.sanity_check()\n",
        "len(data_lm.train_ds), len(data_lm.valid_ds)"
      ],
      "execution_count": 0,
      "outputs": [
        {
          "output_type": "execute_result",
          "data": {
            "text/plain": [
              "(23823, 240)"
            ]
          },
          "metadata": {
            "tags": []
          },
          "execution_count": 32
        }
      ]
    },
    {
      "cell_type": "code",
      "metadata": {
        "colab_type": "code",
        "id": "Bm7PYDIC6z6E",
        "outputId": "f768001e-09ee-4572-ea48-ac9e38e7296a",
        "colab": {
          "base_uri": "https://localhost:8080/",
          "height": 1000
        }
      },
      "source": [
        "config = dict(emb_sz=400, n_hid=1550, n_layers=4, pad_token=1, qrnn=False, tie_weights=True, out_bias=True,\n",
        "             output_p=0.25, hidden_p=0.1, input_p=0.2, embed_p=0.02, weight_p=0.15)\n",
        "trn_args = dict(drop_mult=1., clip=0.12, alpha=2, beta=1)\n",
        "\n",
        "learn = language_model_learner(data_lm, AWD_LSTM, config=config, pretrained=False, **trn_args)\n",
        "\n",
        "#load pretrained models\n",
        "learn.load_pretrained(**_THWIKI_LSTM)"
      ],
      "execution_count": 0,
      "outputs": [
        {
          "output_type": "execute_result",
          "data": {
            "text/plain": [
              "LanguageLearner(data=TextLMDataBunch;\n",
              "\n",
              "Train: LabelList (23823 items)\n",
              "x: LMTextList\n",
              "xxbos   ประเทศ เรา ผลิต และ ส่งออก ยาสูบ เยอะ สุด ใน โลก จิง ป่าว คับ,xxbos   คะ,xxbos   อิ เหี้ย ออม ทำ กู อยาก กิน เอ็ม เค,xxbos   xxwrep 2 😅,xxbos   สวัสดี วัน พุธ   แนน   อะไร นะ\n",
              "y: LMLabelList\n",
              ",,,,\n",
              "Path: wisesight_data;\n",
              "\n",
              "Valid: LabelList (240 items)\n",
              "x: LMTextList\n",
              "xxbos   เห็น คน ลบ แอ พ   viu   ก็ เห็นใจ และ เข้าใจ เขา นะคะ   แผล มัน ยัง ใหม่ แถม อารมณ์ ยิ่ง โดน xxunk ง่าย อยู่ นี่ เนอะ 5   xxrep   7   ส่วน ทาง นี้ ก็ กอด   netflix   แน่น มาก   เธอ อย่า ทำร้าย เรา นะ   เรา รู้ เธอ ไม่ ทำร้าย เรา แน่นอน,xxbos   ไป ชม ไม้ คิว ของ แชมป์   และ รอง แชมป์   กัน จ้า !   .   xxrep   32   เก็บตก จาก การแข่งขัน   แสงโสม   สนุกเกอร์   6   แดง   โอเพ่น   ประจำปี   2560   สนาม ที่   2   ณ   มัง กี้   สนุกเกอร์   คลับ   ซอย โชค ชัย   4   ลาดพร้าว   เมื่อ วันที่   12   ต.ค. 60,xxbos   กลุ่ม รถ ซีวิค เป็น กลุ่ม ที่ น่า รำ คาน มาก   xxrep   9   อวด รถ กัน ได้ ทุก วินาที   อวด ทำไม มึง ก็ ใช้ รถ เหมือนกัน ทุกคน   ละ ก็ พวก xxunk ที่ บอ กว่า อวด รถ แต่ ถ่าย นม ตัวเอง ชัด ละ รถ เบลอ นี่ คือ ?   xxrep   5  ,xxbos   อยาก สวย เหมือน เจ้าของ แบรนด์ สิ คะ   เนย   โชติ กา   ใบหน้า สวย   ใส xxunk   แม้ แต่งหน้า   นี่ ขนาด เป็น คุณแม่ แล้ว นะเนี่ย ก็ ยัง สวย ไม่ xxunk   ผ่าน ไป กี่ ปี ๆ ก็ ไม่ เปลี่ยน   ผิว ดี๊ ดี   ความ สวย . เรา สร้าง เอง ได้ ด้วยตัวเอง   ถ้า ได้ ใช้ มาส ์กโช   ต้อง สวย เหมือน โชติ กา แน่นอน ค่ะ   #   มาส ์กโช สวย ข้ามคืน   #   cho _ cosmetics   #   daradaily   #   ดารา เดลี่,xxbos   ข้าว โถ ละ ร้อย   แพง   เพราะ ตัก เป็น จาน ๆ ละ 15   เต็มที่ ก็ 5 จาน   คนไทย ต้อง กินข้าว ประเทศ xxunk ข้าว   กินข้าว ในประเทศ ตัวเอง หม้อ เป็น ร้อย เป็นลม ดีกว่า ค่า ฉะ xxunk ถุง 5 โล ไม่ เกิน 200 เป็น ข้าว มะลิ   ไก่ นี่ ไม่รู้ ว่า เป็นตัว หรือเปล่า   แต่ ถ้า ตัว ละ 250 บาท แพง   ไก่ย่าง ขาย 140 - 160   มี เยอะแยะ ยัง ได้ กำไร   แพง สุด ไม่ ควร xxunk 200   ข้าวผัด ปู จาน ใหญ่   300 ร้อย แพง   ถ้า ผัด เป็น จาน ๆ ละ 50 ผัด 4 จาน ก็ เต็ม ถาด ใหญ่ แล้ว   ส่วน เครื่อง ดืม ด้านบน อะไร 80 ถ้า เป็น ชาเย็น แพง มาก   น้ำ ดืม ขวด ใหญ่ ขวด ละ 50 แพง   บ้าน เรา เมืองร้อน อย่า เห็นแก่ตัว 30 ก็ พอแล้ว   คน ต้อง ซื้อ เยอะ   เบียร์ ช้าง ขวด ละ 120   กำไร xxunk น่าเกลียด มา 3 ขวด 360 แพง   xxunk ขวด ใหญ่ ก็ แพง   แต่ น้ำแข็ง พอได้ เพราะ อากาศ บ้าน เรา ร้อน ละลาย ง่าย อันนี้ พอ เข้าใจ คน ขาย   แต่ ทะเล เผา ทะเล ลวก ไม่เห็น หน้าตา ว่า มี อะไร บ้าง ก็ กุ้ง หมึก ปู xxunk 300   ตัว กลางๆ ใส่ มา อย่าง 5 ตัว ปู สัก ตัว   กำไร xxunk   ตำ ทะเล ตำ กุ้ง สด 150 ไม่ แพง   กุ้ง ชุ ป แป้ง ทอด แพง มาก ๆ   ต้มยำ หม้อ ละ 300 ร้อย ถือว่า แพง มาก   เพราะ มัน ใส่ ได้ ไม่ เยอะ หรอก   มันดี ตรง ที่ มี น้ำ กับ ไฟ อุ่น ร้อน   ของ กินใน บ้าน ยัง แทบ แตะ ไม่ได้   ทั้งที่ ป ระ ก็ xxunk   คน ในประเทศ ยัง กิน ไม่ อิม ส่งออก นอก พอ มี น้อย เหลือ น้อย   ก็ ขาย ให้ กัน แพง ๆ   ระบบ แย่ เอาเปรียบ กันเอง   ที่ บ้าน ขาย อาหาร กับข้าว ตาม สั่ง ป รุ่ง สุก ใหม่   แค่ จาน ละ 100 - 150   คน ยัง ว่า แพง ทั้งที่ บอ กว่า อร่อย   ถ้า ไป เจอ แบบนี้ สงสัย ช็อค ตาย คา ร้าน เลย มัง   ถ้า ต้อง ไป เจอ ทั้ง แพง ทั้ง ไม่อร่อย สัก แต่ ทำ ขาย   ใคร ว่า ไม่ แพง ยินดี ด้วย ที่ คุณ เป็น คน มี ตัง   แต่ เรา มอง จาก ค่าแรง กลางๆ ของ คน ในประเทศ นะ   ซึ่ง ส่วนมาก คนใน ประเทศไทย ได้ แต่ ค่าแรงขั้นต่ำ กับ เบี้ย ขยัน เล็กน้อย   คนจน เยอะ กว่า คนรวย ด้วย   ทำ อะไร ต้อง นึกถึง ความ สมควร   นึกถึง กันและกัน   แต่ เรา ไม่ใช่ คน xxunk   ชอบ มอง และ คิด จาก ความเป็นจริง   ถึง ขาย ให้ ชาวต่างชาติ ก็ เถอะ   เหมือน คนไทย เอาเปรียบ ช่วย โอกาส และ ไม่ ค่อย xxunk\n",
              "y: LMLabelList\n",
              ",,,,\n",
              "Path: wisesight_data;\n",
              "\n",
              "Test: None, model=SequentialRNN(\n",
              "  (0): AWD_LSTM(\n",
              "    (encoder): Embedding(15000, 400, padding_idx=1)\n",
              "    (encoder_dp): EmbeddingDropout(\n",
              "      (emb): Embedding(15000, 400, padding_idx=1)\n",
              "    )\n",
              "    (rnns): ModuleList(\n",
              "      (0): WeightDropout(\n",
              "        (module): LSTM(400, 1550, batch_first=True)\n",
              "      )\n",
              "      (1): WeightDropout(\n",
              "        (module): LSTM(1550, 1550, batch_first=True)\n",
              "      )\n",
              "      (2): WeightDropout(\n",
              "        (module): LSTM(1550, 1550, batch_first=True)\n",
              "      )\n",
              "      (3): WeightDropout(\n",
              "        (module): LSTM(1550, 400, batch_first=True)\n",
              "      )\n",
              "    )\n",
              "    (input_dp): RNNDropout()\n",
              "    (hidden_dps): ModuleList(\n",
              "      (0): RNNDropout()\n",
              "      (1): RNNDropout()\n",
              "      (2): RNNDropout()\n",
              "      (3): RNNDropout()\n",
              "    )\n",
              "  )\n",
              "  (1): LinearDecoder(\n",
              "    (decoder): Linear(in_features=400, out_features=15000, bias=True)\n",
              "    (output_dp): RNNDropout()\n",
              "  )\n",
              "), opt_func=functools.partial(<class 'torch.optim.adam.Adam'>, betas=(0.9, 0.99)), loss_func=FlattenedLoss of CrossEntropyLoss(), metrics=[<function accuracy at 0x7f51be568268>], true_wd=True, bn_wd=True, wd=0.01, train_bn=True, path=PosixPath('wisesight_data'), model_dir='models', callback_fns=[functools.partial(<class 'fastai.basic_train.Recorder'>, add_time=True, silent=False), functools.partial(<class 'fastai.train.GradientClipping'>, clip=0.12)], callbacks=[RNNTrainer\n",
              "learn: LanguageLearner(data=TextLMDataBunch;\n",
              "\n",
              "Train: LabelList (23823 items)\n",
              "x: LMTextList\n",
              "xxbos   ประเทศ เรา ผลิต และ ส่งออก ยาสูบ เยอะ สุด ใน โลก จิง ป่าว คับ,xxbos   คะ,xxbos   อิ เหี้ย ออม ทำ กู อยาก กิน เอ็ม เค,xxbos   xxwrep 2 😅,xxbos   สวัสดี วัน พุธ   แนน   อะไร นะ\n",
              "y: LMLabelList\n",
              ",,,,\n",
              "Path: wisesight_data;\n",
              "\n",
              "Valid: LabelList (240 items)\n",
              "x: LMTextList\n",
              "xxbos   เห็น คน ลบ แอ พ   viu   ก็ เห็นใจ และ เข้าใจ เขา นะคะ   แผล มัน ยัง ใหม่ แถม อารมณ์ ยิ่ง โดน xxunk ง่าย อยู่ นี่ เนอะ 5   xxrep   7   ส่วน ทาง นี้ ก็ กอด   netflix   แน่น มาก   เธอ อย่า ทำร้าย เรา นะ   เรา รู้ เธอ ไม่ ทำร้าย เรา แน่นอน,xxbos   ไป ชม ไม้ คิว ของ แชมป์   และ รอง แชมป์   กัน จ้า !   .   xxrep   32   เก็บตก จาก การแข่งขัน   แสงโสม   สนุกเกอร์   6   แดง   โอเพ่น   ประจำปี   2560   สนาม ที่   2   ณ   มัง กี้   สนุกเกอร์   คลับ   ซอย โชค ชัย   4   ลาดพร้าว   เมื่อ วันที่   12   ต.ค. 60,xxbos   กลุ่ม รถ ซีวิค เป็น กลุ่ม ที่ น่า รำ คาน มาก   xxrep   9   อวด รถ กัน ได้ ทุก วินาที   อวด ทำไม มึง ก็ ใช้ รถ เหมือนกัน ทุกคน   ละ ก็ พวก xxunk ที่ บอ กว่า อวด รถ แต่ ถ่าย นม ตัวเอง ชัด ละ รถ เบลอ นี่ คือ ?   xxrep   5  ,xxbos   อยาก สวย เหมือน เจ้าของ แบรนด์ สิ คะ   เนย   โชติ กา   ใบหน้า สวย   ใส xxunk   แม้ แต่งหน้า   นี่ ขนาด เป็น คุณแม่ แล้ว นะเนี่ย ก็ ยัง สวย ไม่ xxunk   ผ่าน ไป กี่ ปี ๆ ก็ ไม่ เปลี่ยน   ผิว ดี๊ ดี   ความ สวย . เรา สร้าง เอง ได้ ด้วยตัวเอง   ถ้า ได้ ใช้ มาส ์กโช   ต้อง สวย เหมือน โชติ กา แน่นอน ค่ะ   #   มาส ์กโช สวย ข้ามคืน   #   cho _ cosmetics   #   daradaily   #   ดารา เดลี่,xxbos   ข้าว โถ ละ ร้อย   แพง   เพราะ ตัก เป็น จาน ๆ ละ 15   เต็มที่ ก็ 5 จาน   คนไทย ต้อง กินข้าว ประเทศ xxunk ข้าว   กินข้าว ในประเทศ ตัวเอง หม้อ เป็น ร้อย เป็นลม ดีกว่า ค่า ฉะ xxunk ถุง 5 โล ไม่ เกิน 200 เป็น ข้าว มะลิ   ไก่ นี่ ไม่รู้ ว่า เป็นตัว หรือเปล่า   แต่ ถ้า ตัว ละ 250 บาท แพง   ไก่ย่าง ขาย 140 - 160   มี เยอะแยะ ยัง ได้ กำไร   แพง สุด ไม่ ควร xxunk 200   ข้าวผัด ปู จาน ใหญ่   300 ร้อย แพง   ถ้า ผัด เป็น จาน ๆ ละ 50 ผัด 4 จาน ก็ เต็ม ถาด ใหญ่ แล้ว   ส่วน เครื่อง ดืม ด้านบน อะไร 80 ถ้า เป็น ชาเย็น แพง มาก   น้ำ ดืม ขวด ใหญ่ ขวด ละ 50 แพง   บ้าน เรา เมืองร้อน อย่า เห็นแก่ตัว 30 ก็ พอแล้ว   คน ต้อง ซื้อ เยอะ   เบียร์ ช้าง ขวด ละ 120   กำไร xxunk น่าเกลียด มา 3 ขวด 360 แพง   xxunk ขวด ใหญ่ ก็ แพง   แต่ น้ำแข็ง พอได้ เพราะ อากาศ บ้าน เรา ร้อน ละลาย ง่าย อันนี้ พอ เข้าใจ คน ขาย   แต่ ทะเล เผา ทะเล ลวก ไม่เห็น หน้าตา ว่า มี อะไร บ้าง ก็ กุ้ง หมึก ปู xxunk 300   ตัว กลางๆ ใส่ มา อย่าง 5 ตัว ปู สัก ตัว   กำไร xxunk   ตำ ทะเล ตำ กุ้ง สด 150 ไม่ แพง   กุ้ง ชุ ป แป้ง ทอด แพง มาก ๆ   ต้มยำ หม้อ ละ 300 ร้อย ถือว่า แพง มาก   เพราะ มัน ใส่ ได้ ไม่ เยอะ หรอก   มันดี ตรง ที่ มี น้ำ กับ ไฟ อุ่น ร้อน   ของ กินใน บ้าน ยัง แทบ แตะ ไม่ได้   ทั้งที่ ป ระ ก็ xxunk   คน ในประเทศ ยัง กิน ไม่ อิม ส่งออก นอก พอ มี น้อย เหลือ น้อย   ก็ ขาย ให้ กัน แพง ๆ   ระบบ แย่ เอาเปรียบ กันเอง   ที่ บ้าน ขาย อาหาร กับข้าว ตาม สั่ง ป รุ่ง สุก ใหม่   แค่ จาน ละ 100 - 150   คน ยัง ว่า แพง ทั้งที่ บอ กว่า อร่อย   ถ้า ไป เจอ แบบนี้ สงสัย ช็อค ตาย คา ร้าน เลย มัง   ถ้า ต้อง ไป เจอ ทั้ง แพง ทั้ง ไม่อร่อย สัก แต่ ทำ ขาย   ใคร ว่า ไม่ แพง ยินดี ด้วย ที่ คุณ เป็น คน มี ตัง   แต่ เรา มอง จาก ค่าแรง กลางๆ ของ คน ในประเทศ นะ   ซึ่ง ส่วนมาก คนใน ประเทศไทย ได้ แต่ ค่าแรงขั้นต่ำ กับ เบี้ย ขยัน เล็กน้อย   คนจน เยอะ กว่า คนรวย ด้วย   ทำ อะไร ต้อง นึกถึง ความ สมควร   นึกถึง กันและกัน   แต่ เรา ไม่ใช่ คน xxunk   ชอบ มอง และ คิด จาก ความเป็นจริง   ถึง ขาย ให้ ชาวต่างชาติ ก็ เถอะ   เหมือน คนไทย เอาเปรียบ ช่วย โอกาส และ ไม่ ค่อย xxunk\n",
              "y: LMLabelList\n",
              ",,,,\n",
              "Path: wisesight_data;\n",
              "\n",
              "Test: None, model=SequentialRNN(\n",
              "  (0): AWD_LSTM(\n",
              "    (encoder): Embedding(15000, 400, padding_idx=1)\n",
              "    (encoder_dp): EmbeddingDropout(\n",
              "      (emb): Embedding(15000, 400, padding_idx=1)\n",
              "    )\n",
              "    (rnns): ModuleList(\n",
              "      (0): WeightDropout(\n",
              "        (module): LSTM(400, 1550, batch_first=True)\n",
              "      )\n",
              "      (1): WeightDropout(\n",
              "        (module): LSTM(1550, 1550, batch_first=True)\n",
              "      )\n",
              "      (2): WeightDropout(\n",
              "        (module): LSTM(1550, 1550, batch_first=True)\n",
              "      )\n",
              "      (3): WeightDropout(\n",
              "        (module): LSTM(1550, 400, batch_first=True)\n",
              "      )\n",
              "    )\n",
              "    (input_dp): RNNDropout()\n",
              "    (hidden_dps): ModuleList(\n",
              "      (0): RNNDropout()\n",
              "      (1): RNNDropout()\n",
              "      (2): RNNDropout()\n",
              "      (3): RNNDropout()\n",
              "    )\n",
              "  )\n",
              "  (1): LinearDecoder(\n",
              "    (decoder): Linear(in_features=400, out_features=15000, bias=True)\n",
              "    (output_dp): RNNDropout()\n",
              "  )\n",
              "), opt_func=functools.partial(<class 'torch.optim.adam.Adam'>, betas=(0.9, 0.99)), loss_func=FlattenedLoss of CrossEntropyLoss(), metrics=[<function accuracy at 0x7f51be568268>], true_wd=True, bn_wd=True, wd=0.01, train_bn=True, path=PosixPath('wisesight_data'), model_dir='models', callback_fns=[functools.partial(<class 'fastai.basic_train.Recorder'>, add_time=True, silent=False), functools.partial(<class 'fastai.train.GradientClipping'>, clip=0.12)], callbacks=[...], layer_groups=[Sequential(\n",
              "  (0): WeightDropout(\n",
              "    (module): LSTM(400, 1550, batch_first=True)\n",
              "  )\n",
              "  (1): RNNDropout()\n",
              "), Sequential(\n",
              "  (0): WeightDropout(\n",
              "    (module): LSTM(1550, 1550, batch_first=True)\n",
              "  )\n",
              "  (1): RNNDropout()\n",
              "), Sequential(\n",
              "  (0): WeightDropout(\n",
              "    (module): LSTM(1550, 1550, batch_first=True)\n",
              "  )\n",
              "  (1): RNNDropout()\n",
              "), Sequential(\n",
              "  (0): WeightDropout(\n",
              "    (module): LSTM(1550, 400, batch_first=True)\n",
              "  )\n",
              "  (1): RNNDropout()\n",
              "), Sequential(\n",
              "  (0): Embedding(15000, 400, padding_idx=1)\n",
              "  (1): EmbeddingDropout(\n",
              "    (emb): Embedding(15000, 400, padding_idx=1)\n",
              "  )\n",
              "  (2): LinearDecoder(\n",
              "    (decoder): Linear(in_features=400, out_features=15000, bias=True)\n",
              "    (output_dp): RNNDropout()\n",
              "  )\n",
              ")], add_time=True, silent=False, cb_fns_registered=False)\n",
              "alpha: 2\n",
              "beta: 1], layer_groups=[Sequential(\n",
              "  (0): WeightDropout(\n",
              "    (module): LSTM(400, 1550, batch_first=True)\n",
              "  )\n",
              "  (1): RNNDropout()\n",
              "), Sequential(\n",
              "  (0): WeightDropout(\n",
              "    (module): LSTM(1550, 1550, batch_first=True)\n",
              "  )\n",
              "  (1): RNNDropout()\n",
              "), Sequential(\n",
              "  (0): WeightDropout(\n",
              "    (module): LSTM(1550, 1550, batch_first=True)\n",
              "  )\n",
              "  (1): RNNDropout()\n",
              "), Sequential(\n",
              "  (0): WeightDropout(\n",
              "    (module): LSTM(1550, 400, batch_first=True)\n",
              "  )\n",
              "  (1): RNNDropout()\n",
              "), Sequential(\n",
              "  (0): Embedding(15000, 400, padding_idx=1)\n",
              "  (1): EmbeddingDropout(\n",
              "    (emb): Embedding(15000, 400, padding_idx=1)\n",
              "  )\n",
              "  (2): LinearDecoder(\n",
              "    (decoder): Linear(in_features=400, out_features=15000, bias=True)\n",
              "    (output_dp): RNNDropout()\n",
              "  )\n",
              ")], add_time=True, silent=False, cb_fns_registered=False)"
            ]
          },
          "metadata": {
            "tags": []
          },
          "execution_count": 33
        }
      ]
    },
    {
      "cell_type": "code",
      "metadata": {
        "colab_type": "code",
        "id": "uJK68vJT6z6G",
        "outputId": "9bde3724-568f-4630-afb7-df40b3aff0d4",
        "colab": {
          "base_uri": "https://localhost:8080/",
          "height": 97
        }
      },
      "source": [
        "#train frozen\n",
        "print(\"training frozen\")\n",
        "learn.freeze_to(-1)\n",
        "learn.fit_one_cycle(1, 1e-2, moms=(0.8, 0.7))"
      ],
      "execution_count": 0,
      "outputs": [
        {
          "output_type": "stream",
          "text": [
            "training frozen\n"
          ],
          "name": "stdout"
        },
        {
          "output_type": "display_data",
          "data": {
            "text/html": [
              "<table border=\"1\" class=\"dataframe\">\n",
              "  <thead>\n",
              "    <tr style=\"text-align: left;\">\n",
              "      <th>epoch</th>\n",
              "      <th>train_loss</th>\n",
              "      <th>valid_loss</th>\n",
              "      <th>accuracy</th>\n",
              "      <th>time</th>\n",
              "    </tr>\n",
              "  </thead>\n",
              "  <tbody>\n",
              "    <tr>\n",
              "      <td>0</td>\n",
              "      <td>4.841187</td>\n",
              "      <td>4.462714</td>\n",
              "      <td>0.319742</td>\n",
              "      <td>02:47</td>\n",
              "    </tr>\n",
              "  </tbody>\n",
              "</table>"
            ],
            "text/plain": [
              "<IPython.core.display.HTML object>"
            ]
          },
          "metadata": {
            "tags": []
          }
        }
      ]
    },
    {
      "cell_type": "code",
      "metadata": {
        "colab_type": "code",
        "id": "axooWmsg6z6I",
        "outputId": "819107f9-5d37-49ef-dac6-7cde4204656b",
        "colab": {
          "base_uri": "https://localhost:8080/",
          "height": 221
        }
      },
      "source": [
        "#train unfrozen\n",
        "print(\"training unfrozen\")\n",
        "learn.unfreeze()\n",
        "learn.fit_one_cycle(5, 1e-3, moms=(0.8, 0.7))"
      ],
      "execution_count": 0,
      "outputs": [
        {
          "output_type": "stream",
          "text": [
            "training unfrozen\n"
          ],
          "name": "stdout"
        },
        {
          "output_type": "display_data",
          "data": {
            "text/html": [
              "<table border=\"1\" class=\"dataframe\">\n",
              "  <thead>\n",
              "    <tr style=\"text-align: left;\">\n",
              "      <th>epoch</th>\n",
              "      <th>train_loss</th>\n",
              "      <th>valid_loss</th>\n",
              "      <th>accuracy</th>\n",
              "      <th>time</th>\n",
              "    </tr>\n",
              "  </thead>\n",
              "  <tbody>\n",
              "    <tr>\n",
              "      <td>0</td>\n",
              "      <td>4.411834</td>\n",
              "      <td>4.205552</td>\n",
              "      <td>0.341766</td>\n",
              "      <td>03:31</td>\n",
              "    </tr>\n",
              "    <tr>\n",
              "      <td>1</td>\n",
              "      <td>4.178030</td>\n",
              "      <td>4.037095</td>\n",
              "      <td>0.361508</td>\n",
              "      <td>03:31</td>\n",
              "    </tr>\n",
              "    <tr>\n",
              "      <td>2</td>\n",
              "      <td>3.970388</td>\n",
              "      <td>3.930919</td>\n",
              "      <td>0.370139</td>\n",
              "      <td>03:31</td>\n",
              "    </tr>\n",
              "    <tr>\n",
              "      <td>3</td>\n",
              "      <td>3.756190</td>\n",
              "      <td>3.890398</td>\n",
              "      <td>0.376191</td>\n",
              "      <td>03:31</td>\n",
              "    </tr>\n",
              "    <tr>\n",
              "      <td>4</td>\n",
              "      <td>3.671704</td>\n",
              "      <td>3.890232</td>\n",
              "      <td>0.375595</td>\n",
              "      <td>03:31</td>\n",
              "    </tr>\n",
              "  </tbody>\n",
              "</table>"
            ],
            "text/plain": [
              "<IPython.core.display.HTML object>"
            ]
          },
          "metadata": {
            "tags": []
          }
        }
      ]
    },
    {
      "cell_type": "code",
      "metadata": {
        "colab_type": "code",
        "id": "OZC4BGnB6z6L",
        "colab": {}
      },
      "source": [
        "# learn.save('wisesight_lm')\n",
        "learn.save_encoder(\"wisesight_enc\")"
      ],
      "execution_count": 0,
      "outputs": []
    },
    {
      "cell_type": "markdown",
      "metadata": {
        "colab_type": "text",
        "id": "hTTQ76Ls6z6N"
      },
      "source": [
        "### Train Text Classifier"
      ]
    },
    {
      "cell_type": "code",
      "metadata": {
        "colab_type": "code",
        "id": "A2Z09Mf26z6N",
        "outputId": "27cfec82-23e3-4e0b-dd0d-7b4ba855e646",
        "colab": {
          "base_uri": "https://localhost:8080/",
          "height": 34
        }
      },
      "source": [
        "#lm data\n",
        "data_lm = load_data(model_path, \"wisesight_lm.pkl\")\n",
        "data_lm.sanity_check()\n",
        "\n",
        "#classification data\n",
        "tt = Tokenizer(tok_func=ThaiTokenizer, lang=\"th\", pre_rules=pre_rules_th, post_rules=post_rules_th)\n",
        "processor = [TokenizeProcessor(tokenizer=tt, chunksize=10000, mark_fields=False),\n",
        "            NumericalizeProcessor(vocab=data_lm.vocab, max_vocab=60000, min_freq=20)]\n",
        "\n",
        "data_cls = (ItemLists(model_path,train=TextList.from_df(train_df, model_path, cols=[\"texts\"], processor=processor),\n",
        "                     valid=TextList.from_df(valid_df, model_path, cols=[\"texts\"], processor=processor))\n",
        "    .label_from_df(\"category\")\n",
        "    .databunch(bs=50)\n",
        "    )\n",
        "data_cls.sanity_check()\n",
        "print(len(data_cls.vocab.itos))"
      ],
      "execution_count": 0,
      "outputs": [
        {
          "output_type": "stream",
          "text": [
            "15000\n"
          ],
          "name": "stdout"
        }
      ]
    },
    {
      "cell_type": "code",
      "metadata": {
        "colab_type": "code",
        "id": "RjRFWx8-6z6P",
        "outputId": "76a4bb55-a3cd-4d51-d5fc-6c2fec878573",
        "colab": {
          "base_uri": "https://localhost:8080/",
          "height": 1000
        }
      },
      "source": [
        "#model\n",
        "config = dict(emb_sz=400, n_hid=1550, n_layers=4, pad_token=1, qrnn=False,\n",
        "             output_p=0.4, hidden_p=0.2, input_p=0.6, embed_p=0.1, weight_p=0.5)\n",
        "trn_args = dict(bptt=70, drop_mult=0.7, alpha=2, beta=1, max_len=500)\n",
        "\n",
        "learn = text_classifier_learner(data_cls, AWD_LSTM, config=config, pretrained=False, **trn_args)\n",
        "#load pretrained finetuned model\n",
        "learn.load_encoder(\"wisesight_enc\")"
      ],
      "execution_count": 0,
      "outputs": [
        {
          "output_type": "execute_result",
          "data": {
            "text/plain": [
              "RNNLearner(data=TextClasDataBunch;\n",
              "\n",
              "Train: LabelList (20453 items)\n",
              "x: TextList\n",
              "xxbos   กันแดด คิว เพลส ตัวใหม่ นี่ คุม มัน ดีจริง อ่ะ   นี่ หน้า มัน   ยิ่ง ที โซน ยิ่ง มัน เยอะ   นีเวีย หลอด ยาว ๆ ฝา เขียว ก็ เอา ไม่อยู่ อ่ะ   แล้ว xxunk,xxbos   พบ กับ การ ร่วม ตัว ของ ศิลปิน   soul   pop   สาม ยุค   สาม สไตล์   ใน งาน   jamnight   อะไร ก็ช่าง xxunk   ( ชุ่ย )   นำ ทีม โดย   soul   after   six ,   the   parkinson   และ   the   xxup toys   งาน นี้ นอกจาก จะ ได้ ดู โชว์ แบบ เต็ม รูปแบบ จาก ทั้ง สาม วง แล้ว   ยัง มี โชว์ สุด พิเศษ ที่ ทั้ง สาม จะ ร่วม แจม กัน ด้วย   ไม่ อยาก ให้ พลาด   เจอกัน วันที่   29   กันยายน นี้ ที่ ช่าง ชุ่ย   ประตู เปิด   19.00   น. เป็นต้นไป   สามารถ ซื้อ บัตร ได้ แล้ว ที่   event   pop :   http :   /   /   go . eventpop . me   /   jamnight   * จำกัด ผู้ ที่ มีอายุ   20   ปี ขึ้นไป   #   jamnightbyjameson   #   jamesonthailand   #   soulaftersix   #   theparkinson   #   thetoys,xxbos   👌 🏻 👌 🏻 👌 🏻 xxwrep 2 😆,xxbos   จ - ศ   แถม ถึง   29   ไม่ทัน มะ ว้า   xxrep   4  ,xxbos   ใช้ ดี ค่ะ   บอกต่อ   คือ เป็น คน แพ้ ง่าย มาก กก   ใช้ กา นิ เย หรือ พอน ก็ แพ้   แต่ ใช้ ครีม แตงโม แล้ว คือ ดี   สิว ลด   กันน้ำ ค่ะ   นี้ ใช้ ไป เล่น สงกรานต์ มา   รอด ค่ะ 555   เล่อ ค่า   xxrep   5  \n",
              "y: CategoryList\n",
              "neg,neu,neu,neu,neg\n",
              "Path: wisesight_data;\n",
              "\n",
              "Valid: LabelList (3610 items)\n",
              "x: TextList\n",
              "xxbos   เห็น คน ลบ แอ พ   viu   ก็ เห็นใจ และ เข้าใจ เขา นะคะ   แผล มัน ยัง ใหม่ แถม อารมณ์ ยิ่ง โดน xxunk ง่าย อยู่ นี่ เนอะ 5   xxrep   7   ส่วน ทาง นี้ ก็ กอด   netflix   แน่น มาก   เธอ อย่า ทำร้าย เรา นะ   เรา รู้ เธอ ไม่ ทำร้าย เรา แน่นอน,xxbos   ไป ชม ไม้ คิว ของ แชมป์   และ รอง แชมป์   กัน จ้า !   .   xxrep   32   เก็บตก จาก การแข่งขัน   แสงโสม   สนุกเกอร์   6   แดง   โอเพ่น   ประจำปี   2560   สนาม ที่   2   ณ   มัง กี้   สนุกเกอร์   คลับ   ซอย โชค ชัย   4   ลาดพร้าว   เมื่อ วันที่   12   ต.ค. 60,xxbos   กลุ่ม รถ ซีวิค เป็น กลุ่ม ที่ น่า รำ คาน มาก   xxrep   9   อวด รถ กัน ได้ ทุก วินาที   อวด ทำไม มึง ก็ ใช้ รถ เหมือนกัน ทุกคน   ละ ก็ พวก xxunk ที่ บอ กว่า อวด รถ แต่ ถ่าย นม ตัวเอง ชัด ละ รถ เบลอ นี่ คือ ?   xxrep   5  ,xxbos   อยาก สวย เหมือน เจ้าของ แบรนด์ สิ คะ   เนย   โชติ กา   ใบหน้า สวย   ใส xxunk   แม้ แต่งหน้า   นี่ ขนาด เป็น คุณแม่ แล้ว นะเนี่ย ก็ ยัง สวย ไม่ xxunk   ผ่าน ไป กี่ ปี ๆ ก็ ไม่ เปลี่ยน   ผิว ดี๊ ดี   ความ สวย . เรา สร้าง เอง ได้ ด้วยตัวเอง   ถ้า ได้ ใช้ มาส ์กโช   ต้อง สวย เหมือน โชติ กา แน่นอน ค่ะ   #   มาส ์กโช สวย ข้ามคืน   #   cho _ cosmetics   #   daradaily   #   ดารา เดลี่,xxbos   ข้าว โถ ละ ร้อย   แพง   เพราะ ตัก เป็น จาน ๆ ละ 15   เต็มที่ ก็ 5 จาน   คนไทย ต้อง กินข้าว ประเทศ xxunk ข้าว   กินข้าว ในประเทศ ตัวเอง หม้อ เป็น ร้อย เป็นลม ดีกว่า ค่า ฉะ xxunk ถุง 5 โล ไม่ เกิน 200 เป็น ข้าว มะลิ   ไก่ นี่ ไม่รู้ ว่า เป็นตัว หรือเปล่า   แต่ ถ้า ตัว ละ 250 บาท แพง   ไก่ย่าง ขาย 140 - 160   มี เยอะแยะ ยัง ได้ กำไร   แพง สุด ไม่ ควร xxunk 200   ข้าวผัด ปู จาน ใหญ่   300 ร้อย แพง   ถ้า ผัด เป็น จาน ๆ ละ 50 ผัด 4 จาน ก็ เต็ม ถาด ใหญ่ แล้ว   ส่วน เครื่อง ดืม ด้านบน อะไร 80 ถ้า เป็น ชาเย็น แพง มาก   น้ำ ดืม ขวด ใหญ่ ขวด ละ 50 แพง   บ้าน เรา เมืองร้อน อย่า เห็นแก่ตัว 30 ก็ พอแล้ว   คน ต้อง ซื้อ เยอะ   เบียร์ ช้าง ขวด ละ 120   กำไร xxunk น่าเกลียด มา 3 ขวด 360 แพง   xxunk ขวด ใหญ่ ก็ แพง   แต่ น้ำแข็ง พอได้ เพราะ อากาศ บ้าน เรา ร้อน ละลาย ง่าย อันนี้ พอ เข้าใจ คน ขาย   แต่ ทะเล เผา ทะเล ลวก ไม่เห็น หน้าตา ว่า มี อะไร บ้าง ก็ กุ้ง หมึก ปู xxunk 300   ตัว กลางๆ ใส่ มา อย่าง 5 ตัว ปู สัก ตัว   กำไร xxunk   ตำ ทะเล ตำ กุ้ง สด 150 ไม่ แพง   กุ้ง ชุ ป แป้ง ทอด แพง มาก ๆ   ต้มยำ หม้อ ละ 300 ร้อย ถือว่า แพง มาก   เพราะ มัน ใส่ ได้ ไม่ เยอะ หรอก   มันดี ตรง ที่ มี น้ำ กับ ไฟ อุ่น ร้อน   ของ กินใน บ้าน ยัง แทบ แตะ ไม่ได้   ทั้งที่ ป ระ ก็ xxunk   คน ในประเทศ ยัง กิน ไม่ อิม ส่งออก นอก พอ มี น้อย เหลือ น้อย   ก็ ขาย ให้ กัน แพง ๆ   ระบบ แย่ เอาเปรียบ กันเอง   ที่ บ้าน ขาย อาหาร กับข้าว ตาม สั่ง ป รุ่ง สุก ใหม่   แค่ จาน ละ 100 - 150   คน ยัง ว่า แพง ทั้งที่ บอ กว่า อร่อย   ถ้า ไป เจอ แบบนี้ สงสัย ช็อค ตาย คา ร้าน เลย มัง   ถ้า ต้อง ไป เจอ ทั้ง แพง ทั้ง ไม่อร่อย สัก แต่ ทำ ขาย   ใคร ว่า ไม่ แพง ยินดี ด้วย ที่ คุณ เป็น คน มี ตัง   แต่ เรา มอง จาก ค่าแรง กลางๆ ของ คน ในประเทศ นะ   ซึ่ง ส่วนมาก คนใน ประเทศไทย ได้ แต่ ค่าแรงขั้นต่ำ กับ เบี้ย ขยัน เล็กน้อย   คนจน เยอะ กว่า คนรวย ด้วย   ทำ อะไร ต้อง นึกถึง ความ สมควร   นึกถึง กันและกัน   แต่ เรา ไม่ใช่ คน xxunk   ชอบ มอง และ คิด จาก ความเป็นจริง   ถึง ขาย ให้ ชาวต่างชาติ ก็ เถอะ   เหมือน คนไทย เอาเปรียบ ช่วย โอกาส และ ไม่ ค่อย xxunk\n",
              "y: CategoryList\n",
              "neu,neu,neg,neu,neg\n",
              "Path: wisesight_data;\n",
              "\n",
              "Test: None, model=SequentialRNN(\n",
              "  (0): MultiBatchEncoder(\n",
              "    (module): AWD_LSTM(\n",
              "      (encoder): Embedding(15000, 400, padding_idx=1)\n",
              "      (encoder_dp): EmbeddingDropout(\n",
              "        (emb): Embedding(15000, 400, padding_idx=1)\n",
              "      )\n",
              "      (rnns): ModuleList(\n",
              "        (0): WeightDropout(\n",
              "          (module): LSTM(400, 1550, batch_first=True)\n",
              "        )\n",
              "        (1): WeightDropout(\n",
              "          (module): LSTM(1550, 1550, batch_first=True)\n",
              "        )\n",
              "        (2): WeightDropout(\n",
              "          (module): LSTM(1550, 1550, batch_first=True)\n",
              "        )\n",
              "        (3): WeightDropout(\n",
              "          (module): LSTM(1550, 400, batch_first=True)\n",
              "        )\n",
              "      )\n",
              "      (input_dp): RNNDropout()\n",
              "      (hidden_dps): ModuleList(\n",
              "        (0): RNNDropout()\n",
              "        (1): RNNDropout()\n",
              "        (2): RNNDropout()\n",
              "        (3): RNNDropout()\n",
              "      )\n",
              "    )\n",
              "  )\n",
              "  (1): PoolingLinearClassifier(\n",
              "    (layers): Sequential(\n",
              "      (0): BatchNorm1d(1200, eps=1e-05, momentum=0.1, affine=True, track_running_stats=True)\n",
              "      (1): Dropout(p=0.27999999999999997)\n",
              "      (2): Linear(in_features=1200, out_features=50, bias=True)\n",
              "      (3): ReLU(inplace)\n",
              "      (4): BatchNorm1d(50, eps=1e-05, momentum=0.1, affine=True, track_running_stats=True)\n",
              "      (5): Dropout(p=0.1)\n",
              "      (6): Linear(in_features=50, out_features=4, bias=True)\n",
              "    )\n",
              "  )\n",
              "), opt_func=functools.partial(<class 'torch.optim.adam.Adam'>, betas=(0.9, 0.99)), loss_func=FlattenedLoss of CrossEntropyLoss(), metrics=[<function accuracy at 0x7f51be568268>], true_wd=True, bn_wd=True, wd=0.01, train_bn=True, path=PosixPath('wisesight_data'), model_dir='models', callback_fns=[functools.partial(<class 'fastai.basic_train.Recorder'>, add_time=True, silent=False)], callbacks=[RNNTrainer\n",
              "learn: RNNLearner(data=TextClasDataBunch;\n",
              "\n",
              "Train: LabelList (20453 items)\n",
              "x: TextList\n",
              "xxbos   กันแดด คิว เพลส ตัวใหม่ นี่ คุม มัน ดีจริง อ่ะ   นี่ หน้า มัน   ยิ่ง ที โซน ยิ่ง มัน เยอะ   นีเวีย หลอด ยาว ๆ ฝา เขียว ก็ เอา ไม่อยู่ อ่ะ   แล้ว xxunk,xxbos   พบ กับ การ ร่วม ตัว ของ ศิลปิน   soul   pop   สาม ยุค   สาม สไตล์   ใน งาน   jamnight   อะไร ก็ช่าง xxunk   ( ชุ่ย )   นำ ทีม โดย   soul   after   six ,   the   parkinson   และ   the   xxup toys   งาน นี้ นอกจาก จะ ได้ ดู โชว์ แบบ เต็ม รูปแบบ จาก ทั้ง สาม วง แล้ว   ยัง มี โชว์ สุด พิเศษ ที่ ทั้ง สาม จะ ร่วม แจม กัน ด้วย   ไม่ อยาก ให้ พลาด   เจอกัน วันที่   29   กันยายน นี้ ที่ ช่าง ชุ่ย   ประตู เปิด   19.00   น. เป็นต้นไป   สามารถ ซื้อ บัตร ได้ แล้ว ที่   event   pop :   http :   /   /   go . eventpop . me   /   jamnight   * จำกัด ผู้ ที่ มีอายุ   20   ปี ขึ้นไป   #   jamnightbyjameson   #   jamesonthailand   #   soulaftersix   #   theparkinson   #   thetoys,xxbos   👌 🏻 👌 🏻 👌 🏻 xxwrep 2 😆,xxbos   จ - ศ   แถม ถึง   29   ไม่ทัน มะ ว้า   xxrep   4  ,xxbos   ใช้ ดี ค่ะ   บอกต่อ   คือ เป็น คน แพ้ ง่าย มาก กก   ใช้ กา นิ เย หรือ พอน ก็ แพ้   แต่ ใช้ ครีม แตงโม แล้ว คือ ดี   สิว ลด   กันน้ำ ค่ะ   นี้ ใช้ ไป เล่น สงกรานต์ มา   รอด ค่ะ 555   เล่อ ค่า   xxrep   5  \n",
              "y: CategoryList\n",
              "neg,neu,neu,neu,neg\n",
              "Path: wisesight_data;\n",
              "\n",
              "Valid: LabelList (3610 items)\n",
              "x: TextList\n",
              "xxbos   เห็น คน ลบ แอ พ   viu   ก็ เห็นใจ และ เข้าใจ เขา นะคะ   แผล มัน ยัง ใหม่ แถม อารมณ์ ยิ่ง โดน xxunk ง่าย อยู่ นี่ เนอะ 5   xxrep   7   ส่วน ทาง นี้ ก็ กอด   netflix   แน่น มาก   เธอ อย่า ทำร้าย เรา นะ   เรา รู้ เธอ ไม่ ทำร้าย เรา แน่นอน,xxbos   ไป ชม ไม้ คิว ของ แชมป์   และ รอง แชมป์   กัน จ้า !   .   xxrep   32   เก็บตก จาก การแข่งขัน   แสงโสม   สนุกเกอร์   6   แดง   โอเพ่น   ประจำปี   2560   สนาม ที่   2   ณ   มัง กี้   สนุกเกอร์   คลับ   ซอย โชค ชัย   4   ลาดพร้าว   เมื่อ วันที่   12   ต.ค. 60,xxbos   กลุ่ม รถ ซีวิค เป็น กลุ่ม ที่ น่า รำ คาน มาก   xxrep   9   อวด รถ กัน ได้ ทุก วินาที   อวด ทำไม มึง ก็ ใช้ รถ เหมือนกัน ทุกคน   ละ ก็ พวก xxunk ที่ บอ กว่า อวด รถ แต่ ถ่าย นม ตัวเอง ชัด ละ รถ เบลอ นี่ คือ ?   xxrep   5  ,xxbos   อยาก สวย เหมือน เจ้าของ แบรนด์ สิ คะ   เนย   โชติ กา   ใบหน้า สวย   ใส xxunk   แม้ แต่งหน้า   นี่ ขนาด เป็น คุณแม่ แล้ว นะเนี่ย ก็ ยัง สวย ไม่ xxunk   ผ่าน ไป กี่ ปี ๆ ก็ ไม่ เปลี่ยน   ผิว ดี๊ ดี   ความ สวย . เรา สร้าง เอง ได้ ด้วยตัวเอง   ถ้า ได้ ใช้ มาส ์กโช   ต้อง สวย เหมือน โชติ กา แน่นอน ค่ะ   #   มาส ์กโช สวย ข้ามคืน   #   cho _ cosmetics   #   daradaily   #   ดารา เดลี่,xxbos   ข้าว โถ ละ ร้อย   แพง   เพราะ ตัก เป็น จาน ๆ ละ 15   เต็มที่ ก็ 5 จาน   คนไทย ต้อง กินข้าว ประเทศ xxunk ข้าว   กินข้าว ในประเทศ ตัวเอง หม้อ เป็น ร้อย เป็นลม ดีกว่า ค่า ฉะ xxunk ถุง 5 โล ไม่ เกิน 200 เป็น ข้าว มะลิ   ไก่ นี่ ไม่รู้ ว่า เป็นตัว หรือเปล่า   แต่ ถ้า ตัว ละ 250 บาท แพง   ไก่ย่าง ขาย 140 - 160   มี เยอะแยะ ยัง ได้ กำไร   แพง สุด ไม่ ควร xxunk 200   ข้าวผัด ปู จาน ใหญ่   300 ร้อย แพง   ถ้า ผัด เป็น จาน ๆ ละ 50 ผัด 4 จาน ก็ เต็ม ถาด ใหญ่ แล้ว   ส่วน เครื่อง ดืม ด้านบน อะไร 80 ถ้า เป็น ชาเย็น แพง มาก   น้ำ ดืม ขวด ใหญ่ ขวด ละ 50 แพง   บ้าน เรา เมืองร้อน อย่า เห็นแก่ตัว 30 ก็ พอแล้ว   คน ต้อง ซื้อ เยอะ   เบียร์ ช้าง ขวด ละ 120   กำไร xxunk น่าเกลียด มา 3 ขวด 360 แพง   xxunk ขวด ใหญ่ ก็ แพง   แต่ น้ำแข็ง พอได้ เพราะ อากาศ บ้าน เรา ร้อน ละลาย ง่าย อันนี้ พอ เข้าใจ คน ขาย   แต่ ทะเล เผา ทะเล ลวก ไม่เห็น หน้าตา ว่า มี อะไร บ้าง ก็ กุ้ง หมึก ปู xxunk 300   ตัว กลางๆ ใส่ มา อย่าง 5 ตัว ปู สัก ตัว   กำไร xxunk   ตำ ทะเล ตำ กุ้ง สด 150 ไม่ แพง   กุ้ง ชุ ป แป้ง ทอด แพง มาก ๆ   ต้มยำ หม้อ ละ 300 ร้อย ถือว่า แพง มาก   เพราะ มัน ใส่ ได้ ไม่ เยอะ หรอก   มันดี ตรง ที่ มี น้ำ กับ ไฟ อุ่น ร้อน   ของ กินใน บ้าน ยัง แทบ แตะ ไม่ได้   ทั้งที่ ป ระ ก็ xxunk   คน ในประเทศ ยัง กิน ไม่ อิม ส่งออก นอก พอ มี น้อย เหลือ น้อย   ก็ ขาย ให้ กัน แพง ๆ   ระบบ แย่ เอาเปรียบ กันเอง   ที่ บ้าน ขาย อาหาร กับข้าว ตาม สั่ง ป รุ่ง สุก ใหม่   แค่ จาน ละ 100 - 150   คน ยัง ว่า แพง ทั้งที่ บอ กว่า อร่อย   ถ้า ไป เจอ แบบนี้ สงสัย ช็อค ตาย คา ร้าน เลย มัง   ถ้า ต้อง ไป เจอ ทั้ง แพง ทั้ง ไม่อร่อย สัก แต่ ทำ ขาย   ใคร ว่า ไม่ แพง ยินดี ด้วย ที่ คุณ เป็น คน มี ตัง   แต่ เรา มอง จาก ค่าแรง กลางๆ ของ คน ในประเทศ นะ   ซึ่ง ส่วนมาก คนใน ประเทศไทย ได้ แต่ ค่าแรงขั้นต่ำ กับ เบี้ย ขยัน เล็กน้อย   คนจน เยอะ กว่า คนรวย ด้วย   ทำ อะไร ต้อง นึกถึง ความ สมควร   นึกถึง กันและกัน   แต่ เรา ไม่ใช่ คน xxunk   ชอบ มอง และ คิด จาก ความเป็นจริง   ถึง ขาย ให้ ชาวต่างชาติ ก็ เถอะ   เหมือน คนไทย เอาเปรียบ ช่วย โอกาส และ ไม่ ค่อย xxunk\n",
              "y: CategoryList\n",
              "neu,neu,neg,neu,neg\n",
              "Path: wisesight_data;\n",
              "\n",
              "Test: None, model=SequentialRNN(\n",
              "  (0): MultiBatchEncoder(\n",
              "    (module): AWD_LSTM(\n",
              "      (encoder): Embedding(15000, 400, padding_idx=1)\n",
              "      (encoder_dp): EmbeddingDropout(\n",
              "        (emb): Embedding(15000, 400, padding_idx=1)\n",
              "      )\n",
              "      (rnns): ModuleList(\n",
              "        (0): WeightDropout(\n",
              "          (module): LSTM(400, 1550, batch_first=True)\n",
              "        )\n",
              "        (1): WeightDropout(\n",
              "          (module): LSTM(1550, 1550, batch_first=True)\n",
              "        )\n",
              "        (2): WeightDropout(\n",
              "          (module): LSTM(1550, 1550, batch_first=True)\n",
              "        )\n",
              "        (3): WeightDropout(\n",
              "          (module): LSTM(1550, 400, batch_first=True)\n",
              "        )\n",
              "      )\n",
              "      (input_dp): RNNDropout()\n",
              "      (hidden_dps): ModuleList(\n",
              "        (0): RNNDropout()\n",
              "        (1): RNNDropout()\n",
              "        (2): RNNDropout()\n",
              "        (3): RNNDropout()\n",
              "      )\n",
              "    )\n",
              "  )\n",
              "  (1): PoolingLinearClassifier(\n",
              "    (layers): Sequential(\n",
              "      (0): BatchNorm1d(1200, eps=1e-05, momentum=0.1, affine=True, track_running_stats=True)\n",
              "      (1): Dropout(p=0.27999999999999997)\n",
              "      (2): Linear(in_features=1200, out_features=50, bias=True)\n",
              "      (3): ReLU(inplace)\n",
              "      (4): BatchNorm1d(50, eps=1e-05, momentum=0.1, affine=True, track_running_stats=True)\n",
              "      (5): Dropout(p=0.1)\n",
              "      (6): Linear(in_features=50, out_features=4, bias=True)\n",
              "    )\n",
              "  )\n",
              "), opt_func=functools.partial(<class 'torch.optim.adam.Adam'>, betas=(0.9, 0.99)), loss_func=FlattenedLoss of CrossEntropyLoss(), metrics=[<function accuracy at 0x7f51be568268>], true_wd=True, bn_wd=True, wd=0.01, train_bn=True, path=PosixPath('wisesight_data'), model_dir='models', callback_fns=[functools.partial(<class 'fastai.basic_train.Recorder'>, add_time=True, silent=False)], callbacks=[...], layer_groups=[Sequential(\n",
              "  (0): Embedding(15000, 400, padding_idx=1)\n",
              "  (1): EmbeddingDropout(\n",
              "    (emb): Embedding(15000, 400, padding_idx=1)\n",
              "  )\n",
              "), Sequential(\n",
              "  (0): WeightDropout(\n",
              "    (module): LSTM(400, 1550, batch_first=True)\n",
              "  )\n",
              "  (1): RNNDropout()\n",
              "), Sequential(\n",
              "  (0): WeightDropout(\n",
              "    (module): LSTM(1550, 1550, batch_first=True)\n",
              "  )\n",
              "  (1): RNNDropout()\n",
              "), Sequential(\n",
              "  (0): WeightDropout(\n",
              "    (module): LSTM(1550, 1550, batch_first=True)\n",
              "  )\n",
              "  (1): RNNDropout()\n",
              "), Sequential(\n",
              "  (0): WeightDropout(\n",
              "    (module): LSTM(1550, 400, batch_first=True)\n",
              "  )\n",
              "  (1): RNNDropout()\n",
              "), Sequential(\n",
              "  (0): PoolingLinearClassifier(\n",
              "    (layers): Sequential(\n",
              "      (0): BatchNorm1d(1200, eps=1e-05, momentum=0.1, affine=True, track_running_stats=True)\n",
              "      (1): Dropout(p=0.27999999999999997)\n",
              "      (2): Linear(in_features=1200, out_features=50, bias=True)\n",
              "      (3): ReLU(inplace)\n",
              "      (4): BatchNorm1d(50, eps=1e-05, momentum=0.1, affine=True, track_running_stats=True)\n",
              "      (5): Dropout(p=0.1)\n",
              "      (6): Linear(in_features=50, out_features=4, bias=True)\n",
              "    )\n",
              "  )\n",
              ")], add_time=True, silent=False, cb_fns_registered=False)\n",
              "alpha: 2\n",
              "beta: 1], layer_groups=[Sequential(\n",
              "  (0): Embedding(15000, 400, padding_idx=1)\n",
              "  (1): EmbeddingDropout(\n",
              "    (emb): Embedding(15000, 400, padding_idx=1)\n",
              "  )\n",
              "), Sequential(\n",
              "  (0): WeightDropout(\n",
              "    (module): LSTM(400, 1550, batch_first=True)\n",
              "  )\n",
              "  (1): RNNDropout()\n",
              "), Sequential(\n",
              "  (0): WeightDropout(\n",
              "    (module): LSTM(1550, 1550, batch_first=True)\n",
              "  )\n",
              "  (1): RNNDropout()\n",
              "), Sequential(\n",
              "  (0): WeightDropout(\n",
              "    (module): LSTM(1550, 1550, batch_first=True)\n",
              "  )\n",
              "  (1): RNNDropout()\n",
              "), Sequential(\n",
              "  (0): WeightDropout(\n",
              "    (module): LSTM(1550, 400, batch_first=True)\n",
              "  )\n",
              "  (1): RNNDropout()\n",
              "), Sequential(\n",
              "  (0): PoolingLinearClassifier(\n",
              "    (layers): Sequential(\n",
              "      (0): BatchNorm1d(1200, eps=1e-05, momentum=0.1, affine=True, track_running_stats=True)\n",
              "      (1): Dropout(p=0.27999999999999997)\n",
              "      (2): Linear(in_features=1200, out_features=50, bias=True)\n",
              "      (3): ReLU(inplace)\n",
              "      (4): BatchNorm1d(50, eps=1e-05, momentum=0.1, affine=True, track_running_stats=True)\n",
              "      (5): Dropout(p=0.1)\n",
              "      (6): Linear(in_features=50, out_features=4, bias=True)\n",
              "    )\n",
              "  )\n",
              ")], add_time=True, silent=False, cb_fns_registered=False)"
            ]
          },
          "metadata": {
            "tags": []
          },
          "execution_count": 40
        }
      ]
    },
    {
      "cell_type": "code",
      "metadata": {
        "colab_type": "code",
        "id": "pRgoPD766z6S",
        "colab": {}
      },
      "source": [
        "# #train unfrozen\n",
        "# learn.freeze_to(-1)\n",
        "# learn.fit_one_cycle(1, 2e-2, moms=(0.8, 0.7))\n",
        "# learn.freeze_to(-2)\n",
        "# learn.fit_one_cycle(1, slice(1e-2 / (2.6 ** 4), 1e-2), moms=(0.8, 0.7))\n",
        "# learn.freeze_to(-3)\n",
        "# learn.fit_one_cycle(1, slice(5e-3 / (2.6 ** 4), 5e-3), moms=(0.8, 0.7))\n",
        "# learn.unfreeze()\n",
        "# learn.fit_one_cycle(10, slice(1e-3 / (2.6 ** 4), 1e-3), moms=(0.8, 0.7),\n",
        "#                    callbacks=[SaveModelCallback(learn, every='improvement', monitor='accuracy', name='bestmodel')])"
      ],
      "execution_count": 0,
      "outputs": []
    },
    {
      "cell_type": "markdown",
      "metadata": {
        "colab_type": "text",
        "id": "w54ZOwk66z6U"
      },
      "source": [
        "Training takes about 20 minutes so we use the script `train_model.py` to do it with the following results (validation run):\n",
        "\n",
        "```\n",
        "epoch     train_loss  valid_loss  accuracy\n",
        "1         0.812156    0.753478    0.687532\n",
        "Total time: 00:56\n",
        "epoch     train_loss  valid_loss  accuracy\n",
        "1         0.740403    0.699093    0.714394\n",
        "Total time: 00:57\n",
        "epoch     train_loss  valid_loss  accuracy\n",
        "1         0.727394    0.668807    0.723011\n",
        "Total time: 01:34\n",
        "epoch     train_loss  valid_loss  accuracy\n",
        "1         0.722163    0.675351    0.723517\n",
        "2         0.675266    0.654477    0.738723\n",
        "3         0.669178    0.641070    0.737962\n",
        "4         0.612528    0.637456    0.744551\n",
        "5         0.618259    0.635149    0.749366\n",
        "6         0.572621    0.651169    0.749873\n",
        "7         0.561985    0.661739    0.747593\n",
        "8         0.534753    0.673563    0.738469\n",
        "9         0.530844    0.688871    0.746072\n",
        "10        0.522788    0.670024    0.743031\n",
        "Total time: 23:42\n",
        "```"
      ]
    },
    {
      "cell_type": "markdown",
      "metadata": {
        "colab_type": "text",
        "id": "vM--oaCJ6z6V"
      },
      "source": [
        "### See Results"
      ]
    },
    {
      "cell_type": "code",
      "metadata": {
        "colab_type": "code",
        "id": "eOCe24KL6z6W",
        "colab": {}
      },
      "source": [
        "learn.load(\"bestmodel\")\n",
        "\n",
        "#get predictions\n",
        "probs, y_true, loss = learn.get_preds(ds_type = DatasetType.Valid, ordered=True, with_loss=True)\n",
        "classes = learn.data.train_ds.classes\n",
        "y_true = np.array([classes[i] for i in y_true.numpy()])\n",
        "preds = np.array([classes[i] for i in probs.argmax(1).numpy()])\n",
        "prob = probs.numpy()\n",
        "loss = loss.numpy()"
      ],
      "execution_count": 0,
      "outputs": []
    },
    {
      "cell_type": "code",
      "metadata": {
        "colab_type": "code",
        "id": "LaJYU8f56z6Z",
        "outputId": "28603bc9-8cf5-4aba-cfee-836d4c6b5b91",
        "colab": {}
      },
      "source": [
        "to_df = np.concatenate([y_true[:,None],preds[:,None],loss[:,None],prob],1)\n",
        "probs_df = pd.DataFrame(to_df)\n",
        "probs_df.columns = [\"category\",\"preds\",\"loss\"] + classes\n",
        "probs_df[\"hit\"] = (probs_df.category == probs_df.preds)\n",
        "probs_df[\"texts\"] = valid_df.texts\n",
        "(y_true==preds).mean()"
      ],
      "execution_count": 0,
      "outputs": [
        {
          "output_type": "execute_result",
          "data": {
            "text/plain": [
              "0.8392661555312158"
            ]
          },
          "metadata": {
            "tags": []
          },
          "execution_count": 32
        }
      ]
    },
    {
      "cell_type": "code",
      "metadata": {
        "colab_type": "code",
        "id": "l_evHEMM6z6b",
        "outputId": "732e91f4-a281-4a70-bf3b-8c6d43cad41a",
        "colab": {}
      },
      "source": [
        "from sklearn.metrics import confusion_matrix\n",
        "import seaborn as sns\n",
        "\n",
        "conf_mat = confusion_matrix(probs_df.category,probs_df.preds)\n",
        "sns.heatmap(conf_mat, annot=True, fmt=\"d\",\n",
        "            xticklabels=classes, yticklabels=classes)\n",
        "plt.ylabel(\"Actual\")\n",
        "plt.xlabel(\"Predicted\")\n",
        "plt.show()"
      ],
      "execution_count": 0,
      "outputs": [
        {
          "output_type": "display_data",
          "data": {
            "image/png": "[encoded data removed]",
            "text/plain": [
              "<Figure size 432x288 with 2 Axes>"
            ]
          },
          "metadata": {
            "tags": [],
            "needs_background": "light"
          }
        }
      ]
    }
  ]
}